{
  "nbformat": 4,
  "nbformat_minor": 0,
  "metadata": {
    "colab": {
      "provenance": []
    },
    "kernelspec": {
      "name": "python3",
      "display_name": "Python 3"
    },
    "language_info": {
      "name": "python"
    }
  },
  "cells": [
    {
      "cell_type": "code",
      "source": [],
      "metadata": {
        "id": "EPaKBTbBth-H"
      },
      "execution_count": null,
      "outputs": []
    },
    {
      "cell_type": "markdown",
      "source": [
        "Do all the environment stuff in 1 cell, to avoid variable pain...\n",
        "\n",
        "\n",
        "---\n",
        "\n"
      ],
      "metadata": {
        "id": "7BpLXnfHe0Bj"
      }
    },
    {
      "cell_type": "code",
      "source": [
        "import os\n",
        "import sys\n",
        "from google.colab import drive\n",
        "#drive.mount('/content/drive')\n",
        "nbp=\"/content/drive/My Drive/Colab Notebooks\"\n",
        "sys.path.insert(0,nbp)\n",
        "os.chdir(nbp)\n",
        "!pwd"
      ],
      "metadata": {
        "colab": {
          "base_uri": "https://localhost:8080/"
        },
        "id": "BzWXHMqbe8n1",
        "outputId": "8ea67954-ec8f-4640-ce3f-dad670bf0c39"
      },
      "execution_count": 33,
      "outputs": [
        {
          "output_type": "stream",
          "name": "stdout",
          "text": [
            "/content/drive/My Drive/Colab Notebooks\n"
          ]
        }
      ]
    },
    {
      "cell_type": "code",
      "source": [
        "!pwd\n",
        "print(\"----------------\")\n",
        "%ls\n",
        "print(\"----------------\\n\")\n",
        "%cat caller.py\n",
        "print(\"XXXXXXXXXXXXXXXXXXXXXXX\")\n",
        "%run caller.py\n",
        "print(\"XXXXXXXXXXXXXXXXXXXXXXX\")"
      ],
      "metadata": {
        "colab": {
          "base_uri": "https://localhost:8080/"
        },
        "id": "Ebyh_ShlgLXu",
        "outputId": "b49a2cd2-5198-4b4a-fc1d-d26c94e56de5"
      },
      "execution_count": 34,
      "outputs": [
        {
          "output_type": "stream",
          "name": "stdout",
          "text": [
            "/content/drive/MyDrive/Colab Notebooks\n",
            "----------------\n",
            "callee.py  caller.py  irving.ipynb  \u001b[0m\u001b[01;34m__pycache__\u001b[0m/\n",
            "----------------\n",
            "\n",
            "import sys    \n",
            "\n",
            "import callee\n",
            "\n",
            "print(\"I am the caller. This is caller.py. I have imported callee(.py) and will call the function [aardvark]\")\n",
            "callee.aardvark()\n",
            "#print(\"In module products __package__, __name__ ==\", __package__, __name__)\n",
            "#print(\"In module products sys.path[0], __package__ ==\", sys.path[0], __package__)XXXXXXXXXXXXXXXXXXXXXXX\n",
            "I am the caller. This is caller.py. I have imported callee(.py) and will call the function [aardvark]\n",
            "This is callee(.py), in the function [aardvark]\n",
            "XXXXXXXXXXXXXXXXXXXXXXX\n"
          ]
        }
      ]
    }
  ]
}