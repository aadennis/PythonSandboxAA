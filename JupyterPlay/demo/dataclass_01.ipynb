{
 "cells": [
  {
   "cell_type": "code",
   "execution_count": 8,
   "id": "2785a08b-8bf6-4e6b-afab-ccd2384d7caf",
   "metadata": {},
   "outputs": [
    {
     "name": "stdout",
     "output_type": "stream",
     "text": [
      "DataClassCard(rank='king', suit='hearts')\n",
      "DataClassCard(rank='kingx', suit='hearts')\n",
      "False\n",
      "[DataClassCard(rank='king', suit='hearts'), DataClassCard(rank='kingx', suit='hearts')]\n"
     ]
    }
   ],
   "source": [
    "from dataclasses import dataclass\n",
    "\n",
    "@dataclass\n",
    "class DataClassCard:\n",
    "    rank: str\n",
    "    suit: str\n",
    "\n",
    "card1 = DataClassCard(\"king\",\"hearts\")\n",
    "print(card1)\n",
    "card2 = DataClassCard(\"kingx\",\"hearts\")\n",
    "print(card2)\n",
    "result = card1 == card2\n",
    "print(result)\n",
    "\n",
    "cards = []\n",
    "cards.append(card1)\n",
    "cards.append(card2)\n",
    "print(cards)\n"
   ]
  },
  {
   "cell_type": "code",
   "execution_count": null,
   "id": "658fbc55-d2ce-4c23-91ab-42e2267868e8",
   "metadata": {},
   "outputs": [],
   "source": []
  }
 ],
 "metadata": {
  "kernelspec": {
   "display_name": "Python 3 (ipykernel)",
   "language": "python",
   "name": "python3"
  },
  "language_info": {
   "codemirror_mode": {
    "name": "ipython",
    "version": 3
   },
   "file_extension": ".py",
   "mimetype": "text/x-python",
   "name": "python",
   "nbconvert_exporter": "python",
   "pygments_lexer": "ipython3",
   "version": "3.12.2"
  }
 },
 "nbformat": 4,
 "nbformat_minor": 5
}
