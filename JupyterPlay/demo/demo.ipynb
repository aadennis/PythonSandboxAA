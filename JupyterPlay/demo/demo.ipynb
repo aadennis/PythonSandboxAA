{
 "cells": [
  {
   "cell_type": "raw",
   "id": "bb328c5a-ebad-4c14-a270-c5d61d508b44",
   "metadata": {},
   "source": [
    "remove empty lines\n",
    "remove lines starting with High\n",
    "remove lines starting with Low\n",
    "remove lines starting with a \"-\"\n"
   ]
  },
  {
   "cell_type": "code",
   "execution_count": 53,
   "id": "6b67981c-08ab-4548-8c96-e8ab069b7232",
   "metadata": {
    "editable": true,
    "slideshow": {
     "slide_type": ""
    },
    "tags": []
   },
   "outputs": [
    {
     "name": "stdout",
     "output_type": "stream",
     "text": [
      "['line 1\\n', 'Low stuff and\\n', '-\\n', 'High things do\\n', 'line 2\\n', '-\\n', '-\\n', 'low yet more\\n', 'line 3\\n', '\\n', 'line 4\\n', '-\\n']\n"
     ]
    }
   ],
   "source": [
    "# pip install regex\n",
    "import re\n",
    "with open(\"./hydro_summary01.txt\",\"r\") as infile:\n",
    "    lines = infile.readlines()\n",
    "print(lines)\n"
   ]
  },
  {
   "cell_type": "code",
   "execution_count": 54,
   "id": "0b519455-38ee-4fa1-a0c9-b2a329568dee",
   "metadata": {},
   "outputs": [
    {
     "name": "stdout",
     "output_type": "stream",
     "text": [
      "['line 1', 'Low stuff and', '-', 'High things do', 'line 2', '-', '-', 'low yet more', 'line 3', '', 'line 4', '-']\n"
     ]
    }
   ],
   "source": [
    "cleaned_linesv1 = [line.strip() for line in lines]\n",
    "print(cleaned_linesv1)"
   ]
  },
  {
   "cell_type": "code",
   "execution_count": 55,
   "id": "8b6b12ea-1605-47e8-b08d-adb041ca451d",
   "metadata": {},
   "outputs": [
    {
     "name": "stdout",
     "output_type": "stream",
     "text": [
      "['line 1', 'Low stuff and', 'High things do', 'line 2', 'low yet more', 'line 3', 'line 4']\n"
     ]
    }
   ],
   "source": [
    "cleaned_lines = [line.strip() for line in lines if line.strip() and not re.search(r\"-\", line)]\n",
    "print(cleaned_lines)"
   ]
  },
  {
   "cell_type": "code",
   "execution_count": 56,
   "id": "4f027468-52d9-4e36-97f6-44eecc9d0758",
   "metadata": {},
   "outputs": [
    {
     "name": "stdout",
     "output_type": "stream",
     "text": [
      "['line 1', 'line 2', 'low yet more', 'line 3', 'line 4']\n"
     ]
    }
   ],
   "source": [
    "no_high_lows = [line for line in cleaned_lines if not line.startswith((\"Low\",\"High\"))]\n",
    "print(no_high_lows)"
   ]
  },
  {
   "cell_type": "code",
   "execution_count": 57,
   "id": "c0a8fc9f-e7ab-4355-bc1f-2a09885560b8",
   "metadata": {},
   "outputs": [
    {
     "name": "stdout",
     "output_type": "stream",
     "text": [
      "['line 1', 'line 2', 'line 3', 'line 4']\n"
     ]
    }
   ],
   "source": [
    "no_high_lows_ci = [line for line in cleaned_lines if not line.lower().startswith((\"low\",\"high\"))]\n",
    "print(no_high_lows_ci)"
   ]
  },
  {
   "cell_type": "code",
   "execution_count": null,
   "id": "28dd5622-fa3e-4e08-bc8c-9b05398b642f",
   "metadata": {},
   "outputs": [],
   "source": []
  }
 ],
 "metadata": {
  "kernelspec": {
   "display_name": "Python 3 (ipykernel)",
   "language": "python",
   "name": "python3"
  },
  "language_info": {
   "codemirror_mode": {
    "name": "ipython",
    "version": 3
   },
   "file_extension": ".py",
   "mimetype": "text/x-python",
   "name": "python",
   "nbconvert_exporter": "python",
   "pygments_lexer": "ipython3",
   "version": "3.12.0"
  }
 },
 "nbformat": 4,
 "nbformat_minor": 5
}
