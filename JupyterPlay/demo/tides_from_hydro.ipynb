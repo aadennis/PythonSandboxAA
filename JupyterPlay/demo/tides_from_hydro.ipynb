{
 "cells": [
  {
   "cell_type": "markdown",
   "id": "a92b49e8",
   "metadata": {},
   "source": [
    "# Getting structured tides from hydrographic data\n",
    "\n",
    "<hr>\n",
    "\n",
    "## Requirement\n",
    "\n",
    "Starting with hydrographic html for a given location <sub>see [OneNote 08.2024 tide times]</sub>, build structured tide data for a set of dates\n",
    "# Getting structured tides from hydrographic data\n",
    "\n",
    "<hr>\n",
    "\n",
    "## Requirement\n",
    "\n",
    "Starting with hydrographic html for a given location <sub>see [OneNote 08.2024 tide times]</sub>, build structured tide data for a set of dates.  \n",
    "Against <code>TIME_TIME_DATA_FILE</code> below, enter the data file for the 7 day tides window.\n",
    "\n"
   ]
  },
  {
   "cell_type": "code",
   "execution_count": 77,
   "id": "c8c27520",
   "metadata": {},
   "outputs": [],
   "source": [
    "TIDE_TIME_DATA_FILE = \"./tides_002_end_Sep2024.txt\""
   ]
  },
  {
   "cell_type": "markdown",
   "id": "5dc82df1",
   "metadata": {},
   "source": [
    "\n",
    "\n",
    "## Entities\n",
    "\n",
    "<hr>\n",
    "\n",
    "### Entity: TideForDay\n",
    "\n",
    "| property | value |\n",
    "|:-------------|----|\n",
    "| Definition | The collection of TideMarks for a given calendar day |\n",
    "| Key | t_date |\n",
    "| Cardinalities | 1-M TideMark |\n",
    "\n",
    "#### Data attributes\n",
    "\n",
    "| Name | aka | data type | Definition |\n",
    "|:-------------|----|-------|:-------------|\n",
    "| t_date | Tide Date | int | UID of the tide for a given day. Strictly an alternate key , but no need for surrogates here. Not \\\"date\\\" due to keyword conflict. This is the date, but does not include the month and year. That is added during the output to csv stage |\n",
    "| tidal_range | Tidal Range | float | The distance between the minimum low water mark, and the maximum high water mark, for that day |\n",
    "\n",
    "<p>\n",
    "<hr>\n",
    "<p>\n",
    "\n",
    "### Entity: TideMark\n",
    "\n",
    "| property | value |\n",
    "|:-------------|----|\n",
    "| Definition | One of the set of tidemarks for a given day. A tidemark is the data related to the sea reaching a high- or low-water mark.  |\n",
    "| Key | t_date, t_seq |\n",
    "| Cardinalities | 1-1 with TideForDay |\n",
    "\n",
    "\n",
    "\n",
    "#### Data attributes\n",
    "\n",
    " \n",
    "| Name | aka | data type | Definition |\n",
    "|:-------------|----|-------|:-------------|\n",
    "| t_date | Tide Date | int | The date of the tide, but not the month or year. See TideMark.t_date|\n",
    "| t_seq | Tide Sequence | int | When does this tidemark happen relative to other tidemarks in the day. If it is the first after midnight, its sequence is 1 |\n",
    "| t_type | Tide Type | string | Is this is a high tide, or a low tide. Must be one of 'High' or 'Low' |\n",
    "| t_height | Tide Height | float | tide height in metres, to 1 decimal place |\n",
    "| t_time | Tide Time | datetime | The time when the high/low water mark occurs |\n",
    "\n"
   ]
  },
  {
   "cell_type": "markdown",
   "id": "fd1c85df",
   "metadata": {},
   "source": [
    "<hr>"
   ]
  },
  {
   "cell_type": "code",
   "execution_count": 78,
   "id": "6b67981c-08ab-4548-8c96-e8ab069b7232",
   "metadata": {
    "editable": true,
    "slideshow": {
     "slide_type": ""
    },
    "tags": []
   },
   "outputs": [],
   "source": [
    "# pip install regex\n",
    "import re\n",
    "from pprint import pprint as pp\n",
    "from dataclasses import dataclass\n",
    "from datetime import datetime\n",
    "\n",
    "@dataclass\n",
    "class TideMark:\n",
    "    t_date: int\n",
    "    t_seq: int\n",
    "    t_type: str # High or Low\n",
    "    t_height: float\n",
    "    t_time: datetime\n",
    "\n",
    "@dataclass\n",
    "class TideForDay:\n",
    "    t_date: int\n",
    "    tidal_range: float \n",
    "\n",
    "\n",
    "tide_marks = []\n",
    "tides = []\n",
    "\n",
    "with open(TIDE_TIME_DATA_FILE,\"r\") as infile:\n",
    "    lines = infile.readlines()\n",
    "\n"
   ]
  },
  {
   "cell_type": "code",
   "execution_count": 79,
   "id": "0b519455-38ee-4fa1-a0c9-b2a329568dee",
   "metadata": {},
   "outputs": [
    {
     "name": "stdout",
     "output_type": "stream",
     "text": [
      "['Low Water\\tHigh Water', 'Sat 28 Sep', 'High Water of 2.7 metres, at 04:24.', 'Low Water of 1.4 metres, at 09:48.', 'High Water of 3.0 metres, at 16:40.', 'Low Water of 1.1 metres, at 22:43.\\t-', 'Sun 29 Sep', 'High Water of 3.1 metres, at 05:31.', 'Low Water of 1.1 metres, at 10:56.', 'High Water of 3.4 metres, at 17:40.', 'Low Water of 0.8 metres, at 23:35.\\t-', 'Mon 30 Sep', 'High Water of 3.4 metres, at 06:14.', 'Low Water of 0.9 metres, at 11:48.', 'High Water of 3.7 metres, at 18:24.\\t-\\t-']\n"
     ]
    }
   ],
   "source": [
    "# Data example:\n",
    "# Sun 04 AugNew moon on this day\n",
    "# High Water of 3.7 metres, at 19:59.\n",
    "\n",
    "# Remove any blank lines, then I only want lines that start with the values in ok_search_terms\n",
    "# Where a value is Sun, Mon, etc, subsequent records refer to the low or high-water times for\n",
    "# that day... until you hit a new day. Etc.\n",
    "ok_search_terms = (\"Low\",\"High\",\"Fri\",\"Sat\",\"Sun\",\"Mon\",\"Tue\",\"Wed\",\"Thur\")\n",
    "#remove non-printing chars - typically tab etc\n",
    "cleaned_lines = [line.strip() for line in lines]\n",
    "high_lows = [line for line in cleaned_lines if line.startswith(ok_search_terms)]\n",
    "print(high_lows)"
   ]
  },
  {
   "cell_type": "code",
   "execution_count": 80,
   "id": "c0a8fc9f-e7ab-4355-bc1f-2a09885560b8",
   "metadata": {},
   "outputs": [
    {
     "name": "stdout",
     "output_type": "stream",
     "text": [
      "[TideMark(t_date=28, t_seq=0, t_type='High', t_height='2.7', t_time='04:24'),\n",
      " TideMark(t_date=28, t_seq=1, t_type='Low', t_height='1.4', t_time='09:48'),\n",
      " TideMark(t_date=28, t_seq=2, t_type='High', t_height='3.0', t_time='16:40'),\n",
      " TideMark(t_date=28, t_seq=3, t_type='Low', t_height='1.1', t_time='22:43'),\n",
      " TideMark(t_date=29, t_seq=0, t_type='High', t_height='3.1', t_time='05:31'),\n",
      " TideMark(t_date=29, t_seq=1, t_type='Low', t_height='1.1', t_time='10:56'),\n",
      " TideMark(t_date=29, t_seq=2, t_type='High', t_height='3.4', t_time='17:40'),\n",
      " TideMark(t_date=29, t_seq=3, t_type='Low', t_height='0.8', t_time='23:35'),\n",
      " TideMark(t_date=30, t_seq=0, t_type='High', t_height='3.4', t_time='06:14'),\n",
      " TideMark(t_date=30, t_seq=1, t_type='Low', t_height='0.9', t_time='11:48'),\n",
      " TideMark(t_date=30, t_seq=2, t_type='High', t_height='3.7', t_time='18:24')]\n"
     ]
    }
   ],
   "source": [
    "for line in high_lows:\n",
    "    words = line.split()\n",
    "\n",
    "    # If the sentence starts with Sun, Mon, etc, then subsequent records are\n",
    "    # high/low water times. Keep words 1 (base 0)\n",
    "    # (date, but not day). Month and year will be entered downstream\n",
    "    if words[0] in (\"Sun\",\"Mon\",\"Tues\",\"Weds\",\"Thurs\",\"Fri\",\"Sat\"):\n",
    "        curr_date = int(words[1])\n",
    "        curr_seq = 0\n",
    "        # new record required\n",
    "        \n",
    "        continue\n",
    "    # After previous block, 7 or more words means a High or Low water sentence. \n",
    "    # Words 0 (base zero), 3 and 6 are respectively High/Low, tide-height, and \n",
    "    # time. Other words and characters are discarded\n",
    "    if len(words) >= 7:\n",
    "       \n",
    "        curr_type = words[0]\n",
    "        curr_time = words[6].rstrip('.')\n",
    "        curr_height = words[3]\n",
    "        # dataclass populates here:\n",
    "        tide_mark = TideMark(curr_date, curr_seq, curr_type, curr_height, curr_time)\n",
    "        tide_marks.append(tide_mark)\n",
    "        #print(tide_mark)\n",
    "        curr_seq += 1\n",
    "        continue     \n",
    "\n",
    "\n",
    "pp(tide_marks)\n"
   ]
  },
  {
   "cell_type": "code",
   "execution_count": 81,
   "id": "28dd5622-fa3e-4e08-bc8c-9b05398b642f",
   "metadata": {},
   "outputs": [
    {
     "name": "stdout",
     "output_type": "stream",
     "text": [
      "[28, 29, 30]\n",
      "[TideMark(t_date=28, t_seq=0, t_type='High', t_height='2.7', t_time='04:24'),\n",
      " TideMark(t_date=28, t_seq=1, t_type='Low', t_height='1.4', t_time='09:48'),\n",
      " TideMark(t_date=28, t_seq=2, t_type='High', t_height='3.0', t_time='16:40'),\n",
      " TideMark(t_date=28, t_seq=3, t_type='Low', t_height='1.1', t_time='22:43'),\n",
      " TideMark(t_date=29, t_seq=0, t_type='High', t_height='3.1', t_time='05:31'),\n",
      " TideMark(t_date=29, t_seq=1, t_type='Low', t_height='1.1', t_time='10:56'),\n",
      " TideMark(t_date=29, t_seq=2, t_type='High', t_height='3.4', t_time='17:40'),\n",
      " TideMark(t_date=29, t_seq=3, t_type='Low', t_height='0.8', t_time='23:35'),\n",
      " TideMark(t_date=30, t_seq=0, t_type='High', t_height='3.4', t_time='06:14'),\n",
      " TideMark(t_date=30, t_seq=1, t_type='Low', t_height='0.9', t_time='11:48'),\n",
      " TideMark(t_date=30, t_seq=2, t_type='High', t_height='3.7', t_time='18:24')]\n",
      "[(28, 0, 'High', 2.7, '04:24'),\n",
      " (28, 1, 'Low', 1.4, '09:48'),\n",
      " (28, 2, 'High', 3.0, '16:40'),\n",
      " (28, 3, 'Low', 1.1, '22:43'),\n",
      " (29, 0, 'High', 3.1, '05:31'),\n",
      " (29, 1, 'Low', 1.1, '10:56'),\n",
      " (29, 2, 'High', 3.4, '17:40'),\n",
      " (29, 3, 'Low', 0.8, '23:35'),\n",
      " (30, 0, 'High', 3.4, '06:14'),\n",
      " (30, 1, 'Low', 0.9, '11:48'),\n",
      " (30, 2, 'High', 3.7, '18:24')]\n",
      "{28: {'High': 3.0, 'Low': 1.1},\n",
      " 29: {'High': 3.4, 'Low': 0.8},\n",
      " 30: {'High': 3.7, 'Low': 0.9}}\n"
     ]
    }
   ],
   "source": [
    "# Initialize a dictionary to store the highest and lowest heights for each date\n",
    "heights_by_date = {}\n",
    "\n",
    "# Get a sorted list of the unique dates for this set of tides. \n",
    "# Example: [4, 5, 6, 7]\n",
    "unique_dates = list(set(int(mark.t_date) for mark in tide_marks))\n",
    "unique_dates.sort()\n",
    "pp(unique_dates)\n",
    "water_marks = {}\n",
    "for d in unique_dates:\n",
    "    water_marks[d] = {'Low':100,'High':-100}\n",
    "\n",
    "pp(tide_marks)\n",
    "\n",
    "tide_heights = [(int(mark.t_date), mark.t_seq, mark.t_type, float(mark.t_height), mark.t_time) for mark in tide_marks]\n",
    "\n",
    "pp(tide_heights)\n",
    "\n",
    "for test_tide in tide_heights:\n",
    "    test_date = test_tide[0]\n",
    "    test_type = test_tide[2]\n",
    "    new_height = test_tide[3]\n",
    "    \n",
    "    if  test_type == 'Low':\n",
    "        if  new_height < water_marks[test_date][test_type]:\n",
    "            water_marks[test_date][test_type] = new_height\n",
    "    else: # High\n",
    "        if  new_height > water_marks[test_date][test_type]:\n",
    "            water_marks[test_date][test_type] = new_height\n",
    "\n",
    "pp(water_marks)\n",
    "    "
   ]
  },
  {
   "cell_type": "code",
   "execution_count": 82,
   "id": "a1fe2742-4d5c-49e6-a398-ca4a577567d8",
   "metadata": {},
   "outputs": [
    {
     "name": "stdout",
     "output_type": "stream",
     "text": [
      "{28: {'High': 3.0, 'Low': 1.1, 'TidalRange': 1.9},\n",
      " 29: {'High': 3.4, 'Low': 0.8, 'TidalRange': 2.6},\n",
      " 30: {'High': 3.7, 'Low': 0.9, 'TidalRange': 2.8}}\n"
     ]
    }
   ],
   "source": [
    "# get the tidal range\n",
    "for i in water_marks:\n",
    "    t_high = water_marks[i]['High']\n",
    "    t_low = water_marks[i]['Low']\n",
    "    water_marks[i]['TidalRange'] = round(t_high - t_low,2)\n",
    "pp(water_marks)"
   ]
  },
  {
   "cell_type": "code",
   "execution_count": 83,
   "id": "e9590f56-f3b1-4ce6-9d2a-1fad73146512",
   "metadata": {},
   "outputs": [
    {
     "name": "stdout",
     "output_type": "stream",
     "text": [
      "[TideForDay(t_date=28, tidal_range=1.9),\n",
      " TideForDay(t_date=29, tidal_range=2.6),\n",
      " TideForDay(t_date=30, tidal_range=2.8)]\n",
      "[TideMark(t_date=28, t_seq=0, t_type='High', t_height='2.7', t_time='04:24'),\n",
      " TideMark(t_date=28, t_seq=1, t_type='Low', t_height='1.4', t_time='09:48'),\n",
      " TideMark(t_date=28, t_seq=2, t_type='High', t_height='3.0', t_time='16:40'),\n",
      " TideMark(t_date=28, t_seq=3, t_type='Low', t_height='1.1', t_time='22:43'),\n",
      " TideMark(t_date=29, t_seq=0, t_type='High', t_height='3.1', t_time='05:31'),\n",
      " TideMark(t_date=29, t_seq=1, t_type='Low', t_height='1.1', t_time='10:56'),\n",
      " TideMark(t_date=29, t_seq=2, t_type='High', t_height='3.4', t_time='17:40'),\n",
      " TideMark(t_date=29, t_seq=3, t_type='Low', t_height='0.8', t_time='23:35'),\n",
      " TideMark(t_date=30, t_seq=0, t_type='High', t_height='3.4', t_time='06:14'),\n",
      " TideMark(t_date=30, t_seq=1, t_type='Low', t_height='0.9', t_time='11:48'),\n",
      " TideMark(t_date=30, t_seq=2, t_type='High', t_height='3.7', t_time='18:24')]\n"
     ]
    }
   ],
   "source": [
    "# populate the tide_day class from the dictionary\n",
    "tidal_ranges_by_date = [TideForDay(t_date=key, tidal_range=value['TidalRange']) for key, value in water_marks.items()]\n",
    "pp(tidal_ranges_by_date)\n",
    "pp(tide_marks)\n"
   ]
  },
  {
   "cell_type": "code",
   "execution_count": 84,
   "id": "bfa57c46-dbb3-4e9d-a7b2-229181a00183",
   "metadata": {},
   "outputs": [],
   "source": [
    "# Given a date, add the month and year to which this applies\n",
    "def add_month_year(t_date):\n",
    "    month = \"09\"\n",
    "    year = \"2024\"\n",
    "    return f\"{t_date}/{month}/{year}\"\n",
    "    \n",
    "    "
   ]
  },
  {
   "cell_type": "code",
   "execution_count": 85,
   "id": "24941c56-784a-4c88-a7ff-0d5ca4e39681",
   "metadata": {},
   "outputs": [
    {
     "name": "stdout",
     "output_type": "stream",
     "text": [
      "('28/09/2024,1.9,Low,09:48,1.4,High,16:40,3.0\\n'\n",
      " '29/09/2024,2.6,Low,10:56,1.1,High,17:40,3.4\\n'\n",
      " '30/09/2024,2.8,High,06:14,3.4,Low,11:48,0.9\\n')\n"
     ]
    }
   ],
   "source": [
    "# Now that the objects are populated, we can loop over these to\n",
    "# create the csv for importing into a spreadsheet\n",
    "# I want 2 tides per day, the \"usable\" tides, when I have a chance of\n",
    "# getting down to the sea. There are 3 or 4 water marks in a calendar\n",
    "# day. Take the first 2 that occur after say 0600.\n",
    "# Drive the loop from the parent class\n",
    "\n",
    "tides_as_csv = \"\"\n",
    "x = \"\"\n",
    "for i in tidal_ranges_by_date:\n",
    "    \n",
    "    #print(i)\n",
    "    x += f\"{add_month_year(i.t_date)},{i.tidal_range}\"\n",
    "    m = [mark for mark in tide_marks if mark.t_date == i.t_date and mark.t_time > \"06:00\"]\n",
    "    sorted_marks = sorted(m, key=lambda x: x.t_seq, reverse=False)\n",
    "    tide_count = 0\n",
    "    for sorted_mark in sorted_marks:\n",
    "        if tide_count < 2:\n",
    "            x += f\",{sorted_mark.t_type},{sorted_mark.t_time},{sorted_mark.t_height}\"\n",
    "        tide_count += 1\n",
    "    x += \"\\n\"\n",
    "    \n",
    "    # print(\"m------------\")\n",
    "    # print(m)\n",
    "    # print(\"------------\")\n",
    "    # print(sorted_marks)\n",
    "    \n",
    "pp(x)    \n",
    "# 02,High,2.5,05:53,3.1,Low,11:31,0.9,High,18:18,3.4,\n",
    "# 03,Low,2.8,00:15,0.8,High,06:56,3.3,Low,12:32,0.8,High,19:13,3.6,\n",
    "# 04,Low,3.0,01:08,0.7,High,07:46,3.4,Low,13:21,0.7,High,19:59,3.7,\n",
    "# 05,Low,3.2,01:53,0.6,High,08:28,3.5,Low,14:03,0.6,High,20:37,3.8,\n",
    "# 06,Low,3.2,02:33,0.6,High,09:01,3.5,Low,14:39,0.6,High,21:08,3.8,\n",
    "# 07,Low,3.1,03:06,0.6,High,09:28,3.5,Low,15:10,0.6,High,21:33,3.7,\n",
    "# 08,Low,2.9,03:33,0.6,High,09:49,3.5,Low,15:36,0.6,"
   ]
  }
 ],
 "metadata": {
  "kernelspec": {
   "display_name": "Python 3 (ipykernel)",
   "language": "python",
   "name": "python3"
  },
  "language_info": {
   "codemirror_mode": {
    "name": "ipython",
    "version": 3
   },
   "file_extension": ".py",
   "mimetype": "text/x-python",
   "name": "python",
   "nbconvert_exporter": "python",
   "pygments_lexer": "ipython3",
   "version": "3.12.2"
  }
 },
 "nbformat": 4,
 "nbformat_minor": 5
}
