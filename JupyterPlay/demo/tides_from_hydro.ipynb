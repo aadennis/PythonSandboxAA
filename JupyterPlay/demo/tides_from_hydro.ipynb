{
 "cells": [
  {
   "cell_type": "raw",
   "id": "bb328c5a-ebad-4c14-a270-c5d61d508b44",
   "metadata": {},
   "source": [
    "Only keep lines starting with High or Low\n"
   ]
  },
  {
   "cell_type": "code",
   "execution_count": 240,
   "id": "6b67981c-08ab-4548-8c96-e8ab069b7232",
   "metadata": {
    "editable": true,
    "slideshow": {
     "slide_type": ""
    },
    "tags": []
   },
   "outputs": [
    {
     "name": "stdout",
     "output_type": "stream",
     "text": [
      "['Fri 02 Aug\\t\\n', '05:53\\n', '\\n', '3.1m\\n', '\\n', 'High Water of 3.1 metres, at 05:53.\\t\\n', '11:31\\n', '\\n', '0.9m\\n', '\\n', 'Low Water of 0.9 metres, at 11:31.\\t\\n', '18:18\\n', '\\n', '3.4m\\n', '\\n', 'High Water of 3.4 metres, at 18:18.\\t-\\t-\\n', 'Sat 03 Aug\\t-\\t\\n', '00:15\\n', '\\n', '0.8m\\n', '\\n', 'Low Water of 0.8 metres, at 00:15.\\t\\n', '06:56\\n', '\\n', '3.3m\\n', '\\n', 'High Water of 3.3 metres, at 06:56.\\t\\n', '12:32\\n', '\\n', '0.8m\\n', '\\n', 'Low Water of 0.8 metres, at 12:32.\\t\\n', '19:13\\n', '\\n', '3.6m\\n', '\\n', 'High Water of 3.6 metres, at 19:13.\\n', 'Sun 04 AugNew moon on this day\\t-\\t\\n', '01:08\\n', '\\n', '0.7m\\n', '\\n', 'Low Water of 0.7 metres, at 01:08.\\t\\n', '07:46\\n', '\\n', '3.4m\\n', '\\n', 'High Water of 3.4 metres, at 07:46.\\t\\n', '13:21\\n', '\\n', '0.7m\\n', '\\n', 'Low Water of 0.7 metres, at 13:21.\\t\\n', '19:59\\n', '\\n', '3.7m\\n', '\\n', 'High Water of 3.7 metres, at 19:59.\\n', 'Mon 05 Aug\\t-\\t\\n', '01:53\\n', '\\n', '0.6m\\n', '\\n', 'Low Water of 0.6 metres, at 01:53.\\t\\n', '08:28\\n', '\\n', '3.5m\\n', '\\n', 'High Water of 3.5 metres, at 08:28.\\t\\n', '14:03\\n', '\\n', '0.6m\\n', '\\n', 'Low Water of 0.6 metres, at 14:03.\\t\\n', '20:37\\n', '\\n', '3.8m\\n', '\\n', 'High Water of 3.8 metres, at 20:37.\\n', 'Tues 06 Aug\\t-\\t\\n', '02:33\\n', '\\n', '0.6m\\n', '\\n', 'Low Water of 0.6 metres, at 02:33.\\t\\n', '09:01\\n', '\\n', '3.5m\\n', '\\n', 'High Water of 3.5 metres, at 09:01.\\t\\n', '14:39\\n', '\\n', '0.6m\\n', '\\n', 'Low Water of 0.6 metres, at 14:39.\\t\\n', '21:08\\n', '\\n', '3.8m\\n', '\\n', 'High Water of 3.8 metres, at 21:08.\\n', 'Weds 07 Aug\\t-\\t\\n', '03:06\\n', '\\n', '0.6m\\n', '\\n', 'Low Water of 0.6 metres, at 03:06.\\t\\n', '09:28\\n', '\\n', '3.5m\\n', '\\n', 'High Water of 3.5 metres, at 09:28.\\t\\n', '15:10\\n', '\\n', '0.6m\\n', '\\n', 'Low Water of 0.6 metres, at 15:10.\\t\\n', '21:33\\n', '\\n', '3.7m\\n', '\\n', 'High Water of 3.7 metres, at 21:33.\\n', 'Thurs 08 Aug\\t-\\t\\n', '03:33\\n', '\\n', '0.6m\\n', '\\n', 'Low Water of 0.6 metres, at 03:33.\\t\\n', '09:49\\n', '\\n', '3.5m\\n', '\\n', 'High Water of 3.5 metres, at 09:49.\\t\\n', '15:36\\n', '\\n', '0.6m\\n', '\\n', 'Low Water of 0.6 metres, at 15:36.\\t\\n', '21:55\\n', '\\n', '3.7m\\n']\n"
     ]
    }
   ],
   "source": [
    "# pip install regex\n",
    "import re\n",
    "with open(\"./hydro_summary02.txt\",\"r\") as infile:\n",
    "    lines = infile.readlines()\n",
    "print(lines)\n"
   ]
  },
  {
   "cell_type": "code",
   "execution_count": 241,
   "id": "0b519455-38ee-4fa1-a0c9-b2a329568dee",
   "metadata": {},
   "outputs": [
    {
     "name": "stdout",
     "output_type": "stream",
     "text": [
      "['Fri 02 Aug', '05:53', '', '3.1m', '', 'High Water of 3.1 metres, at 05:53.', '11:31', '', '0.9m', '', 'Low Water of 0.9 metres, at 11:31.', '18:18', '', '3.4m', '', 'High Water of 3.4 metres, at 18:18.\\t-\\t-', 'Sat 03 Aug\\t-', '00:15', '', '0.8m', '', 'Low Water of 0.8 metres, at 00:15.', '06:56', '', '3.3m', '', 'High Water of 3.3 metres, at 06:56.', '12:32', '', '0.8m', '', 'Low Water of 0.8 metres, at 12:32.', '19:13', '', '3.6m', '', 'High Water of 3.6 metres, at 19:13.', 'Sun 04 AugNew moon on this day\\t-', '01:08', '', '0.7m', '', 'Low Water of 0.7 metres, at 01:08.', '07:46', '', '3.4m', '', 'High Water of 3.4 metres, at 07:46.', '13:21', '', '0.7m', '', 'Low Water of 0.7 metres, at 13:21.', '19:59', '', '3.7m', '', 'High Water of 3.7 metres, at 19:59.', 'Mon 05 Aug\\t-', '01:53', '', '0.6m', '', 'Low Water of 0.6 metres, at 01:53.', '08:28', '', '3.5m', '', 'High Water of 3.5 metres, at 08:28.', '14:03', '', '0.6m', '', 'Low Water of 0.6 metres, at 14:03.', '20:37', '', '3.8m', '', 'High Water of 3.8 metres, at 20:37.', 'Tues 06 Aug\\t-', '02:33', '', '0.6m', '', 'Low Water of 0.6 metres, at 02:33.', '09:01', '', '3.5m', '', 'High Water of 3.5 metres, at 09:01.', '14:39', '', '0.6m', '', 'Low Water of 0.6 metres, at 14:39.', '21:08', '', '3.8m', '', 'High Water of 3.8 metres, at 21:08.', 'Weds 07 Aug\\t-', '03:06', '', '0.6m', '', 'Low Water of 0.6 metres, at 03:06.', '09:28', '', '3.5m', '', 'High Water of 3.5 metres, at 09:28.', '15:10', '', '0.6m', '', 'Low Water of 0.6 metres, at 15:10.', '21:33', '', '3.7m', '', 'High Water of 3.7 metres, at 21:33.', 'Thurs 08 Aug\\t-', '03:33', '', '0.6m', '', 'Low Water of 0.6 metres, at 03:33.', '09:49', '', '3.5m', '', 'High Water of 3.5 metres, at 09:49.', '15:36', '', '0.6m', '', 'Low Water of 0.6 metres, at 15:36.', '21:55', '', '3.7m']\n"
     ]
    }
   ],
   "source": [
    "cleaned_lines = [line.strip() for line in lines]\n",
    "print(cleaned_lines)"
   ]
  },
  {
   "cell_type": "code",
   "execution_count": 242,
   "id": "4f027468-52d9-4e36-97f6-44eecc9d0758",
   "metadata": {},
   "outputs": [
    {
     "name": "stdout",
     "output_type": "stream",
     "text": [
      "['Fri 02 Aug', 'High Water of 3.1 metres, at 05:53.', 'Low Water of 0.9 metres, at 11:31.', 'High Water of 3.4 metres, at 18:18.\\t-\\t-', 'Sat 03 Aug\\t-', 'Low Water of 0.8 metres, at 00:15.', 'High Water of 3.3 metres, at 06:56.', 'Low Water of 0.8 metres, at 12:32.', 'High Water of 3.6 metres, at 19:13.', 'Sun 04 AugNew moon on this day\\t-', 'Low Water of 0.7 metres, at 01:08.', 'High Water of 3.4 metres, at 07:46.', 'Low Water of 0.7 metres, at 13:21.', 'High Water of 3.7 metres, at 19:59.', 'Mon 05 Aug\\t-', 'Low Water of 0.6 metres, at 01:53.', 'High Water of 3.5 metres, at 08:28.', 'Low Water of 0.6 metres, at 14:03.', 'High Water of 3.8 metres, at 20:37.', 'Tues 06 Aug\\t-', 'Low Water of 0.6 metres, at 02:33.', 'High Water of 3.5 metres, at 09:01.', 'Low Water of 0.6 metres, at 14:39.', 'High Water of 3.8 metres, at 21:08.', 'Weds 07 Aug\\t-', 'Low Water of 0.6 metres, at 03:06.', 'High Water of 3.5 metres, at 09:28.', 'Low Water of 0.6 metres, at 15:10.', 'High Water of 3.7 metres, at 21:33.', 'Thurs 08 Aug\\t-', 'Low Water of 0.6 metres, at 03:33.', 'High Water of 3.5 metres, at 09:49.', 'Low Water of 0.6 metres, at 15:36.']\n"
     ]
    }
   ],
   "source": [
    "high_lows = [line for line in cleaned_lines if line.startswith((\"Low\",\"High\",\"Fri\",\"Sat\",\"Sun\",\"Mon\",\"Tue\",\"Wed\",\"Thur\"))]\n",
    "print(high_lows)"
   ]
  },
  {
   "cell_type": "code",
   "execution_count": 243,
   "id": "c0a8fc9f-e7ab-4355-bc1f-2a09885560b8",
   "metadata": {},
   "outputs": [
    {
     "name": "stdout",
     "output_type": "stream",
     "text": [
      "['Fri', '02', 'Aug']\n",
      "----------\n",
      "['High', 'Water', 'of', '3.1', 'metres,', 'at', '05:53.']\n",
      "----------\n",
      "['Low', 'Water', 'of', '0.9', 'metres,', 'at', '11:31.']\n",
      "----------\n",
      "['High', 'Water', 'of', '3.4', 'metres,', 'at', '18:18.', '-', '-']\n",
      "----------\n",
      "['Sat', '03', 'Aug', '-']\n",
      "----------\n",
      "['Low', 'Water', 'of', '0.8', 'metres,', 'at', '00:15.']\n",
      "----------\n",
      "['High', 'Water', 'of', '3.3', 'metres,', 'at', '06:56.']\n",
      "----------\n",
      "['Low', 'Water', 'of', '0.8', 'metres,', 'at', '12:32.']\n",
      "----------\n",
      "['High', 'Water', 'of', '3.6', 'metres,', 'at', '19:13.']\n",
      "----------\n",
      "['Sun', '04', 'AugNew', 'moon', 'on', 'this', 'day', '-']\n",
      "----------\n",
      "['Low', 'Water', 'of', '0.7', 'metres,', 'at', '01:08.']\n",
      "----------\n",
      "['High', 'Water', 'of', '3.4', 'metres,', 'at', '07:46.']\n",
      "----------\n",
      "['Low', 'Water', 'of', '0.7', 'metres,', 'at', '13:21.']\n",
      "----------\n",
      "['High', 'Water', 'of', '3.7', 'metres,', 'at', '19:59.']\n",
      "----------\n",
      "['Mon', '05', 'Aug', '-']\n",
      "----------\n",
      "['Low', 'Water', 'of', '0.6', 'metres,', 'at', '01:53.']\n",
      "----------\n",
      "['High', 'Water', 'of', '3.5', 'metres,', 'at', '08:28.']\n",
      "----------\n",
      "['Low', 'Water', 'of', '0.6', 'metres,', 'at', '14:03.']\n",
      "----------\n",
      "['High', 'Water', 'of', '3.8', 'metres,', 'at', '20:37.']\n",
      "----------\n",
      "['Tues', '06', 'Aug', '-']\n",
      "----------\n",
      "['Low', 'Water', 'of', '0.6', 'metres,', 'at', '02:33.']\n",
      "----------\n",
      "['High', 'Water', 'of', '3.5', 'metres,', 'at', '09:01.']\n",
      "----------\n",
      "['Low', 'Water', 'of', '0.6', 'metres,', 'at', '14:39.']\n",
      "----------\n",
      "['High', 'Water', 'of', '3.8', 'metres,', 'at', '21:08.']\n",
      "----------\n",
      "['Weds', '07', 'Aug', '-']\n",
      "----------\n",
      "['Low', 'Water', 'of', '0.6', 'metres,', 'at', '03:06.']\n",
      "----------\n",
      "['High', 'Water', 'of', '3.5', 'metres,', 'at', '09:28.']\n",
      "----------\n",
      "['Low', 'Water', 'of', '0.6', 'metres,', 'at', '15:10.']\n",
      "----------\n",
      "['High', 'Water', 'of', '3.7', 'metres,', 'at', '21:33.']\n",
      "----------\n",
      "['Thurs', '08', 'Aug', '-']\n",
      "----------\n",
      "['Low', 'Water', 'of', '0.6', 'metres,', 'at', '03:33.']\n",
      "----------\n",
      "['High', 'Water', 'of', '3.5', 'metres,', 'at', '09:49.']\n",
      "----------\n",
      "['Low', 'Water', 'of', '0.6', 'metres,', 'at', '15:36.']\n",
      "----------\n",
      "----------------\n",
      "02,\n",
      "High,05:53,3.1,\n",
      "Low,11:31,0.9,\n",
      "High,18:18,3.4,\n",
      "----------------\n",
      "03,\n",
      "Low,00:15,0.8,\n",
      "High,06:56,3.3,\n",
      "Low,12:32,0.8,\n",
      "High,19:13,3.6,\n",
      "----------------\n",
      "04,\n",
      "Low,01:08,0.7,\n",
      "High,07:46,3.4,\n",
      "Low,13:21,0.7,\n",
      "High,19:59,3.7,\n",
      "----------------\n",
      "05,\n",
      "Low,01:53,0.6,\n",
      "High,08:28,3.5,\n",
      "Low,14:03,0.6,\n",
      "High,20:37,3.8,\n",
      "----------------\n",
      "06,\n",
      "Low,02:33,0.6,\n",
      "High,09:01,3.5,\n",
      "Low,14:39,0.6,\n",
      "High,21:08,3.8,\n",
      "----------------\n",
      "07,\n",
      "Low,03:06,0.6,\n",
      "High,09:28,3.5,\n",
      "Low,15:10,0.6,\n",
      "High,21:33,3.7,\n",
      "----------------\n",
      "08,\n",
      "Low,03:33,0.6,\n",
      "High,09:49,3.5,\n",
      "Low,15:36,0.6,\n"
     ]
    }
   ],
   "source": [
    "formatted_tides = []\n",
    "for line in high_lows:\n",
    "    words = line.split()\n",
    "    print(words)\n",
    "    print(\"----------\")\n",
    "   \n",
    "    # If the sentence starts with Sun, Mon, etc, then keep words 1 \n",
    "    # (date, but not day). Month can be inferred downstream\n",
    "    if words[0] in (\"Sun\",\"Mon\",\"Tues\",\"Weds\",\"Thurs\",\"Fri\",\"Sat\"):\n",
    "        formatted_tides.append(\"----------------\")\n",
    "        formatted_tides.append(f\"{words[1]},\")\n",
    "        continue\n",
    "    # After previous block, 7 or more words means a High or Low water sentence. \n",
    "    # Words 0 (base zero), 3 and 6 are respectively High/Low, tide-height, and \n",
    "    # time. Other words and characters are discarded\n",
    "    if len(words) >= 7:\n",
    "        formatted_tides.append(f\"{words[0]},{words[6].rstrip('.')},{words[3]},\")\n",
    "        continue     \n",
    "for line in formatted_tides:\n",
    "    print(line)"
   ]
  },
  {
   "cell_type": "code",
   "execution_count": 244,
   "id": "d1b17b18-849d-49d8-942e-ebbc7fb4c9e6",
   "metadata": {},
   "outputs": [
    {
     "name": "stdout",
     "output_type": "stream",
     "text": [
      "['02,', 'High,05:53,3.1,', 'Low,11:31,0.9,', 'High,18:18,3.4,', '03,', 'Low,00:15,0.8,', 'High,06:56,3.3,', 'Low,12:32,0.8,', 'High,19:13,3.6,', '04,', 'Low,01:08,0.7,', 'High,07:46,3.4,', 'Low,13:21,0.7,', 'High,19:59,3.7,', '05,', 'Low,01:53,0.6,', 'High,08:28,3.5,', 'Low,14:03,0.6,', 'High,20:37,3.8,', '06,', 'Low,02:33,0.6,', 'High,09:01,3.5,', 'Low,14:39,0.6,', 'High,21:08,3.8,', '07,', 'Low,03:06,0.6,', 'High,09:28,3.5,', 'Low,15:10,0.6,', 'High,21:33,3.7,', '08,', 'Low,03:33,0.6,', 'High,09:49,3.5,', 'Low,15:36,0.6,']\n"
     ]
    }
   ],
   "source": [
    "lines2 = [line for line in formatted_tides if not line.startswith('-')]\n",
    "print(lines2)"
   ]
  },
  {
   "cell_type": "code",
   "execution_count": 245,
   "id": "28dd5622-fa3e-4e08-bc8c-9b05398b642f",
   "metadata": {},
   "outputs": [
    {
     "name": "stdout",
     "output_type": "stream",
     "text": [
      "02,High,05:53,3.1,Low,11:31,0.9,High,18:18,3.4,\n",
      "03,Low,00:15,0.8,High,06:56,3.3,Low,12:32,0.8,High,19:13,3.6,\n",
      "04,Low,01:08,0.7,High,07:46,3.4,Low,13:21,0.7,High,19:59,3.7,\n",
      "05,Low,01:53,0.6,High,08:28,3.5,Low,14:03,0.6,High,20:37,3.8,\n",
      "06,Low,02:33,0.6,High,09:01,3.5,Low,14:39,0.6,High,21:08,3.8,\n",
      "07,Low,03:06,0.6,High,09:28,3.5,Low,15:10,0.6,High,21:33,3.7,\n",
      "08,Low,03:33,0.6,High,09:49,3.5,Low,15:36,0.6,\n"
     ]
    }
   ],
   "source": [
    "tide_days = []\n",
    "data = lines2\n",
    "day_tides = []\n",
    "current_day_tide = \"\"\n",
    "\n",
    "# Iterate through the data\n",
    "for item in data:\n",
    "    # Check if the item has 2 characters (indicating the start of a record)\n",
    "    if len(item) == 3:\n",
    "        # If we have a current record, add it to the grouped_records list\n",
    "        if current_day_tide:\n",
    "            day_tides.append(current_day_tide)\n",
    "        # Start a new record\n",
    "        current_day_tide = item\n",
    "    else:\n",
    "        # Concatenate the item to the current record\n",
    "        current_day_tide += item\n",
    "\n",
    "# Add the last record (if any) to the grouped_records list\n",
    "if current_day_tide:\n",
    "    day_tides.append(current_day_tide)\n",
    "\n",
    "# Print the grouped records\n",
    "for tide in day_tides:\n",
    "    print(tide)"
   ]
  },
  {
   "cell_type": "code",
   "execution_count": 246,
   "id": "96088887-85cf-4f42-9008-fdbaba4da139",
   "metadata": {},
   "outputs": [],
   "source": [
    "def insert_tidal_range(record):\n",
    "    # Split the record by commas\n",
    "    parts = record.split(',')\n",
    "    \n",
    "    # Extract the decimal values (skipping the first word)\n",
    "    values = [float(part) for part in parts[1:] if part.replace('.', '', 1).isdigit()]\n",
    "    \n",
    "    # Calculate the difference between the highest and lowest values\n",
    "    difference = max(values) - min(values)\n",
    "    \n",
    "    # Insert the difference between \"Low\" and \"01:53\"\n",
    "    parts.insert(2, f\"{difference:.1f}\")\n",
    "    \n",
    "    # Join the modified parts back into a string\n",
    "    modified_record = ','.join(parts)\n",
    "    \n",
    "    return modified_record\n",
    "\n",
    "# Example usage:\n",
    "#record = \"05,Low,01:53,0.6,High,08:28,3.5,Low,14:03,0.6,High,20:37,3.8\"\n",
    "#result = insert_tidal_range(record)\n",
    "#print(result)"
   ]
  },
  {
   "cell_type": "code",
   "execution_count": 247,
   "id": "bfa57c46-dbb3-4e9d-a7b2-229181a00183",
   "metadata": {},
   "outputs": [
    {
     "name": "stdout",
     "output_type": "stream",
     "text": [
      "02,High,2.5,05:53,3.1,Low,11:31,0.9,High,18:18,3.4,\n",
      "03,Low,2.8,00:15,0.8,High,06:56,3.3,Low,12:32,0.8,High,19:13,3.6,\n",
      "04,Low,3.0,01:08,0.7,High,07:46,3.4,Low,13:21,0.7,High,19:59,3.7,\n",
      "05,Low,3.2,01:53,0.6,High,08:28,3.5,Low,14:03,0.6,High,20:37,3.8,\n",
      "06,Low,3.2,02:33,0.6,High,09:01,3.5,Low,14:39,0.6,High,21:08,3.8,\n",
      "07,Low,3.1,03:06,0.6,High,09:28,3.5,Low,15:10,0.6,High,21:33,3.7,\n",
      "08,Low,2.9,03:33,0.6,High,09:49,3.5,Low,15:36,0.6,\n"
     ]
    }
   ],
   "source": [
    "tides_with_range = [insert_tidal_range(line) for line in day_tides]\n",
    "for tide in tides_with_range:\n",
    "    print(tide)"
   ]
  }
 ],
 "metadata": {
  "kernelspec": {
   "display_name": "Python 3 (ipykernel)",
   "language": "python",
   "name": "python3"
  },
  "language_info": {
   "codemirror_mode": {
    "name": "ipython",
    "version": 3
   },
   "file_extension": ".py",
   "mimetype": "text/x-python",
   "name": "python",
   "nbconvert_exporter": "python",
   "pygments_lexer": "ipython3",
   "version": "3.12.0"
  }
 },
 "nbformat": 4,
 "nbformat_minor": 5
}
