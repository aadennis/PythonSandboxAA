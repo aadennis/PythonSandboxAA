{
 "cells": [
  {
   "cell_type": "markdown",
   "id": "b6494f4e-acf1-4663-8688-45494548a45a",
   "metadata": {},
   "source": [
    "<h1>Getting structured tides from hydrographic data</h1>\n",
    "<hr>\n",
    "<h2>Requirement</h2>\n",
    "Starting with hydrographic html for a given location, build structured tide data for a set of dates.    \n",
    "\n",
    "<hr>\n",
    "<h2>Entities</h2>\n",
    "<hr>\n",
    "<h3>TideForDay</h3>\n",
    "<h4>Definition</h4> Gathers data for a tide on a given calendar day\n",
    "<h4>Key</h4> t_date \n",
    "<h4>Cardinalities</h4> 1-M TideMark\n",
    "<h4>Data attributes</h4>\n",
    "<p></p>\n",
    "\n",
    "|Name|aka|Definition| \n",
    "|:-------------|----|:-------------| \n",
    "|\n",
    "|t_date| Tide Date | UID of the tide for a given day. Strictly an alternate key, but no need for surrogates here. Not \"date\" due to keyword conflict |\n",
    "|tidal_range|Tidal Range |The distance between the minimum low water mark, and the maximum high water mark, for that day |\n",
    "\n",
    "\n",
    "\n"
   ]
  },
  {
   "cell_type": "markdown",
   "id": "6fe996f2-f42a-4f9e-9961-1515b3926b96",
   "metadata": {},
   "source": [
    "<hr>\n",
    "<h3>TideMark</h3>\n",
    "<h4>Definition</h4> An instance of a high or low water mark\n",
    "<h4>Key</h4> 1. t_date 2. t_seq \n",
    "<h4>Cardinalities</h4> M->1 with parent TideForDay\n",
    "<h4>Data attributes</h4>\n",
    "<p></p>\n",
    "\n",
    "|Name|aka|Definition| \n",
    "|:-------------|:----|:-------------| \n",
    "|\n",
    "|t_date| Date | foreign key onto the parent TideForDay |\n",
    "|t_seq| Sequence in Day | Where this tide mark falls in the sequence of tides after midnight. Eg - first tide after midnight has sequence 1|\n",
    "|t_type| Type | Values are \"High\" or \"Low\", referring to whether this is a high or low water mark |\n",
    "|t_height| Height | the height of the high or low water mark. float to 1 decimal point. The incoming value may be negative, which is to be resolved to zero  |\n",
    "|t_time| Time | the time of the high or low water mark |\n",
    "\n",
    "\n",
    "\n",
    "\n"
   ]
  },
  {
   "cell_type": "code",
   "execution_count": 1,
   "id": "6b67981c-08ab-4548-8c96-e8ab069b7232",
   "metadata": {
    "editable": true,
    "slideshow": {
     "slide_type": ""
    },
    "tags": []
   },
   "outputs": [],
   "source": [
    "# pip install regex\n",
    "import re\n",
    "from dataclasses import dataclass\n",
    "from datetime import datetime\n",
    "\n",
    "@dataclass\n",
    "class TideMark:\n",
    "    t_date: int\n",
    "    t_seq: int\n",
    "    t_type: str # High or Low\n",
    "    t_height: float\n",
    "    t_time: datetime\n",
    "\n",
    "@dataclass\n",
    "class TideForDay:\n",
    "    t_date: int\n",
    "    tidal_range: float # distance between min and max tide_marks\n",
    "\n",
    "\n",
    "tide_marks = []\n",
    "tides = []\n",
    "\n",
    "with open(\"./hydro_2024.08.04.txt\",\"r\") as infile:\n",
    "    lines = infile.readlines()\n",
    "\n"
   ]
  },
  {
   "cell_type": "code",
   "execution_count": 2,
   "id": "0b519455-38ee-4fa1-a0c9-b2a329568dee",
   "metadata": {},
   "outputs": [],
   "source": [
    "cleaned_lines = [line.strip() for line in lines]\n",
    "high_lows = [line for line in cleaned_lines if line.startswith((\"Low\",\"High\",\"Fri\",\"Sat\",\"Sun\",\"Mon\",\"Tue\",\"Wed\",\"Thur\"))]"
   ]
  },
  {
   "cell_type": "code",
   "execution_count": 3,
   "id": "c0a8fc9f-e7ab-4355-bc1f-2a09885560b8",
   "metadata": {},
   "outputs": [
    {
     "name": "stdout",
     "output_type": "stream",
     "text": [
      "['Sun', '04', 'AugNew', 'moon', 'on', 'this', 'day']\n",
      "['Low', 'Water', 'of', '0.7', 'metres,', 'at', '01:08.']\n",
      "[TideMark(t_date='04', t_seq=0, t_type='Low', t_height='0.7', t_time='01:08')]\n",
      "['High', 'Water', 'of', '3.4', 'metres,', 'at', '07:46.']\n",
      "[TideMark(t_date='04', t_seq=0, t_type='Low', t_height='0.7', t_time='01:08'), TideMark(t_date='04', t_seq=1, t_type='High', t_height='3.4', t_time='07:46')]\n",
      "['Low', 'Water', 'of', '0.7', 'metres,', 'at', '13:21.']\n",
      "[TideMark(t_date='04', t_seq=0, t_type='Low', t_height='0.7', t_time='01:08'), TideMark(t_date='04', t_seq=1, t_type='High', t_height='3.4', t_time='07:46'), TideMark(t_date='04', t_seq=2, t_type='Low', t_height='0.7', t_time='13:21')]\n",
      "['High', 'Water', 'of', '3.7', 'metres,', 'at', '19:59.']\n",
      "[TideMark(t_date='04', t_seq=0, t_type='Low', t_height='0.7', t_time='01:08'), TideMark(t_date='04', t_seq=1, t_type='High', t_height='3.4', t_time='07:46'), TideMark(t_date='04', t_seq=2, t_type='Low', t_height='0.7', t_time='13:21'), TideMark(t_date='04', t_seq=3, t_type='High', t_height='3.7', t_time='19:59')]\n",
      "['Mon', '05', 'Aug']\n",
      "['Low', 'Water', 'of', '0.6', 'metres,', 'at', '01:53.']\n",
      "[TideMark(t_date='04', t_seq=0, t_type='Low', t_height='0.7', t_time='01:08'), TideMark(t_date='04', t_seq=1, t_type='High', t_height='3.4', t_time='07:46'), TideMark(t_date='04', t_seq=2, t_type='Low', t_height='0.7', t_time='13:21'), TideMark(t_date='04', t_seq=3, t_type='High', t_height='3.7', t_time='19:59'), TideMark(t_date='05', t_seq=0, t_type='Low', t_height='0.6', t_time='01:53')]\n",
      "['High', 'Water', 'of', '3.5', 'metres,', 'at', '08:28.']\n",
      "[TideMark(t_date='04', t_seq=0, t_type='Low', t_height='0.7', t_time='01:08'), TideMark(t_date='04', t_seq=1, t_type='High', t_height='3.4', t_time='07:46'), TideMark(t_date='04', t_seq=2, t_type='Low', t_height='0.7', t_time='13:21'), TideMark(t_date='04', t_seq=3, t_type='High', t_height='3.7', t_time='19:59'), TideMark(t_date='05', t_seq=0, t_type='Low', t_height='0.6', t_time='01:53'), TideMark(t_date='05', t_seq=1, t_type='High', t_height='3.5', t_time='08:28')]\n",
      "['Low', 'Water', 'of', '0.6', 'metres,', 'at', '14:03.']\n",
      "[TideMark(t_date='04', t_seq=0, t_type='Low', t_height='0.7', t_time='01:08'), TideMark(t_date='04', t_seq=1, t_type='High', t_height='3.4', t_time='07:46'), TideMark(t_date='04', t_seq=2, t_type='Low', t_height='0.7', t_time='13:21'), TideMark(t_date='04', t_seq=3, t_type='High', t_height='3.7', t_time='19:59'), TideMark(t_date='05', t_seq=0, t_type='Low', t_height='0.6', t_time='01:53'), TideMark(t_date='05', t_seq=1, t_type='High', t_height='3.5', t_time='08:28'), TideMark(t_date='05', t_seq=2, t_type='Low', t_height='0.6', t_time='14:03')]\n",
      "['High', 'Water', 'of', '3.8', 'metres,', 'at', '20:37.']\n",
      "[TideMark(t_date='04', t_seq=0, t_type='Low', t_height='0.7', t_time='01:08'), TideMark(t_date='04', t_seq=1, t_type='High', t_height='3.4', t_time='07:46'), TideMark(t_date='04', t_seq=2, t_type='Low', t_height='0.7', t_time='13:21'), TideMark(t_date='04', t_seq=3, t_type='High', t_height='3.7', t_time='19:59'), TideMark(t_date='05', t_seq=0, t_type='Low', t_height='0.6', t_time='01:53'), TideMark(t_date='05', t_seq=1, t_type='High', t_height='3.5', t_time='08:28'), TideMark(t_date='05', t_seq=2, t_type='Low', t_height='0.6', t_time='14:03'), TideMark(t_date='05', t_seq=3, t_type='High', t_height='3.8', t_time='20:37')]\n",
      "['Tues', '06', 'Aug']\n",
      "['Low', 'Water', 'of', '0.6', 'metres,', 'at', '02:33.']\n",
      "[TideMark(t_date='04', t_seq=0, t_type='Low', t_height='0.7', t_time='01:08'), TideMark(t_date='04', t_seq=1, t_type='High', t_height='3.4', t_time='07:46'), TideMark(t_date='04', t_seq=2, t_type='Low', t_height='0.7', t_time='13:21'), TideMark(t_date='04', t_seq=3, t_type='High', t_height='3.7', t_time='19:59'), TideMark(t_date='05', t_seq=0, t_type='Low', t_height='0.6', t_time='01:53'), TideMark(t_date='05', t_seq=1, t_type='High', t_height='3.5', t_time='08:28'), TideMark(t_date='05', t_seq=2, t_type='Low', t_height='0.6', t_time='14:03'), TideMark(t_date='05', t_seq=3, t_type='High', t_height='3.8', t_time='20:37'), TideMark(t_date='06', t_seq=0, t_type='Low', t_height='0.6', t_time='02:33')]\n",
      "['High', 'Water', 'of', '3.5', 'metres,', 'at', '09:01.']\n",
      "[TideMark(t_date='04', t_seq=0, t_type='Low', t_height='0.7', t_time='01:08'), TideMark(t_date='04', t_seq=1, t_type='High', t_height='3.4', t_time='07:46'), TideMark(t_date='04', t_seq=2, t_type='Low', t_height='0.7', t_time='13:21'), TideMark(t_date='04', t_seq=3, t_type='High', t_height='3.7', t_time='19:59'), TideMark(t_date='05', t_seq=0, t_type='Low', t_height='0.6', t_time='01:53'), TideMark(t_date='05', t_seq=1, t_type='High', t_height='3.5', t_time='08:28'), TideMark(t_date='05', t_seq=2, t_type='Low', t_height='0.6', t_time='14:03'), TideMark(t_date='05', t_seq=3, t_type='High', t_height='3.8', t_time='20:37'), TideMark(t_date='06', t_seq=0, t_type='Low', t_height='0.6', t_time='02:33'), TideMark(t_date='06', t_seq=1, t_type='High', t_height='3.5', t_time='09:01')]\n",
      "['Low', 'Water', 'of', '0.6', 'metres,', 'at', '14:39.']\n",
      "[TideMark(t_date='04', t_seq=0, t_type='Low', t_height='0.7', t_time='01:08'), TideMark(t_date='04', t_seq=1, t_type='High', t_height='3.4', t_time='07:46'), TideMark(t_date='04', t_seq=2, t_type='Low', t_height='0.7', t_time='13:21'), TideMark(t_date='04', t_seq=3, t_type='High', t_height='3.7', t_time='19:59'), TideMark(t_date='05', t_seq=0, t_type='Low', t_height='0.6', t_time='01:53'), TideMark(t_date='05', t_seq=1, t_type='High', t_height='3.5', t_time='08:28'), TideMark(t_date='05', t_seq=2, t_type='Low', t_height='0.6', t_time='14:03'), TideMark(t_date='05', t_seq=3, t_type='High', t_height='3.8', t_time='20:37'), TideMark(t_date='06', t_seq=0, t_type='Low', t_height='0.6', t_time='02:33'), TideMark(t_date='06', t_seq=1, t_type='High', t_height='3.5', t_time='09:01'), TideMark(t_date='06', t_seq=2, t_type='Low', t_height='0.6', t_time='14:39')]\n",
      "['High', 'Water', 'of', '3.8', 'metres,', 'at', '21:08.']\n",
      "[TideMark(t_date='04', t_seq=0, t_type='Low', t_height='0.7', t_time='01:08'), TideMark(t_date='04', t_seq=1, t_type='High', t_height='3.4', t_time='07:46'), TideMark(t_date='04', t_seq=2, t_type='Low', t_height='0.7', t_time='13:21'), TideMark(t_date='04', t_seq=3, t_type='High', t_height='3.7', t_time='19:59'), TideMark(t_date='05', t_seq=0, t_type='Low', t_height='0.6', t_time='01:53'), TideMark(t_date='05', t_seq=1, t_type='High', t_height='3.5', t_time='08:28'), TideMark(t_date='05', t_seq=2, t_type='Low', t_height='0.6', t_time='14:03'), TideMark(t_date='05', t_seq=3, t_type='High', t_height='3.8', t_time='20:37'), TideMark(t_date='06', t_seq=0, t_type='Low', t_height='0.6', t_time='02:33'), TideMark(t_date='06', t_seq=1, t_type='High', t_height='3.5', t_time='09:01'), TideMark(t_date='06', t_seq=2, t_type='Low', t_height='0.6', t_time='14:39'), TideMark(t_date='06', t_seq=3, t_type='High', t_height='3.8', t_time='21:08')]\n",
      "['Weds', '07', 'Aug']\n",
      "['Low', 'Water', 'of', '0.6', 'metres,', 'at', '03:06.']\n",
      "[TideMark(t_date='04', t_seq=0, t_type='Low', t_height='0.7', t_time='01:08'), TideMark(t_date='04', t_seq=1, t_type='High', t_height='3.4', t_time='07:46'), TideMark(t_date='04', t_seq=2, t_type='Low', t_height='0.7', t_time='13:21'), TideMark(t_date='04', t_seq=3, t_type='High', t_height='3.7', t_time='19:59'), TideMark(t_date='05', t_seq=0, t_type='Low', t_height='0.6', t_time='01:53'), TideMark(t_date='05', t_seq=1, t_type='High', t_height='3.5', t_time='08:28'), TideMark(t_date='05', t_seq=2, t_type='Low', t_height='0.6', t_time='14:03'), TideMark(t_date='05', t_seq=3, t_type='High', t_height='3.8', t_time='20:37'), TideMark(t_date='06', t_seq=0, t_type='Low', t_height='0.6', t_time='02:33'), TideMark(t_date='06', t_seq=1, t_type='High', t_height='3.5', t_time='09:01'), TideMark(t_date='06', t_seq=2, t_type='Low', t_height='0.6', t_time='14:39'), TideMark(t_date='06', t_seq=3, t_type='High', t_height='3.8', t_time='21:08'), TideMark(t_date='07', t_seq=0, t_type='Low', t_height='0.6', t_time='03:06')]\n",
      "['High', 'Water', 'of', '3.5', 'metres,', 'at', '09:28.']\n",
      "[TideMark(t_date='04', t_seq=0, t_type='Low', t_height='0.7', t_time='01:08'), TideMark(t_date='04', t_seq=1, t_type='High', t_height='3.4', t_time='07:46'), TideMark(t_date='04', t_seq=2, t_type='Low', t_height='0.7', t_time='13:21'), TideMark(t_date='04', t_seq=3, t_type='High', t_height='3.7', t_time='19:59'), TideMark(t_date='05', t_seq=0, t_type='Low', t_height='0.6', t_time='01:53'), TideMark(t_date='05', t_seq=1, t_type='High', t_height='3.5', t_time='08:28'), TideMark(t_date='05', t_seq=2, t_type='Low', t_height='0.6', t_time='14:03'), TideMark(t_date='05', t_seq=3, t_type='High', t_height='3.8', t_time='20:37'), TideMark(t_date='06', t_seq=0, t_type='Low', t_height='0.6', t_time='02:33'), TideMark(t_date='06', t_seq=1, t_type='High', t_height='3.5', t_time='09:01'), TideMark(t_date='06', t_seq=2, t_type='Low', t_height='0.6', t_time='14:39'), TideMark(t_date='06', t_seq=3, t_type='High', t_height='3.8', t_time='21:08'), TideMark(t_date='07', t_seq=0, t_type='Low', t_height='0.6', t_time='03:06'), TideMark(t_date='07', t_seq=1, t_type='High', t_height='3.5', t_time='09:28')]\n",
      "['Low', 'Water', 'of', '0.6', 'metres,', 'at', '15:10.']\n",
      "[TideMark(t_date='04', t_seq=0, t_type='Low', t_height='0.7', t_time='01:08'), TideMark(t_date='04', t_seq=1, t_type='High', t_height='3.4', t_time='07:46'), TideMark(t_date='04', t_seq=2, t_type='Low', t_height='0.7', t_time='13:21'), TideMark(t_date='04', t_seq=3, t_type='High', t_height='3.7', t_time='19:59'), TideMark(t_date='05', t_seq=0, t_type='Low', t_height='0.6', t_time='01:53'), TideMark(t_date='05', t_seq=1, t_type='High', t_height='3.5', t_time='08:28'), TideMark(t_date='05', t_seq=2, t_type='Low', t_height='0.6', t_time='14:03'), TideMark(t_date='05', t_seq=3, t_type='High', t_height='3.8', t_time='20:37'), TideMark(t_date='06', t_seq=0, t_type='Low', t_height='0.6', t_time='02:33'), TideMark(t_date='06', t_seq=1, t_type='High', t_height='3.5', t_time='09:01'), TideMark(t_date='06', t_seq=2, t_type='Low', t_height='0.6', t_time='14:39'), TideMark(t_date='06', t_seq=3, t_type='High', t_height='3.8', t_time='21:08'), TideMark(t_date='07', t_seq=0, t_type='Low', t_height='0.6', t_time='03:06'), TideMark(t_date='07', t_seq=1, t_type='High', t_height='3.5', t_time='09:28'), TideMark(t_date='07', t_seq=2, t_type='Low', t_height='0.6', t_time='15:10')]\n",
      "['High', 'Water', 'of', '3.7', 'metres,', 'at', '21:33.']\n",
      "[TideMark(t_date='04', t_seq=0, t_type='Low', t_height='0.7', t_time='01:08'), TideMark(t_date='04', t_seq=1, t_type='High', t_height='3.4', t_time='07:46'), TideMark(t_date='04', t_seq=2, t_type='Low', t_height='0.7', t_time='13:21'), TideMark(t_date='04', t_seq=3, t_type='High', t_height='3.7', t_time='19:59'), TideMark(t_date='05', t_seq=0, t_type='Low', t_height='0.6', t_time='01:53'), TideMark(t_date='05', t_seq=1, t_type='High', t_height='3.5', t_time='08:28'), TideMark(t_date='05', t_seq=2, t_type='Low', t_height='0.6', t_time='14:03'), TideMark(t_date='05', t_seq=3, t_type='High', t_height='3.8', t_time='20:37'), TideMark(t_date='06', t_seq=0, t_type='Low', t_height='0.6', t_time='02:33'), TideMark(t_date='06', t_seq=1, t_type='High', t_height='3.5', t_time='09:01'), TideMark(t_date='06', t_seq=2, t_type='Low', t_height='0.6', t_time='14:39'), TideMark(t_date='06', t_seq=3, t_type='High', t_height='3.8', t_time='21:08'), TideMark(t_date='07', t_seq=0, t_type='Low', t_height='0.6', t_time='03:06'), TideMark(t_date='07', t_seq=1, t_type='High', t_height='3.5', t_time='09:28'), TideMark(t_date='07', t_seq=2, t_type='Low', t_height='0.6', t_time='15:10'), TideMark(t_date='07', t_seq=3, t_type='High', t_height='3.7', t_time='21:33')]\n",
      "['Thurs', '08', 'Aug']\n",
      "['Low', 'Water', 'of', '0.6', 'metres,', 'at', '03:33.']\n",
      "[TideMark(t_date='04', t_seq=0, t_type='Low', t_height='0.7', t_time='01:08'), TideMark(t_date='04', t_seq=1, t_type='High', t_height='3.4', t_time='07:46'), TideMark(t_date='04', t_seq=2, t_type='Low', t_height='0.7', t_time='13:21'), TideMark(t_date='04', t_seq=3, t_type='High', t_height='3.7', t_time='19:59'), TideMark(t_date='05', t_seq=0, t_type='Low', t_height='0.6', t_time='01:53'), TideMark(t_date='05', t_seq=1, t_type='High', t_height='3.5', t_time='08:28'), TideMark(t_date='05', t_seq=2, t_type='Low', t_height='0.6', t_time='14:03'), TideMark(t_date='05', t_seq=3, t_type='High', t_height='3.8', t_time='20:37'), TideMark(t_date='06', t_seq=0, t_type='Low', t_height='0.6', t_time='02:33'), TideMark(t_date='06', t_seq=1, t_type='High', t_height='3.5', t_time='09:01'), TideMark(t_date='06', t_seq=2, t_type='Low', t_height='0.6', t_time='14:39'), TideMark(t_date='06', t_seq=3, t_type='High', t_height='3.8', t_time='21:08'), TideMark(t_date='07', t_seq=0, t_type='Low', t_height='0.6', t_time='03:06'), TideMark(t_date='07', t_seq=1, t_type='High', t_height='3.5', t_time='09:28'), TideMark(t_date='07', t_seq=2, t_type='Low', t_height='0.6', t_time='15:10'), TideMark(t_date='07', t_seq=3, t_type='High', t_height='3.7', t_time='21:33'), TideMark(t_date='08', t_seq=0, t_type='Low', t_height='0.6', t_time='03:33')]\n",
      "['High', 'Water', 'of', '3.5', 'metres,', 'at', '09:49.']\n",
      "[TideMark(t_date='04', t_seq=0, t_type='Low', t_height='0.7', t_time='01:08'), TideMark(t_date='04', t_seq=1, t_type='High', t_height='3.4', t_time='07:46'), TideMark(t_date='04', t_seq=2, t_type='Low', t_height='0.7', t_time='13:21'), TideMark(t_date='04', t_seq=3, t_type='High', t_height='3.7', t_time='19:59'), TideMark(t_date='05', t_seq=0, t_type='Low', t_height='0.6', t_time='01:53'), TideMark(t_date='05', t_seq=1, t_type='High', t_height='3.5', t_time='08:28'), TideMark(t_date='05', t_seq=2, t_type='Low', t_height='0.6', t_time='14:03'), TideMark(t_date='05', t_seq=3, t_type='High', t_height='3.8', t_time='20:37'), TideMark(t_date='06', t_seq=0, t_type='Low', t_height='0.6', t_time='02:33'), TideMark(t_date='06', t_seq=1, t_type='High', t_height='3.5', t_time='09:01'), TideMark(t_date='06', t_seq=2, t_type='Low', t_height='0.6', t_time='14:39'), TideMark(t_date='06', t_seq=3, t_type='High', t_height='3.8', t_time='21:08'), TideMark(t_date='07', t_seq=0, t_type='Low', t_height='0.6', t_time='03:06'), TideMark(t_date='07', t_seq=1, t_type='High', t_height='3.5', t_time='09:28'), TideMark(t_date='07', t_seq=2, t_type='Low', t_height='0.6', t_time='15:10'), TideMark(t_date='07', t_seq=3, t_type='High', t_height='3.7', t_time='21:33'), TideMark(t_date='08', t_seq=0, t_type='Low', t_height='0.6', t_time='03:33'), TideMark(t_date='08', t_seq=1, t_type='High', t_height='3.5', t_time='09:49')]\n",
      "['Low', 'Water', 'of', '0.6', 'metres,', 'at', '15:36.']\n",
      "[TideMark(t_date='04', t_seq=0, t_type='Low', t_height='0.7', t_time='01:08'), TideMark(t_date='04', t_seq=1, t_type='High', t_height='3.4', t_time='07:46'), TideMark(t_date='04', t_seq=2, t_type='Low', t_height='0.7', t_time='13:21'), TideMark(t_date='04', t_seq=3, t_type='High', t_height='3.7', t_time='19:59'), TideMark(t_date='05', t_seq=0, t_type='Low', t_height='0.6', t_time='01:53'), TideMark(t_date='05', t_seq=1, t_type='High', t_height='3.5', t_time='08:28'), TideMark(t_date='05', t_seq=2, t_type='Low', t_height='0.6', t_time='14:03'), TideMark(t_date='05', t_seq=3, t_type='High', t_height='3.8', t_time='20:37'), TideMark(t_date='06', t_seq=0, t_type='Low', t_height='0.6', t_time='02:33'), TideMark(t_date='06', t_seq=1, t_type='High', t_height='3.5', t_time='09:01'), TideMark(t_date='06', t_seq=2, t_type='Low', t_height='0.6', t_time='14:39'), TideMark(t_date='06', t_seq=3, t_type='High', t_height='3.8', t_time='21:08'), TideMark(t_date='07', t_seq=0, t_type='Low', t_height='0.6', t_time='03:06'), TideMark(t_date='07', t_seq=1, t_type='High', t_height='3.5', t_time='09:28'), TideMark(t_date='07', t_seq=2, t_type='Low', t_height='0.6', t_time='15:10'), TideMark(t_date='07', t_seq=3, t_type='High', t_height='3.7', t_time='21:33'), TideMark(t_date='08', t_seq=0, t_type='Low', t_height='0.6', t_time='03:33'), TideMark(t_date='08', t_seq=1, t_type='High', t_height='3.5', t_time='09:49'), TideMark(t_date='08', t_seq=2, t_type='Low', t_height='0.6', t_time='15:36')]\n",
      "['High', 'Water', 'of', '3.7', 'metres,', 'at', '21:55.']\n",
      "[TideMark(t_date='04', t_seq=0, t_type='Low', t_height='0.7', t_time='01:08'), TideMark(t_date='04', t_seq=1, t_type='High', t_height='3.4', t_time='07:46'), TideMark(t_date='04', t_seq=2, t_type='Low', t_height='0.7', t_time='13:21'), TideMark(t_date='04', t_seq=3, t_type='High', t_height='3.7', t_time='19:59'), TideMark(t_date='05', t_seq=0, t_type='Low', t_height='0.6', t_time='01:53'), TideMark(t_date='05', t_seq=1, t_type='High', t_height='3.5', t_time='08:28'), TideMark(t_date='05', t_seq=2, t_type='Low', t_height='0.6', t_time='14:03'), TideMark(t_date='05', t_seq=3, t_type='High', t_height='3.8', t_time='20:37'), TideMark(t_date='06', t_seq=0, t_type='Low', t_height='0.6', t_time='02:33'), TideMark(t_date='06', t_seq=1, t_type='High', t_height='3.5', t_time='09:01'), TideMark(t_date='06', t_seq=2, t_type='Low', t_height='0.6', t_time='14:39'), TideMark(t_date='06', t_seq=3, t_type='High', t_height='3.8', t_time='21:08'), TideMark(t_date='07', t_seq=0, t_type='Low', t_height='0.6', t_time='03:06'), TideMark(t_date='07', t_seq=1, t_type='High', t_height='3.5', t_time='09:28'), TideMark(t_date='07', t_seq=2, t_type='Low', t_height='0.6', t_time='15:10'), TideMark(t_date='07', t_seq=3, t_type='High', t_height='3.7', t_time='21:33'), TideMark(t_date='08', t_seq=0, t_type='Low', t_height='0.6', t_time='03:33'), TideMark(t_date='08', t_seq=1, t_type='High', t_height='3.5', t_time='09:49'), TideMark(t_date='08', t_seq=2, t_type='Low', t_height='0.6', t_time='15:36'), TideMark(t_date='08', t_seq=3, t_type='High', t_height='3.7', t_time='21:55')]\n",
      "['Fri', '09', 'Aug']\n",
      "['Low', 'Water', 'of', '0.6', 'metres,', 'at', '03:56.']\n",
      "[TideMark(t_date='04', t_seq=0, t_type='Low', t_height='0.7', t_time='01:08'), TideMark(t_date='04', t_seq=1, t_type='High', t_height='3.4', t_time='07:46'), TideMark(t_date='04', t_seq=2, t_type='Low', t_height='0.7', t_time='13:21'), TideMark(t_date='04', t_seq=3, t_type='High', t_height='3.7', t_time='19:59'), TideMark(t_date='05', t_seq=0, t_type='Low', t_height='0.6', t_time='01:53'), TideMark(t_date='05', t_seq=1, t_type='High', t_height='3.5', t_time='08:28'), TideMark(t_date='05', t_seq=2, t_type='Low', t_height='0.6', t_time='14:03'), TideMark(t_date='05', t_seq=3, t_type='High', t_height='3.8', t_time='20:37'), TideMark(t_date='06', t_seq=0, t_type='Low', t_height='0.6', t_time='02:33'), TideMark(t_date='06', t_seq=1, t_type='High', t_height='3.5', t_time='09:01'), TideMark(t_date='06', t_seq=2, t_type='Low', t_height='0.6', t_time='14:39'), TideMark(t_date='06', t_seq=3, t_type='High', t_height='3.8', t_time='21:08'), TideMark(t_date='07', t_seq=0, t_type='Low', t_height='0.6', t_time='03:06'), TideMark(t_date='07', t_seq=1, t_type='High', t_height='3.5', t_time='09:28'), TideMark(t_date='07', t_seq=2, t_type='Low', t_height='0.6', t_time='15:10'), TideMark(t_date='07', t_seq=3, t_type='High', t_height='3.7', t_time='21:33'), TideMark(t_date='08', t_seq=0, t_type='Low', t_height='0.6', t_time='03:33'), TideMark(t_date='08', t_seq=1, t_type='High', t_height='3.5', t_time='09:49'), TideMark(t_date='08', t_seq=2, t_type='Low', t_height='0.6', t_time='15:36'), TideMark(t_date='08', t_seq=3, t_type='High', t_height='3.7', t_time='21:55'), TideMark(t_date='09', t_seq=0, t_type='Low', t_height='0.6', t_time='03:56')]\n",
      "['High', 'Water', 'of', '3.4', 'metres,', 'at', '10:09.']\n",
      "[TideMark(t_date='04', t_seq=0, t_type='Low', t_height='0.7', t_time='01:08'), TideMark(t_date='04', t_seq=1, t_type='High', t_height='3.4', t_time='07:46'), TideMark(t_date='04', t_seq=2, t_type='Low', t_height='0.7', t_time='13:21'), TideMark(t_date='04', t_seq=3, t_type='High', t_height='3.7', t_time='19:59'), TideMark(t_date='05', t_seq=0, t_type='Low', t_height='0.6', t_time='01:53'), TideMark(t_date='05', t_seq=1, t_type='High', t_height='3.5', t_time='08:28'), TideMark(t_date='05', t_seq=2, t_type='Low', t_height='0.6', t_time='14:03'), TideMark(t_date='05', t_seq=3, t_type='High', t_height='3.8', t_time='20:37'), TideMark(t_date='06', t_seq=0, t_type='Low', t_height='0.6', t_time='02:33'), TideMark(t_date='06', t_seq=1, t_type='High', t_height='3.5', t_time='09:01'), TideMark(t_date='06', t_seq=2, t_type='Low', t_height='0.6', t_time='14:39'), TideMark(t_date='06', t_seq=3, t_type='High', t_height='3.8', t_time='21:08'), TideMark(t_date='07', t_seq=0, t_type='Low', t_height='0.6', t_time='03:06'), TideMark(t_date='07', t_seq=1, t_type='High', t_height='3.5', t_time='09:28'), TideMark(t_date='07', t_seq=2, t_type='Low', t_height='0.6', t_time='15:10'), TideMark(t_date='07', t_seq=3, t_type='High', t_height='3.7', t_time='21:33'), TideMark(t_date='08', t_seq=0, t_type='Low', t_height='0.6', t_time='03:33'), TideMark(t_date='08', t_seq=1, t_type='High', t_height='3.5', t_time='09:49'), TideMark(t_date='08', t_seq=2, t_type='Low', t_height='0.6', t_time='15:36'), TideMark(t_date='08', t_seq=3, t_type='High', t_height='3.7', t_time='21:55'), TideMark(t_date='09', t_seq=0, t_type='Low', t_height='0.6', t_time='03:56'), TideMark(t_date='09', t_seq=1, t_type='High', t_height='3.4', t_time='10:09')]\n",
      "['Low', 'Water', 'of', '0.6', 'metres,', 'at', '16:01.']\n",
      "[TideMark(t_date='04', t_seq=0, t_type='Low', t_height='0.7', t_time='01:08'), TideMark(t_date='04', t_seq=1, t_type='High', t_height='3.4', t_time='07:46'), TideMark(t_date='04', t_seq=2, t_type='Low', t_height='0.7', t_time='13:21'), TideMark(t_date='04', t_seq=3, t_type='High', t_height='3.7', t_time='19:59'), TideMark(t_date='05', t_seq=0, t_type='Low', t_height='0.6', t_time='01:53'), TideMark(t_date='05', t_seq=1, t_type='High', t_height='3.5', t_time='08:28'), TideMark(t_date='05', t_seq=2, t_type='Low', t_height='0.6', t_time='14:03'), TideMark(t_date='05', t_seq=3, t_type='High', t_height='3.8', t_time='20:37'), TideMark(t_date='06', t_seq=0, t_type='Low', t_height='0.6', t_time='02:33'), TideMark(t_date='06', t_seq=1, t_type='High', t_height='3.5', t_time='09:01'), TideMark(t_date='06', t_seq=2, t_type='Low', t_height='0.6', t_time='14:39'), TideMark(t_date='06', t_seq=3, t_type='High', t_height='3.8', t_time='21:08'), TideMark(t_date='07', t_seq=0, t_type='Low', t_height='0.6', t_time='03:06'), TideMark(t_date='07', t_seq=1, t_type='High', t_height='3.5', t_time='09:28'), TideMark(t_date='07', t_seq=2, t_type='Low', t_height='0.6', t_time='15:10'), TideMark(t_date='07', t_seq=3, t_type='High', t_height='3.7', t_time='21:33'), TideMark(t_date='08', t_seq=0, t_type='Low', t_height='0.6', t_time='03:33'), TideMark(t_date='08', t_seq=1, t_type='High', t_height='3.5', t_time='09:49'), TideMark(t_date='08', t_seq=2, t_type='Low', t_height='0.6', t_time='15:36'), TideMark(t_date='08', t_seq=3, t_type='High', t_height='3.7', t_time='21:55'), TideMark(t_date='09', t_seq=0, t_type='Low', t_height='0.6', t_time='03:56'), TideMark(t_date='09', t_seq=1, t_type='High', t_height='3.4', t_time='10:09'), TideMark(t_date='09', t_seq=2, t_type='Low', t_height='0.6', t_time='16:01')]\n",
      "['High', 'Water', 'of', '3.6', 'metres,', 'at', '22:18.']\n",
      "[TideMark(t_date='04', t_seq=0, t_type='Low', t_height='0.7', t_time='01:08'), TideMark(t_date='04', t_seq=1, t_type='High', t_height='3.4', t_time='07:46'), TideMark(t_date='04', t_seq=2, t_type='Low', t_height='0.7', t_time='13:21'), TideMark(t_date='04', t_seq=3, t_type='High', t_height='3.7', t_time='19:59'), TideMark(t_date='05', t_seq=0, t_type='Low', t_height='0.6', t_time='01:53'), TideMark(t_date='05', t_seq=1, t_type='High', t_height='3.5', t_time='08:28'), TideMark(t_date='05', t_seq=2, t_type='Low', t_height='0.6', t_time='14:03'), TideMark(t_date='05', t_seq=3, t_type='High', t_height='3.8', t_time='20:37'), TideMark(t_date='06', t_seq=0, t_type='Low', t_height='0.6', t_time='02:33'), TideMark(t_date='06', t_seq=1, t_type='High', t_height='3.5', t_time='09:01'), TideMark(t_date='06', t_seq=2, t_type='Low', t_height='0.6', t_time='14:39'), TideMark(t_date='06', t_seq=3, t_type='High', t_height='3.8', t_time='21:08'), TideMark(t_date='07', t_seq=0, t_type='Low', t_height='0.6', t_time='03:06'), TideMark(t_date='07', t_seq=1, t_type='High', t_height='3.5', t_time='09:28'), TideMark(t_date='07', t_seq=2, t_type='Low', t_height='0.6', t_time='15:10'), TideMark(t_date='07', t_seq=3, t_type='High', t_height='3.7', t_time='21:33'), TideMark(t_date='08', t_seq=0, t_type='Low', t_height='0.6', t_time='03:33'), TideMark(t_date='08', t_seq=1, t_type='High', t_height='3.5', t_time='09:49'), TideMark(t_date='08', t_seq=2, t_type='Low', t_height='0.6', t_time='15:36'), TideMark(t_date='08', t_seq=3, t_type='High', t_height='3.7', t_time='21:55'), TideMark(t_date='09', t_seq=0, t_type='Low', t_height='0.6', t_time='03:56'), TideMark(t_date='09', t_seq=1, t_type='High', t_height='3.4', t_time='10:09'), TideMark(t_date='09', t_seq=2, t_type='Low', t_height='0.6', t_time='16:01'), TideMark(t_date='09', t_seq=3, t_type='High', t_height='3.6', t_time='22:18')]\n",
      "['Sat', '10', 'Aug']\n",
      "['Low', 'Water', 'of', '0.6', 'metres,', 'at', '04:19.']\n",
      "[TideMark(t_date='04', t_seq=0, t_type='Low', t_height='0.7', t_time='01:08'), TideMark(t_date='04', t_seq=1, t_type='High', t_height='3.4', t_time='07:46'), TideMark(t_date='04', t_seq=2, t_type='Low', t_height='0.7', t_time='13:21'), TideMark(t_date='04', t_seq=3, t_type='High', t_height='3.7', t_time='19:59'), TideMark(t_date='05', t_seq=0, t_type='Low', t_height='0.6', t_time='01:53'), TideMark(t_date='05', t_seq=1, t_type='High', t_height='3.5', t_time='08:28'), TideMark(t_date='05', t_seq=2, t_type='Low', t_height='0.6', t_time='14:03'), TideMark(t_date='05', t_seq=3, t_type='High', t_height='3.8', t_time='20:37'), TideMark(t_date='06', t_seq=0, t_type='Low', t_height='0.6', t_time='02:33'), TideMark(t_date='06', t_seq=1, t_type='High', t_height='3.5', t_time='09:01'), TideMark(t_date='06', t_seq=2, t_type='Low', t_height='0.6', t_time='14:39'), TideMark(t_date='06', t_seq=3, t_type='High', t_height='3.8', t_time='21:08'), TideMark(t_date='07', t_seq=0, t_type='Low', t_height='0.6', t_time='03:06'), TideMark(t_date='07', t_seq=1, t_type='High', t_height='3.5', t_time='09:28'), TideMark(t_date='07', t_seq=2, t_type='Low', t_height='0.6', t_time='15:10'), TideMark(t_date='07', t_seq=3, t_type='High', t_height='3.7', t_time='21:33'), TideMark(t_date='08', t_seq=0, t_type='Low', t_height='0.6', t_time='03:33'), TideMark(t_date='08', t_seq=1, t_type='High', t_height='3.5', t_time='09:49'), TideMark(t_date='08', t_seq=2, t_type='Low', t_height='0.6', t_time='15:36'), TideMark(t_date='08', t_seq=3, t_type='High', t_height='3.7', t_time='21:55'), TideMark(t_date='09', t_seq=0, t_type='Low', t_height='0.6', t_time='03:56'), TideMark(t_date='09', t_seq=1, t_type='High', t_height='3.4', t_time='10:09'), TideMark(t_date='09', t_seq=2, t_type='Low', t_height='0.6', t_time='16:01'), TideMark(t_date='09', t_seq=3, t_type='High', t_height='3.6', t_time='22:18'), TideMark(t_date='10', t_seq=0, t_type='Low', t_height='0.6', t_time='04:19')]\n",
      "['High', 'Water', 'of', '3.3', 'metres,', 'at', '10:34.']\n",
      "[TideMark(t_date='04', t_seq=0, t_type='Low', t_height='0.7', t_time='01:08'), TideMark(t_date='04', t_seq=1, t_type='High', t_height='3.4', t_time='07:46'), TideMark(t_date='04', t_seq=2, t_type='Low', t_height='0.7', t_time='13:21'), TideMark(t_date='04', t_seq=3, t_type='High', t_height='3.7', t_time='19:59'), TideMark(t_date='05', t_seq=0, t_type='Low', t_height='0.6', t_time='01:53'), TideMark(t_date='05', t_seq=1, t_type='High', t_height='3.5', t_time='08:28'), TideMark(t_date='05', t_seq=2, t_type='Low', t_height='0.6', t_time='14:03'), TideMark(t_date='05', t_seq=3, t_type='High', t_height='3.8', t_time='20:37'), TideMark(t_date='06', t_seq=0, t_type='Low', t_height='0.6', t_time='02:33'), TideMark(t_date='06', t_seq=1, t_type='High', t_height='3.5', t_time='09:01'), TideMark(t_date='06', t_seq=2, t_type='Low', t_height='0.6', t_time='14:39'), TideMark(t_date='06', t_seq=3, t_type='High', t_height='3.8', t_time='21:08'), TideMark(t_date='07', t_seq=0, t_type='Low', t_height='0.6', t_time='03:06'), TideMark(t_date='07', t_seq=1, t_type='High', t_height='3.5', t_time='09:28'), TideMark(t_date='07', t_seq=2, t_type='Low', t_height='0.6', t_time='15:10'), TideMark(t_date='07', t_seq=3, t_type='High', t_height='3.7', t_time='21:33'), TideMark(t_date='08', t_seq=0, t_type='Low', t_height='0.6', t_time='03:33'), TideMark(t_date='08', t_seq=1, t_type='High', t_height='3.5', t_time='09:49'), TideMark(t_date='08', t_seq=2, t_type='Low', t_height='0.6', t_time='15:36'), TideMark(t_date='08', t_seq=3, t_type='High', t_height='3.7', t_time='21:55'), TideMark(t_date='09', t_seq=0, t_type='Low', t_height='0.6', t_time='03:56'), TideMark(t_date='09', t_seq=1, t_type='High', t_height='3.4', t_time='10:09'), TideMark(t_date='09', t_seq=2, t_type='Low', t_height='0.6', t_time='16:01'), TideMark(t_date='09', t_seq=3, t_type='High', t_height='3.6', t_time='22:18'), TideMark(t_date='10', t_seq=0, t_type='Low', t_height='0.6', t_time='04:19'), TideMark(t_date='10', t_seq=1, t_type='High', t_height='3.3', t_time='10:34')]\n",
      "['Low', 'Water', 'of', '0.7', 'metres,', 'at', '16:26.']\n",
      "[TideMark(t_date='04', t_seq=0, t_type='Low', t_height='0.7', t_time='01:08'), TideMark(t_date='04', t_seq=1, t_type='High', t_height='3.4', t_time='07:46'), TideMark(t_date='04', t_seq=2, t_type='Low', t_height='0.7', t_time='13:21'), TideMark(t_date='04', t_seq=3, t_type='High', t_height='3.7', t_time='19:59'), TideMark(t_date='05', t_seq=0, t_type='Low', t_height='0.6', t_time='01:53'), TideMark(t_date='05', t_seq=1, t_type='High', t_height='3.5', t_time='08:28'), TideMark(t_date='05', t_seq=2, t_type='Low', t_height='0.6', t_time='14:03'), TideMark(t_date='05', t_seq=3, t_type='High', t_height='3.8', t_time='20:37'), TideMark(t_date='06', t_seq=0, t_type='Low', t_height='0.6', t_time='02:33'), TideMark(t_date='06', t_seq=1, t_type='High', t_height='3.5', t_time='09:01'), TideMark(t_date='06', t_seq=2, t_type='Low', t_height='0.6', t_time='14:39'), TideMark(t_date='06', t_seq=3, t_type='High', t_height='3.8', t_time='21:08'), TideMark(t_date='07', t_seq=0, t_type='Low', t_height='0.6', t_time='03:06'), TideMark(t_date='07', t_seq=1, t_type='High', t_height='3.5', t_time='09:28'), TideMark(t_date='07', t_seq=2, t_type='Low', t_height='0.6', t_time='15:10'), TideMark(t_date='07', t_seq=3, t_type='High', t_height='3.7', t_time='21:33'), TideMark(t_date='08', t_seq=0, t_type='Low', t_height='0.6', t_time='03:33'), TideMark(t_date='08', t_seq=1, t_type='High', t_height='3.5', t_time='09:49'), TideMark(t_date='08', t_seq=2, t_type='Low', t_height='0.6', t_time='15:36'), TideMark(t_date='08', t_seq=3, t_type='High', t_height='3.7', t_time='21:55'), TideMark(t_date='09', t_seq=0, t_type='Low', t_height='0.6', t_time='03:56'), TideMark(t_date='09', t_seq=1, t_type='High', t_height='3.4', t_time='10:09'), TideMark(t_date='09', t_seq=2, t_type='Low', t_height='0.6', t_time='16:01'), TideMark(t_date='09', t_seq=3, t_type='High', t_height='3.6', t_time='22:18'), TideMark(t_date='10', t_seq=0, t_type='Low', t_height='0.6', t_time='04:19'), TideMark(t_date='10', t_seq=1, t_type='High', t_height='3.3', t_time='10:34'), TideMark(t_date='10', t_seq=2, t_type='Low', t_height='0.7', t_time='16:26')]\n",
      "['High', 'Water', 'of', '3.4', 'metres,', 'at', '22:45.']\n",
      "[TideMark(t_date='04', t_seq=0, t_type='Low', t_height='0.7', t_time='01:08'), TideMark(t_date='04', t_seq=1, t_type='High', t_height='3.4', t_time='07:46'), TideMark(t_date='04', t_seq=2, t_type='Low', t_height='0.7', t_time='13:21'), TideMark(t_date='04', t_seq=3, t_type='High', t_height='3.7', t_time='19:59'), TideMark(t_date='05', t_seq=0, t_type='Low', t_height='0.6', t_time='01:53'), TideMark(t_date='05', t_seq=1, t_type='High', t_height='3.5', t_time='08:28'), TideMark(t_date='05', t_seq=2, t_type='Low', t_height='0.6', t_time='14:03'), TideMark(t_date='05', t_seq=3, t_type='High', t_height='3.8', t_time='20:37'), TideMark(t_date='06', t_seq=0, t_type='Low', t_height='0.6', t_time='02:33'), TideMark(t_date='06', t_seq=1, t_type='High', t_height='3.5', t_time='09:01'), TideMark(t_date='06', t_seq=2, t_type='Low', t_height='0.6', t_time='14:39'), TideMark(t_date='06', t_seq=3, t_type='High', t_height='3.8', t_time='21:08'), TideMark(t_date='07', t_seq=0, t_type='Low', t_height='0.6', t_time='03:06'), TideMark(t_date='07', t_seq=1, t_type='High', t_height='3.5', t_time='09:28'), TideMark(t_date='07', t_seq=2, t_type='Low', t_height='0.6', t_time='15:10'), TideMark(t_date='07', t_seq=3, t_type='High', t_height='3.7', t_time='21:33'), TideMark(t_date='08', t_seq=0, t_type='Low', t_height='0.6', t_time='03:33'), TideMark(t_date='08', t_seq=1, t_type='High', t_height='3.5', t_time='09:49'), TideMark(t_date='08', t_seq=2, t_type='Low', t_height='0.6', t_time='15:36'), TideMark(t_date='08', t_seq=3, t_type='High', t_height='3.7', t_time='21:55'), TideMark(t_date='09', t_seq=0, t_type='Low', t_height='0.6', t_time='03:56'), TideMark(t_date='09', t_seq=1, t_type='High', t_height='3.4', t_time='10:09'), TideMark(t_date='09', t_seq=2, t_type='Low', t_height='0.6', t_time='16:01'), TideMark(t_date='09', t_seq=3, t_type='High', t_height='3.6', t_time='22:18'), TideMark(t_date='10', t_seq=0, t_type='Low', t_height='0.6', t_time='04:19'), TideMark(t_date='10', t_seq=1, t_type='High', t_height='3.3', t_time='10:34'), TideMark(t_date='10', t_seq=2, t_type='Low', t_height='0.7', t_time='16:26'), TideMark(t_date='10', t_seq=3, t_type='High', t_height='3.4', t_time='22:45')]\n",
      "----------------\n",
      "04,\n",
      "Low,01:08,0.7,\n",
      "High,07:46,3.4,\n",
      "Low,13:21,0.7,\n",
      "High,19:59,3.7,\n",
      "----------------\n",
      "05,\n",
      "Low,01:53,0.6,\n",
      "High,08:28,3.5,\n",
      "Low,14:03,0.6,\n",
      "High,20:37,3.8,\n",
      "----------------\n",
      "06,\n",
      "Low,02:33,0.6,\n",
      "High,09:01,3.5,\n",
      "Low,14:39,0.6,\n",
      "High,21:08,3.8,\n",
      "----------------\n",
      "07,\n",
      "Low,03:06,0.6,\n",
      "High,09:28,3.5,\n",
      "Low,15:10,0.6,\n",
      "High,21:33,3.7,\n",
      "----------------\n",
      "08,\n",
      "Low,03:33,0.6,\n",
      "High,09:49,3.5,\n",
      "Low,15:36,0.6,\n",
      "High,21:55,3.7,\n",
      "----------------\n",
      "09,\n",
      "Low,03:56,0.6,\n",
      "High,10:09,3.4,\n",
      "Low,16:01,0.6,\n",
      "High,22:18,3.6,\n",
      "----------------\n",
      "10,\n",
      "Low,04:19,0.6,\n",
      "High,10:34,3.3,\n",
      "Low,16:26,0.7,\n",
      "High,22:45,3.4,\n",
      "[]\n"
     ]
    }
   ],
   "source": [
    "formatted_tides = []\n",
    "for line in high_lows:\n",
    "    words = line.split()\n",
    "    print(words)\n",
    "    # If the sentence starts with Sun, Mon, etc, then keep words 1 (base 0)\n",
    "    # (date, but not day). Month can be inferred downstream\n",
    "    if words[0] in (\"Sun\",\"Mon\",\"Tues\",\"Weds\",\"Thurs\",\"Fri\",\"Sat\"):\n",
    "        formatted_tides.append(\"----------------\")\n",
    "        formatted_tides.append(f\"{words[1]},\")\n",
    "        curr_date = words[1]\n",
    "        curr_seq = 0\n",
    "        # new record required\n",
    "        \n",
    "        continue\n",
    "    # After previous block, 7 or more words means a High or Low water sentence. \n",
    "    # Words 0 (base zero), 3 and 6 are respectively High/Low, tide-height, and \n",
    "    # time. Other words and characters are discarded\n",
    "    if len(words) >= 7:\n",
    "        formatted_tides.append(f\"{words[0]},{words[6].rstrip('.')},{words[3]},\")\n",
    "        \n",
    "        curr_type = words[0]\n",
    "        curr_time = words[6].rstrip('.')\n",
    "        curr_height = words[3]\n",
    "        # dataclass populates here:\n",
    "        tide_mark = TideMark(curr_date, curr_seq, curr_type, curr_height, curr_time)\n",
    "        tide_marks.append(tide_mark)\n",
    "        print(tide_marks)\n",
    "        curr_seq += 1\n",
    "        continue     \n",
    "for line in formatted_tides:\n",
    "    print(line)\n",
    "\n",
    "for tide in tides:\n",
    "    print(tide)\n",
    "\n",
    "print(tides)"
   ]
  },
  {
   "cell_type": "code",
   "execution_count": 4,
   "id": "d1b17b18-849d-49d8-942e-ebbc7fb4c9e6",
   "metadata": {},
   "outputs": [
    {
     "name": "stdout",
     "output_type": "stream",
     "text": [
      "['04,', 'Low,01:08,0.7,', 'High,07:46,3.4,', 'Low,13:21,0.7,', 'High,19:59,3.7,', '05,', 'Low,01:53,0.6,', 'High,08:28,3.5,', 'Low,14:03,0.6,', 'High,20:37,3.8,', '06,', 'Low,02:33,0.6,', 'High,09:01,3.5,', 'Low,14:39,0.6,', 'High,21:08,3.8,', '07,', 'Low,03:06,0.6,', 'High,09:28,3.5,', 'Low,15:10,0.6,', 'High,21:33,3.7,', '08,', 'Low,03:33,0.6,', 'High,09:49,3.5,', 'Low,15:36,0.6,', 'High,21:55,3.7,', '09,', 'Low,03:56,0.6,', 'High,10:09,3.4,', 'Low,16:01,0.6,', 'High,22:18,3.6,', '10,', 'Low,04:19,0.6,', 'High,10:34,3.3,', 'Low,16:26,0.7,', 'High,22:45,3.4,']\n"
     ]
    }
   ],
   "source": [
    "lines2 = [line for line in formatted_tides if not line.startswith('-')]\n",
    "print(lines2)"
   ]
  },
  {
   "cell_type": "code",
   "execution_count": 5,
   "id": "28dd5622-fa3e-4e08-bc8c-9b05398b642f",
   "metadata": {},
   "outputs": [
    {
     "name": "stdout",
     "output_type": "stream",
     "text": [
      "04,Low,01:08,0.7,High,07:46,3.4,Low,13:21,0.7,High,19:59,3.7,\n",
      "05,Low,01:53,0.6,High,08:28,3.5,Low,14:03,0.6,High,20:37,3.8,\n",
      "06,Low,02:33,0.6,High,09:01,3.5,Low,14:39,0.6,High,21:08,3.8,\n",
      "07,Low,03:06,0.6,High,09:28,3.5,Low,15:10,0.6,High,21:33,3.7,\n",
      "08,Low,03:33,0.6,High,09:49,3.5,Low,15:36,0.6,High,21:55,3.7,\n",
      "09,Low,03:56,0.6,High,10:09,3.4,Low,16:01,0.6,High,22:18,3.6,\n",
      "10,Low,04:19,0.6,High,10:34,3.3,Low,16:26,0.7,High,22:45,3.4,\n"
     ]
    }
   ],
   "source": [
    "tide_days = []\n",
    "data = lines2\n",
    "day_tides = []\n",
    "current_day_tide = \"\"\n",
    "\n",
    "# Iterate through the data\n",
    "for item in data:\n",
    "    # Check if the item has 2 characters (indicating the start of a record)\n",
    "    if len(item) == 3:\n",
    "        # If we have a current record, add it to the grouped_records list\n",
    "        if current_day_tide:\n",
    "            day_tides.append(current_day_tide)\n",
    "        # Start a new record\n",
    "        current_day_tide = item\n",
    "    else:\n",
    "        # Concatenate the item to the current record\n",
    "        current_day_tide += item\n",
    "\n",
    "# Add the last record (if any) to the grouped_records list\n",
    "if current_day_tide:\n",
    "    day_tides.append(current_day_tide)\n",
    "\n",
    "# Print the grouped records\n",
    "for tide in day_tides:\n",
    "    print(tide)"
   ]
  },
  {
   "cell_type": "code",
   "execution_count": 6,
   "id": "96088887-85cf-4f42-9008-fdbaba4da139",
   "metadata": {},
   "outputs": [],
   "source": [
    "def insert_tidal_range(record):\n",
    "    # Split the record by commas\n",
    "    parts = record.split(',')\n",
    "    \n",
    "    # Extract the decimal values (skipping the first word)\n",
    "    values = [float(part) for part in parts[1:] if part.replace('.', '', 1).isdigit()]\n",
    "    \n",
    "    # Calculate the difference between the highest and lowest values\n",
    "    difference = max(values) - min(values)\n",
    "    \n",
    "    # Insert the difference between \"Low\" and \"01:53\"\n",
    "    parts.insert(1, f\"{difference:.1f}\")\n",
    "    \n",
    "    # Join the modified parts back into a string\n",
    "    modified_record = ','.join(parts)\n",
    "    \n",
    "    return modified_record\n",
    "\n",
    "# Example usage:\n",
    "#record = \"05,Low,01:53,0.6,High,08:28,3.5,Low,14:03,0.6,High,20:37,3.8\"\n",
    "#result = insert_tidal_range(record)\n",
    "#print(result)"
   ]
  },
  {
   "cell_type": "code",
   "execution_count": 7,
   "id": "bfa57c46-dbb3-4e9d-a7b2-229181a00183",
   "metadata": {},
   "outputs": [
    {
     "name": "stdout",
     "output_type": "stream",
     "text": [
      "04,3.0,Low,01:08,0.7,High,07:46,3.4,Low,13:21,0.7,High,19:59,3.7,\n",
      "05,3.2,Low,01:53,0.6,High,08:28,3.5,Low,14:03,0.6,High,20:37,3.8,\n",
      "06,3.2,Low,02:33,0.6,High,09:01,3.5,Low,14:39,0.6,High,21:08,3.8,\n",
      "07,3.1,Low,03:06,0.6,High,09:28,3.5,Low,15:10,0.6,High,21:33,3.7,\n",
      "08,3.1,Low,03:33,0.6,High,09:49,3.5,Low,15:36,0.6,High,21:55,3.7,\n",
      "09,3.0,Low,03:56,0.6,High,10:09,3.4,Low,16:01,0.6,High,22:18,3.6,\n",
      "10,2.8,Low,04:19,0.6,High,10:34,3.3,Low,16:26,0.7,High,22:45,3.4,\n"
     ]
    }
   ],
   "source": [
    "# insert the tidal range - this is the difference between the max and\n",
    "# min tidal heights for the day\n",
    "tides_with_range = [insert_tidal_range(line) for line in day_tides]\n",
    "for tide in tides_with_range:\n",
    "    print(tide)"
   ]
  },
  {
   "cell_type": "code",
   "execution_count": 8,
   "id": "3be18604-e939-4e79-a52f-7d32a03157c8",
   "metadata": {},
   "outputs": [],
   "source": [
    "# return the usable tides for the day. Assume there are always 2,\n",
    "# from a set of 4, and sometimes 3. \n",
    "# For the 4-set case, I keep the middle two tides.\n",
    "# More work needed for the 3-set case, as needs more judgment about\n",
    "# which end-tide to keep.\n",
    "\n",
    "\n",
    "def get_usable_tides_for_day(record):\n",
    "     # Split the record by commas\n",
    "    parts = record.split(',')\n",
    "    # remove the last tide of the day, as typically, this is not\n",
    "    # usable:\n",
    "    parts = parts[:-4] \n",
    "    # for a 4-tide day, remove the first tide\n",
    "    if len(parts) == 11:\n",
    "        parts = parts[:2] + parts[5:]\n",
    "    modified_record = ','.join(parts)\n",
    "    return modified_record"
   ]
  },
  {
   "cell_type": "code",
   "execution_count": 9,
   "id": "dd49514c-87bc-4a83-bf09-16fc25ea2ab7",
   "metadata": {},
   "outputs": [
    {
     "name": "stdout",
     "output_type": "stream",
     "text": [
      "04,3.0,High,07:46,3.4,Low,13:21,0.7\n",
      "05,3.2,High,08:28,3.5,Low,14:03,0.6\n",
      "06,3.2,High,09:01,3.5,Low,14:39,0.6\n",
      "07,3.1,High,09:28,3.5,Low,15:10,0.6\n",
      "08,3.1,High,09:49,3.5,Low,15:36,0.6\n",
      "09,3.0,High,10:09,3.4,Low,16:01,0.6\n",
      "10,2.8,High,10:34,3.3,Low,16:26,0.7\n"
     ]
    }
   ],
   "source": [
    "usable_tides = [get_usable_tides_for_day(line) for line in tides_with_range]\n",
    "for tide in usable_tides:\n",
    "    print(tide)"
   ]
  },
  {
   "cell_type": "code",
   "execution_count": 10,
   "id": "f8b851b0-4d57-4408-a696-818b0d36c493",
   "metadata": {},
   "outputs": [],
   "source": [
    "def set_month_year(record, month_year):\n",
    "    parts = record.split(',')\n",
    "    # word 0 is the date - add the month and year\n",
    "    parts[0] = f\"{parts[0]}/{month_year}\"\n",
    "    modified_record = ','.join(parts)\n",
    "    return modified_record\n",
    "    "
   ]
  },
  {
   "cell_type": "code",
   "execution_count": 11,
   "id": "a4709bf9-b02a-49d4-9f5c-5814bb4e9451",
   "metadata": {},
   "outputs": [
    {
     "name": "stdout",
     "output_type": "stream",
     "text": [
      "04/08/2024,3.0,High,07:46,3.4,Low,13:21,0.7\n",
      "05/08/2024,3.2,High,08:28,3.5,Low,14:03,0.6\n",
      "06/08/2024,3.2,High,09:01,3.5,Low,14:39,0.6\n",
      "07/08/2024,3.1,High,09:28,3.5,Low,15:10,0.6\n",
      "08/08/2024,3.1,High,09:49,3.5,Low,15:36,0.6\n",
      "09/08/2024,3.0,High,10:09,3.4,Low,16:01,0.6\n",
      "10/08/2024,2.8,High,10:34,3.3,Low,16:26,0.7\n"
     ]
    }
   ],
   "source": [
    "full_tides = [set_month_year(line,\"08/2024\") for line in usable_tides]\n",
    "for tide in full_tides:\n",
    "    print(tide)"
   ]
  },
  {
   "cell_type": "code",
   "execution_count": null,
   "id": "24941c56-784a-4c88-a7ff-0d5ca4e39681",
   "metadata": {},
   "outputs": [],
   "source": []
  }
 ],
 "metadata": {
  "kernelspec": {
   "display_name": "Python 3 (ipykernel)",
   "language": "python",
   "name": "python3"
  },
  "language_info": {
   "codemirror_mode": {
    "name": "ipython",
    "version": 3
   },
   "file_extension": ".py",
   "mimetype": "text/x-python",
   "name": "python",
   "nbconvert_exporter": "python",
   "pygments_lexer": "ipython3",
   "version": "3.12.0"
  }
 },
 "nbformat": 4,
 "nbformat_minor": 5
}
