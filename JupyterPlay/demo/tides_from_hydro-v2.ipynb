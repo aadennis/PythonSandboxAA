{
 "cells": [
  {
   "cell_type": "markdown",
   "id": "b6494f4e-acf1-4663-8688-45494548a45a",
   "metadata": {},
   "source": [
    "<h1>Getting structured tides from hydrographic data</h1>\n",
    "<hr>\n",
    "<h2>Requirement</h2>\n",
    "Starting with hydrographic html for a given location <sub>see [OneNote 08.2024 tide times]</sub>, build structured tide data for a set of dates.  \n",
    "\n",
    "\n",
    "<hr>\n",
    "<h2>Entities</h2>\n",
    "<hr>\n",
    "<h3>TideForDay</h3>\n",
    "<h4>Definition</h4> Gathers data for a tide on a given calendar day\n",
    "<h4>Key</h4> t_date \n",
    "<h4>Cardinalities</h4> 1-M TideMark\n",
    "<h4>Data attributes</h4>\n",
    "<p></p>\n",
    "\n",
    "|Name|aka|data type|Definition| \n",
    "|:-------------|----|-------|:-------------| \n",
    "|\n",
    "|t_date| Tide Date | int | UID of the tide for a given day. Strictly an alternate key, but no need for surrogates here. Not \"date\" due to keyword conflict. This is the date, but does not include the month and year. That is added during the output to csv stage |\n",
    "|tidal_range|Tidal Range | float | The distance between the minimum low water mark, and the maximum high water mark, for that day |\n",
    "\n",
    "\n",
    "\n"
   ]
  },
  {
   "cell_type": "markdown",
   "id": "6fe996f2-f42a-4f9e-9961-1515b3926b96",
   "metadata": {},
   "source": [
    "<hr>\n",
    "<h3>TideMark</h3>\n",
    "<h4>Definition</h4> An instance of a high or low water mark\n",
    "<h4>Key</h4> 1. t_date 2. t_seq \n",
    "<h4>Cardinalities</h4> M->1 with parent TideForDay\n",
    "<h4>Data attributes</h4>\n",
    "<p></p>\n",
    "\n",
    "|Name|aka|Definition| \n",
    "|:-------------|:----|:-------------| \n",
    "|\n",
    "|t_date| Date | foreign key onto the parent TideForDay |\n",
    "|t_seq| Sequence in Day | Where this tide mark falls in the sequence of tides after midnight. Eg - first tide after midnight has sequence 1|\n",
    "|t_type| Type | Values are \"High\" or \"Low\", referring to whether this is a high or low water mark |\n",
    "|t_height| Height | the height of the high or low water mark. float to 1 decimal point. The incoming value may be negative, which is to be resolved to zero  |\n",
    "|t_time| Time | the time of the high or low water mark |\n",
    "\n",
    "\n",
    "\n",
    "\n"
   ]
  },
  {
   "cell_type": "code",
   "execution_count": 20,
   "id": "6b67981c-08ab-4548-8c96-e8ab069b7232",
   "metadata": {
    "editable": true,
    "slideshow": {
     "slide_type": ""
    },
    "tags": []
   },
   "outputs": [],
   "source": [
    "# pip install regex\n",
    "import re\n",
    "from dataclasses import dataclass\n",
    "from datetime import datetime\n",
    "\n",
    "@dataclass\n",
    "class TideMark:\n",
    "    t_date: int\n",
    "    t_seq: int\n",
    "    t_type: str # High or Low\n",
    "    t_height: float\n",
    "    t_time: datetime\n",
    "\n",
    "@dataclass\n",
    "class TideForDay:\n",
    "    t_date: int\n",
    "    tidal_range: float # distance between min and max tide_marks\n",
    "\n",
    "\n",
    "tide_marks = []\n",
    "tides = []\n",
    "\n",
    "with open(\"./hydro_2024.08.27.txt\",\"r\") as infile:\n",
    "    lines = infile.readlines()\n",
    "\n"
   ]
  },
  {
   "cell_type": "code",
   "execution_count": 21,
   "id": "0b519455-38ee-4fa1-a0c9-b2a329568dee",
   "metadata": {},
   "outputs": [
    {
     "name": "stdout",
     "output_type": "stream",
     "text": [
      "['Tues 27 Aug', 'High Water of 3.2 metres, at 00:24.', 'Low Water of 1.0 metres, at 06:05.', 'High Water of 3.1 metres, at 12:52.', 'Low Water of 1.2 metres, at 18:27.\\t-', 'Weds 28 Aug', 'High Water of 2.9 metres, at 01:25.', 'Low Water of 1.2 metres, at 07:04.', 'High Water of 2.9 metres, at 14:00.', 'Low Water of 1.4 metres, at 20:01.\\t-', 'Thurs 29 Aug', 'High Water of 2.7 metres, at 02:43.', 'Low Water of 1.4 metres, at 08:41.', 'High Water of 2.9 metres, at 15:22.', 'Low Water of 1.3 metres, at 21:39.\\t-', 'Fri 30 Aug', 'High Water of 2.7 metres, at 04:25.', 'Low Water of 1.3 metres, at 10:05.', 'High Water of 3.1 metres, at 16:58.', 'Low Water of 1.1 metres, at 23:02.\\t-', 'Sat 31 Aug', 'High Water of 3.0 metres, at 05:49.', 'Low Water of 1.0 metres, at 11:18.', 'High Water of 3.4 metres, at 18:05.\\t-\\t-']\n"
     ]
    }
   ],
   "source": [
    "# Data example:\n",
    "# Sun 04 AugNew moon on this day\n",
    "# High Water of 3.7 metres, at 19:59.\n",
    "\n",
    "# Remove any blank lines, then I only want lines that start with the values in ok_search_terms\n",
    "# Where a value is Sun, Mon, etc, subsequent records refer to the low or high-water times for\n",
    "# that day... until you hit a new day. Etc.\n",
    "ok_search_terms = (\"Low\",\"High\",\"Fri\",\"Sat\",\"Sun\",\"Mon\",\"Tue\",\"Wed\",\"Thur\")\n",
    "#remove non-printing chars - typically tab etc\n",
    "cleaned_lines = [line.strip() for line in lines]\n",
    "high_lows = [line for line in cleaned_lines if line.startswith(ok_search_terms)]\n",
    "print(high_lows)"
   ]
  },
  {
   "cell_type": "code",
   "execution_count": 22,
   "id": "c0a8fc9f-e7ab-4355-bc1f-2a09885560b8",
   "metadata": {},
   "outputs": [
    {
     "name": "stdout",
     "output_type": "stream",
     "text": [
      "TideMark(t_date=27, t_seq=0, t_type='High', t_height='3.2', t_time='00:24')\n",
      "TideMark(t_date=27, t_seq=1, t_type='Low', t_height='1.0', t_time='06:05')\n",
      "TideMark(t_date=27, t_seq=2, t_type='High', t_height='3.1', t_time='12:52')\n",
      "TideMark(t_date=27, t_seq=3, t_type='Low', t_height='1.2', t_time='18:27')\n",
      "TideMark(t_date=28, t_seq=0, t_type='High', t_height='2.9', t_time='01:25')\n",
      "TideMark(t_date=28, t_seq=1, t_type='Low', t_height='1.2', t_time='07:04')\n",
      "TideMark(t_date=28, t_seq=2, t_type='High', t_height='2.9', t_time='14:00')\n",
      "TideMark(t_date=28, t_seq=3, t_type='Low', t_height='1.4', t_time='20:01')\n",
      "TideMark(t_date=29, t_seq=0, t_type='High', t_height='2.7', t_time='02:43')\n",
      "TideMark(t_date=29, t_seq=1, t_type='Low', t_height='1.4', t_time='08:41')\n",
      "TideMark(t_date=29, t_seq=2, t_type='High', t_height='2.9', t_time='15:22')\n",
      "TideMark(t_date=29, t_seq=3, t_type='Low', t_height='1.3', t_time='21:39')\n",
      "TideMark(t_date=30, t_seq=0, t_type='High', t_height='2.7', t_time='04:25')\n",
      "TideMark(t_date=30, t_seq=1, t_type='Low', t_height='1.3', t_time='10:05')\n",
      "TideMark(t_date=30, t_seq=2, t_type='High', t_height='3.1', t_time='16:58')\n",
      "TideMark(t_date=30, t_seq=3, t_type='Low', t_height='1.1', t_time='23:02')\n",
      "TideMark(t_date=31, t_seq=0, t_type='High', t_height='3.0', t_time='05:49')\n",
      "TideMark(t_date=31, t_seq=1, t_type='Low', t_height='1.0', t_time='11:18')\n",
      "TideMark(t_date=31, t_seq=2, t_type='High', t_height='3.4', t_time='18:05')\n"
     ]
    }
   ],
   "source": [
    "for line in high_lows:\n",
    "    words = line.split()\n",
    "\n",
    "    # If the sentence starts with Sun, Mon, etc, then subsequent records are\n",
    "    # high/low water times. Keep words 1 (base 0)\n",
    "    # (date, but not day). Month and year will be entered downstream\n",
    "    if words[0] in (\"Sun\",\"Mon\",\"Tues\",\"Weds\",\"Thurs\",\"Fri\",\"Sat\"):\n",
    "        curr_date = int(words[1])\n",
    "        curr_seq = 0\n",
    "        # new record required\n",
    "        \n",
    "        continue\n",
    "    # After previous block, 7 or more words means a High or Low water sentence. \n",
    "    # Words 0 (base zero), 3 and 6 are respectively High/Low, tide-height, and \n",
    "    # time. Other words and characters are discarded\n",
    "    if len(words) >= 7:\n",
    "       \n",
    "        curr_type = words[0]\n",
    "        curr_time = words[6].rstrip('.')\n",
    "        curr_height = words[3]\n",
    "        # dataclass populates here:\n",
    "        tide_mark = TideMark(curr_date, curr_seq, curr_type, curr_height, curr_time)\n",
    "        tide_marks.append(tide_mark)\n",
    "        #print(tide_mark)\n",
    "        curr_seq += 1\n",
    "        continue     \n",
    "\n",
    "\n",
    "for tide in tide_marks:\n",
    "    print(tide)\n",
    "\n",
    "#print(tides)"
   ]
  },
  {
   "cell_type": "code",
   "execution_count": 23,
   "id": "807af6e3-5f21-4a62-8884-2ffddb29d09d",
   "metadata": {},
   "outputs": [],
   "source": [
    "def pp(object_to_print):\n",
    "    pprint.pprint(object_to_print)"
   ]
  },
  {
   "cell_type": "code",
   "execution_count": 24,
   "id": "28dd5622-fa3e-4e08-bc8c-9b05398b642f",
   "metadata": {},
   "outputs": [
    {
     "name": "stdout",
     "output_type": "stream",
     "text": [
      "[27, 28, 29, 30, 31]\n",
      "[TideMark(t_date=27, t_seq=0, t_type='High', t_height='3.2', t_time='00:24'),\n",
      " TideMark(t_date=27, t_seq=1, t_type='Low', t_height='1.0', t_time='06:05'),\n",
      " TideMark(t_date=27, t_seq=2, t_type='High', t_height='3.1', t_time='12:52'),\n",
      " TideMark(t_date=27, t_seq=3, t_type='Low', t_height='1.2', t_time='18:27'),\n",
      " TideMark(t_date=28, t_seq=0, t_type='High', t_height='2.9', t_time='01:25'),\n",
      " TideMark(t_date=28, t_seq=1, t_type='Low', t_height='1.2', t_time='07:04'),\n",
      " TideMark(t_date=28, t_seq=2, t_type='High', t_height='2.9', t_time='14:00'),\n",
      " TideMark(t_date=28, t_seq=3, t_type='Low', t_height='1.4', t_time='20:01'),\n",
      " TideMark(t_date=29, t_seq=0, t_type='High', t_height='2.7', t_time='02:43'),\n",
      " TideMark(t_date=29, t_seq=1, t_type='Low', t_height='1.4', t_time='08:41'),\n",
      " TideMark(t_date=29, t_seq=2, t_type='High', t_height='2.9', t_time='15:22'),\n",
      " TideMark(t_date=29, t_seq=3, t_type='Low', t_height='1.3', t_time='21:39'),\n",
      " TideMark(t_date=30, t_seq=0, t_type='High', t_height='2.7', t_time='04:25'),\n",
      " TideMark(t_date=30, t_seq=1, t_type='Low', t_height='1.3', t_time='10:05'),\n",
      " TideMark(t_date=30, t_seq=2, t_type='High', t_height='3.1', t_time='16:58'),\n",
      " TideMark(t_date=30, t_seq=3, t_type='Low', t_height='1.1', t_time='23:02'),\n",
      " TideMark(t_date=31, t_seq=0, t_type='High', t_height='3.0', t_time='05:49'),\n",
      " TideMark(t_date=31, t_seq=1, t_type='Low', t_height='1.0', t_time='11:18'),\n",
      " TideMark(t_date=31, t_seq=2, t_type='High', t_height='3.4', t_time='18:05')]\n",
      "[(27, 0, 'High', 3.2, '00:24'),\n",
      " (27, 1, 'Low', 1.0, '06:05'),\n",
      " (27, 2, 'High', 3.1, '12:52'),\n",
      " (27, 3, 'Low', 1.2, '18:27'),\n",
      " (28, 0, 'High', 2.9, '01:25'),\n",
      " (28, 1, 'Low', 1.2, '07:04'),\n",
      " (28, 2, 'High', 2.9, '14:00'),\n",
      " (28, 3, 'Low', 1.4, '20:01'),\n",
      " (29, 0, 'High', 2.7, '02:43'),\n",
      " (29, 1, 'Low', 1.4, '08:41'),\n",
      " (29, 2, 'High', 2.9, '15:22'),\n",
      " (29, 3, 'Low', 1.3, '21:39'),\n",
      " (30, 0, 'High', 2.7, '04:25'),\n",
      " (30, 1, 'Low', 1.3, '10:05'),\n",
      " (30, 2, 'High', 3.1, '16:58'),\n",
      " (30, 3, 'Low', 1.1, '23:02'),\n",
      " (31, 0, 'High', 3.0, '05:49'),\n",
      " (31, 1, 'Low', 1.0, '11:18'),\n",
      " (31, 2, 'High', 3.4, '18:05')]\n",
      "{27: {'High': 3.2, 'Low': 1.0},\n",
      " 28: {'High': 2.9, 'Low': 1.2},\n",
      " 29: {'High': 2.9, 'Low': 1.3},\n",
      " 30: {'High': 3.1, 'Low': 1.1},\n",
      " 31: {'High': 3.4, 'Low': 1.0}}\n",
      "{27: {'High': 3.2, 'Low': 1.0},\n",
      " 28: {'High': 2.9, 'Low': 1.2},\n",
      " 29: {'High': 2.9, 'Low': 1.3},\n",
      " 30: {'High': 3.1, 'Low': 1.1},\n",
      " 31: {'High': 3.4, 'Low': 1.0}}\n"
     ]
    }
   ],
   "source": [
    "import pprint\n",
    "# Initialize a dictionary to store the highest and lowest heights for each date\n",
    "heights_by_date = {}\n",
    "\n",
    "# Get a sorted list of the unique dates for this set of tides. \n",
    "# Example: [4, 5, 6, 7]\n",
    "unique_dates = list(set(int(mark.t_date) for mark in tide_marks))\n",
    "unique_dates.sort()\n",
    "pp(unique_dates)\n",
    "water_marks = {}\n",
    "for d in unique_dates:\n",
    "    water_marks[d] = {'Low':100,'High':-100}\n",
    "\n",
    "pp(tide_marks)\n",
    "\n",
    "tide_heights = [(int(mark.t_date), mark.t_seq, mark.t_type, float(mark.t_height), mark.t_time) for mark in tide_marks]\n",
    "\n",
    "pp(tide_heights)\n",
    "\n",
    "for test_tide in tide_heights:\n",
    "    test_date = test_tide[0]\n",
    "    test_type = test_tide[2]\n",
    "    new_height = test_tide[3]\n",
    "    \n",
    "    #print(water_marks[test_date])\n",
    "    #print(water_marks[test_date][test_type])\n",
    "    if  test_type == 'Low':\n",
    "        if  new_height < water_marks[test_date][test_type]:\n",
    "            water_marks[test_date][test_type] = new_height\n",
    "    else: # High\n",
    "        if  new_height > water_marks[test_date][test_type]:\n",
    "            water_marks[test_date][test_type] = new_height\n",
    "\n",
    "pprint.pprint(water_marks)\n",
    "    \n",
    "pprint.pprint(water_marks)"
   ]
  },
  {
   "cell_type": "code",
   "execution_count": 25,
   "id": "a1fe2742-4d5c-49e6-a398-ca4a577567d8",
   "metadata": {},
   "outputs": [
    {
     "name": "stdout",
     "output_type": "stream",
     "text": [
      "{27: {'High': 3.2, 'Low': 1.0, 'TidalRange': 2.2},\n",
      " 28: {'High': 2.9, 'Low': 1.2, 'TidalRange': 1.7},\n",
      " 29: {'High': 2.9, 'Low': 1.3, 'TidalRange': 1.6},\n",
      " 30: {'High': 3.1, 'Low': 1.1, 'TidalRange': 2.0},\n",
      " 31: {'High': 3.4, 'Low': 1.0, 'TidalRange': 2.4}}\n"
     ]
    }
   ],
   "source": [
    "# get the tidal range\n",
    "for i in water_marks:\n",
    "    t_high = water_marks[i]['High']\n",
    "    t_low = water_marks[i]['Low']\n",
    "    water_marks[i]['TidalRange'] = round(t_high - t_low,2)\n",
    "pprint.pprint(water_marks)"
   ]
  },
  {
   "cell_type": "code",
   "execution_count": 26,
   "id": "e9590f56-f3b1-4ce6-9d2a-1fad73146512",
   "metadata": {},
   "outputs": [
    {
     "name": "stdout",
     "output_type": "stream",
     "text": [
      "[TideForDay(t_date=27, tidal_range=2.2),\n",
      " TideForDay(t_date=28, tidal_range=1.7),\n",
      " TideForDay(t_date=29, tidal_range=1.6),\n",
      " TideForDay(t_date=30, tidal_range=2.0),\n",
      " TideForDay(t_date=31, tidal_range=2.4)]\n",
      "[TideMark(t_date=27, t_seq=0, t_type='High', t_height='3.2', t_time='00:24'),\n",
      " TideMark(t_date=27, t_seq=1, t_type='Low', t_height='1.0', t_time='06:05'),\n",
      " TideMark(t_date=27, t_seq=2, t_type='High', t_height='3.1', t_time='12:52'),\n",
      " TideMark(t_date=27, t_seq=3, t_type='Low', t_height='1.2', t_time='18:27'),\n",
      " TideMark(t_date=28, t_seq=0, t_type='High', t_height='2.9', t_time='01:25'),\n",
      " TideMark(t_date=28, t_seq=1, t_type='Low', t_height='1.2', t_time='07:04'),\n",
      " TideMark(t_date=28, t_seq=2, t_type='High', t_height='2.9', t_time='14:00'),\n",
      " TideMark(t_date=28, t_seq=3, t_type='Low', t_height='1.4', t_time='20:01'),\n",
      " TideMark(t_date=29, t_seq=0, t_type='High', t_height='2.7', t_time='02:43'),\n",
      " TideMark(t_date=29, t_seq=1, t_type='Low', t_height='1.4', t_time='08:41'),\n",
      " TideMark(t_date=29, t_seq=2, t_type='High', t_height='2.9', t_time='15:22'),\n",
      " TideMark(t_date=29, t_seq=3, t_type='Low', t_height='1.3', t_time='21:39'),\n",
      " TideMark(t_date=30, t_seq=0, t_type='High', t_height='2.7', t_time='04:25'),\n",
      " TideMark(t_date=30, t_seq=1, t_type='Low', t_height='1.3', t_time='10:05'),\n",
      " TideMark(t_date=30, t_seq=2, t_type='High', t_height='3.1', t_time='16:58'),\n",
      " TideMark(t_date=30, t_seq=3, t_type='Low', t_height='1.1', t_time='23:02'),\n",
      " TideMark(t_date=31, t_seq=0, t_type='High', t_height='3.0', t_time='05:49'),\n",
      " TideMark(t_date=31, t_seq=1, t_type='Low', t_height='1.0', t_time='11:18'),\n",
      " TideMark(t_date=31, t_seq=2, t_type='High', t_height='3.4', t_time='18:05')]\n"
     ]
    }
   ],
   "source": [
    "# populate the tide_day class from the dictionary\n",
    "tidal_ranges_by_date = [TideForDay(t_date=key, tidal_range=value['TidalRange']) for key, value in water_marks.items()]\n",
    "pp(tidal_ranges_by_date)\n",
    "pp(tide_marks)\n"
   ]
  },
  {
   "cell_type": "code",
   "execution_count": 27,
   "id": "bfa57c46-dbb3-4e9d-a7b2-229181a00183",
   "metadata": {},
   "outputs": [],
   "source": [
    "# Given a date, add the month and year to which this applies\n",
    "def add_month_year(t_date):\n",
    "    month = \"08\"\n",
    "    year = \"2024\"\n",
    "    return f\"{t_date}/{month}/{year}\"\n",
    "    \n",
    "    "
   ]
  },
  {
   "cell_type": "code",
   "execution_count": 28,
   "id": "24941c56-784a-4c88-a7ff-0d5ca4e39681",
   "metadata": {},
   "outputs": [
    {
     "name": "stdout",
     "output_type": "stream",
     "text": [
      "27/08/2024,2.2,Low,06:05,1.0,High,12:52,3.1\n",
      "28/08/2024,1.7,Low,07:04,1.2,High,14:00,2.9\n",
      "29/08/2024,1.6,Low,08:41,1.4,High,15:22,2.9\n",
      "30/08/2024,2.0,Low,10:05,1.3,High,16:58,3.1\n",
      "31/08/2024,2.4,Low,11:18,1.0,High,18:05,3.4\n",
      "\n"
     ]
    }
   ],
   "source": [
    "# Now that the objects are populated, we can loop over these to\n",
    "# create the csv for importing into a spreadsheet\n",
    "# I want 2 tides per day, the \"usable\" tides, when I have a chance of\n",
    "# getting down to the sea. There are 3 or 4 water marks in a calendar\n",
    "# day. Take the first 2 that occur after say 0600.\n",
    "# Drive the loop from the parent class\n",
    "\n",
    "tides_as_csv = \"\"\n",
    "x = \"\"\n",
    "for i in tidal_ranges_by_date:\n",
    "    \n",
    "    #print(i)\n",
    "    x += f\"{add_month_year(i.t_date)},{i.tidal_range}\"\n",
    "    m = [mark for mark in tide_marks if mark.t_date == i.t_date and mark.t_time > \"06:00\"]\n",
    "    sorted_marks = sorted(m, key=lambda x: x.t_seq, reverse=False)\n",
    "    tide_count = 0\n",
    "    for sorted_mark in sorted_marks:\n",
    "        if tide_count < 2:\n",
    "            x += f\",{sorted_mark.t_type},{sorted_mark.t_time},{sorted_mark.t_height}\"\n",
    "        tide_count += 1\n",
    "    x += \"\\n\"\n",
    "    \n",
    "    # print(\"m------------\")\n",
    "    # print(m)\n",
    "    # print(\"------------\")\n",
    "    # print(sorted_marks)\n",
    "    \n",
    "print(x)    \n",
    "# 02,High,2.5,05:53,3.1,Low,11:31,0.9,High,18:18,3.4,\n",
    "# 03,Low,2.8,00:15,0.8,High,06:56,3.3,Low,12:32,0.8,High,19:13,3.6,\n",
    "# 04,Low,3.0,01:08,0.7,High,07:46,3.4,Low,13:21,0.7,High,19:59,3.7,\n",
    "# 05,Low,3.2,01:53,0.6,High,08:28,3.5,Low,14:03,0.6,High,20:37,3.8,\n",
    "# 06,Low,3.2,02:33,0.6,High,09:01,3.5,Low,14:39,0.6,High,21:08,3.8,\n",
    "# 07,Low,3.1,03:06,0.6,High,09:28,3.5,Low,15:10,0.6,High,21:33,3.7,\n",
    "# 08,Low,2.9,03:33,0.6,High,09:49,3.5,Low,15:36,0.6,"
   ]
  },
  {
   "cell_type": "code",
   "execution_count": null,
   "id": "dd49514c-87bc-4a83-bf09-16fc25ea2ab7",
   "metadata": {},
   "outputs": [],
   "source": []
  }
 ],
 "metadata": {
  "kernelspec": {
   "display_name": "Python 3 (ipykernel)",
   "language": "python",
   "name": "python3"
  },
  "language_info": {
   "codemirror_mode": {
    "name": "ipython",
    "version": 3
   },
   "file_extension": ".py",
   "mimetype": "text/x-python",
   "name": "python",
   "nbconvert_exporter": "python",
   "pygments_lexer": "ipython3",
   "version": "3.12.0"
  }
 },
 "nbformat": 4,
 "nbformat_minor": 5
}
