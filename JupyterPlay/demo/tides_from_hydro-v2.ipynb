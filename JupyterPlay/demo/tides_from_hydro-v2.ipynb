{
 "cells": [
  {
   "cell_type": "markdown",
   "id": "b6494f4e-acf1-4663-8688-45494548a45a",
   "metadata": {},
   "source": [
    "<h1>Getting structured tides from hydrographic data</h1>\n",
    "<hr>\n",
    "<h2>Requirement</h2>\n",
    "Starting with hydrographic html for a given location <sub>see [OneNote 08.2024 tide times]</sub>, build structured tide data for a set of dates.  \n",
    "\n",
    "\n",
    "<hr>\n",
    "<h2>Entities</h2>\n",
    "<hr>\n",
    "<h3>TideForDay</h3>\n",
    "<h4>Definition</h4> Gathers data for a tide on a given calendar day\n",
    "<h4>Key</h4> t_date \n",
    "<h4>Cardinalities</h4> 1-M TideMark\n",
    "<h4>Data attributes</h4>\n",
    "<p></p>\n",
    "\n",
    "|Name|aka|data type|Definition| \n",
    "|:-------------|----|-------|:-------------| \n",
    "|\n",
    "|t_date| Tide Date | int | UID of the tide for a given day. Strictly an alternate key, but no need for surrogates here. Not \"date\" due to keyword conflict. This is the date, but does not include the month and year. That is added during the output to csv stage |\n",
    "|tidal_range|Tidal Range | float | The distance between the minimum low water mark, and the maximum high water mark, for that day |\n",
    "\n",
    "\n",
    "\n"
   ]
  },
  {
   "cell_type": "markdown",
   "id": "6fe996f2-f42a-4f9e-9961-1515b3926b96",
   "metadata": {},
   "source": [
    "<hr>\n",
    "<h3>TideMark</h3>\n",
    "<h4>Definition</h4> An instance of a high or low water mark\n",
    "<h4>Key</h4> 1. t_date 2. t_seq \n",
    "<h4>Cardinalities</h4> M->1 with parent TideForDay\n",
    "<h4>Data attributes</h4>\n",
    "<p></p>\n",
    "\n",
    "|Name|aka|Definition| \n",
    "|:-------------|:----|:-------------| \n",
    "|\n",
    "|t_date| Date | foreign key onto the parent TideForDay |\n",
    "|t_seq| Sequence in Day | Where this tide mark falls in the sequence of tides after midnight. Eg - first tide after midnight has sequence 1|\n",
    "|t_type| Type | Values are \"High\" or \"Low\", referring to whether this is a high or low water mark |\n",
    "|t_height| Height | the height of the high or low water mark. float to 1 decimal point. The incoming value may be negative, which is to be resolved to zero  |\n",
    "|t_time| Time | the time of the high or low water mark |\n",
    "\n",
    "\n",
    "\n",
    "\n"
   ]
  },
  {
   "cell_type": "code",
   "execution_count": 1,
   "id": "6b67981c-08ab-4548-8c96-e8ab069b7232",
   "metadata": {
    "editable": true,
    "slideshow": {
     "slide_type": ""
    },
    "tags": []
   },
   "outputs": [],
   "source": [
    "# pip install regex\n",
    "import re\n",
    "from dataclasses import dataclass\n",
    "from datetime import datetime\n",
    "\n",
    "@dataclass\n",
    "class TideMark:\n",
    "    t_date: int\n",
    "    t_seq: int\n",
    "    t_type: str # High or Low\n",
    "    t_height: float\n",
    "    t_time: datetime\n",
    "\n",
    "@dataclass\n",
    "class TideForDay:\n",
    "    t_date: int\n",
    "    tidal_range: float # distance between min and max tide_marks\n",
    "\n",
    "\n",
    "tide_marks = []\n",
    "tides = []\n",
    "\n",
    "with open(\"./hydro_2024.09.01.txt\",\"r\") as infile:\n",
    "    lines = infile.readlines()\n",
    "\n"
   ]
  },
  {
   "cell_type": "code",
   "execution_count": 2,
   "id": "0b519455-38ee-4fa1-a0c9-b2a329568dee",
   "metadata": {},
   "outputs": [
    {
     "name": "stdout",
     "output_type": "stream",
     "text": [
      "['Sun 01 Sep', 'Low Water of 0.8 metres, at 00:01.', 'High Water of 3.3 metres, at 06:42.', 'Low Water of 0.8 metres, at 12:15.', 'High Water of 3.6 metres, at 18:54.', 'Mon 02 Sep', 'Low Water of 0.6 metres, at 00:49.', 'High Water of 3.5 metres, at 07:25.', 'Low Water of 0.6 metres, at 13:00.', 'High Water of 3.8 metres, at 19:35.', 'Tues 03 SepNew moon on this day', 'Low Water of 0.5 metres, at 01:30.', 'High Water of 3.6 metres, at 08:01.', 'Low Water of 0.5 metres, at 13:40.', 'High Water of 3.9 metres, at 20:10.', 'Weds 04 Sep', 'Low Water of 0.5 metres, at 02:06.', 'High Water of 3.7 metres, at 08:31.', 'Low Water of 0.5 metres, at 14:14.', 'High Water of 3.9 metres, at 20:39.', 'Thurs 05 Sep', 'Low Water of 0.5 metres, at 02:37.', 'High Water of 3.7 metres, at 08:56.', 'Low Water of 0.5 metres, at 14:44.', 'High Water of 3.9 metres, at 21:03.', 'Fri 06 Sep', 'Low Water of 0.5 metres, at 03:04.', 'High Water of 3.7 metres, at 09:18.', 'Low Water of 0.5 metres, at 15:10.', 'High Water of 3.8 metres, at 21:26.', 'Sat 07 Sep', 'Low Water of 0.5 metres, at 03:27.', 'High Water of 3.6 metres, at 09:40.', 'Low Water of 0.6 metres, at 15:34.', 'High Water of 3.7 metres, at 21:51.']\n"
     ]
    }
   ],
   "source": [
    "# Data example:\n",
    "# Sun 04 AugNew moon on this day\n",
    "# High Water of 3.7 metres, at 19:59.\n",
    "\n",
    "# Remove any blank lines, then I only want lines that start with the values in ok_search_terms\n",
    "# Where a value is Sun, Mon, etc, subsequent records refer to the low or high-water times for\n",
    "# that day... until you hit a new day. Etc.\n",
    "ok_search_terms = (\"Low\",\"High\",\"Fri\",\"Sat\",\"Sun\",\"Mon\",\"Tue\",\"Wed\",\"Thur\")\n",
    "#remove non-printing chars - typically tab etc\n",
    "cleaned_lines = [line.strip() for line in lines]\n",
    "high_lows = [line for line in cleaned_lines if line.startswith(ok_search_terms)]\n",
    "print(high_lows)"
   ]
  },
  {
   "cell_type": "code",
   "execution_count": 26,
   "id": "c0a8fc9f-e7ab-4355-bc1f-2a09885560b8",
   "metadata": {},
   "outputs": [
    {
     "ename": "NameError",
     "evalue": "name 'curr_date' is not defined",
     "output_type": "error",
     "traceback": [
      "\u001b[1;31m---------------------------------------------------------------------------\u001b[0m",
      "\u001b[1;31mNameError\u001b[0m                                 Traceback (most recent call last)",
      "Cell \u001b[1;32mIn[26], line 22\u001b[0m\n\u001b[0;32m     20\u001b[0m curr_height \u001b[38;5;241m=\u001b[39m words[\u001b[38;5;241m3\u001b[39m]\n\u001b[0;32m     21\u001b[0m \u001b[38;5;66;03m# dataclass populates here:\u001b[39;00m\n\u001b[1;32m---> 22\u001b[0m tide_mark \u001b[38;5;241m=\u001b[39m TideMark(\u001b[43mcurr_date\u001b[49m, curr_seq, curr_type, curr_height, curr_time)\n\u001b[0;32m     23\u001b[0m tide_marks\u001b[38;5;241m.\u001b[39mappend(tide_mark)\n\u001b[0;32m     24\u001b[0m \u001b[38;5;66;03m#print(tide_mark)\u001b[39;00m\n",
      "\u001b[1;31mNameError\u001b[0m: name 'curr_date' is not defined"
     ]
    }
   ],
   "source": [
    "for line in high_lows:\n",
    "    words = line.split()\n",
    "\n",
    "    # If the sentence starts with Sun, Mon, etc, then subsequent records are\n",
    "    # high/low water times. Keep words 1 (base 0)\n",
    "    # (date, but not day). Month and year will be entered downstream\n",
    "    if words[0] in (\"Sun\",\"Mon\",\"Tues\",\"Weds\",\"Thurs\",\"Fri\",\"Sat\"):\n",
    "        curr_date = int(words[1])\n",
    "        curr_seq = 0\n",
    "        # new record required\n",
    "        \n",
    "        continue\n",
    "    # After previous block, 7 or more words means a High or Low water sentence. \n",
    "    # Words 0 (base zero), 3 and 6 are respectively High/Low, tide-height, and \n",
    "    # time. Other words and characters are discarded\n",
    "    if len(words) >= 7:\n",
    "       \n",
    "        curr_type = words[0]\n",
    "        curr_time = words[6].rstrip('.')\n",
    "        curr_height = words[3]\n",
    "        # dataclass populates here:\n",
    "        tide_mark = TideMark(curr_date, curr_seq, curr_type, curr_height, curr_time)\n",
    "        tide_marks.append(tide_mark)\n",
    "        #print(tide_mark)\n",
    "        curr_seq += 1\n",
    "        continue     \n",
    "\n",
    "\n",
    "for tide in tide_marks:\n",
    "    print(tide)\n",
    "\n",
    "#print(tides)"
   ]
  },
  {
   "cell_type": "code",
   "execution_count": 14,
   "id": "807af6e3-5f21-4a62-8884-2ffddb29d09d",
   "metadata": {},
   "outputs": [],
   "source": [
    "def pp(object_to_print):\n",
    "    pprint.pprint(object_to_print)"
   ]
  },
  {
   "cell_type": "code",
   "execution_count": 15,
   "id": "28dd5622-fa3e-4e08-bc8c-9b05398b642f",
   "metadata": {},
   "outputs": [
    {
     "name": "stdout",
     "output_type": "stream",
     "text": [
      "[]\n",
      "[]\n",
      "[]\n",
      "{}\n",
      "{}\n"
     ]
    }
   ],
   "source": [
    "import pprint\n",
    "# Initialize a dictionary to store the highest and lowest heights for each date\n",
    "heights_by_date = {}\n",
    "\n",
    "# Get a sorted list of the unique dates for this set of tides. \n",
    "# Example: [4, 5, 6, 7]\n",
    "unique_dates = list(set(int(mark.t_date) for mark in tide_marks))\n",
    "unique_dates.sort()\n",
    "pp(unique_dates)\n",
    "water_marks = {}\n",
    "for d in unique_dates:\n",
    "    water_marks[d] = {'Low':100,'High':-100}\n",
    "\n",
    "pp(tide_marks)\n",
    "\n",
    "tide_heights = [(int(mark.t_date), mark.t_seq, mark.t_type, float(mark.t_height), mark.t_time) for mark in tide_marks]\n",
    "\n",
    "pp(tide_heights)\n",
    "\n",
    "for test_tide in tide_heights:\n",
    "    test_date = test_tide[0]\n",
    "    test_type = test_tide[2]\n",
    "    new_height = test_tide[3]\n",
    "    \n",
    "    #print(water_marks[test_date])\n",
    "    #print(water_marks[test_date][test_type])\n",
    "    if  test_type == 'Low':\n",
    "        if  new_height < water_marks[test_date][test_type]:\n",
    "            water_marks[test_date][test_type] = new_height\n",
    "    else: # High\n",
    "        if  new_height > water_marks[test_date][test_type]:\n",
    "            water_marks[test_date][test_type] = new_height\n",
    "\n",
    "pprint.pprint(water_marks)\n",
    "    \n",
    "pprint.pprint(water_marks)"
   ]
  },
  {
   "cell_type": "code",
   "execution_count": 16,
   "id": "a1fe2742-4d5c-49e6-a398-ca4a577567d8",
   "metadata": {},
   "outputs": [
    {
     "name": "stdout",
     "output_type": "stream",
     "text": [
      "{}\n"
     ]
    }
   ],
   "source": [
    "# get the tidal range\n",
    "for i in water_marks:\n",
    "    t_high = water_marks[i]['High']\n",
    "    t_low = water_marks[i]['Low']\n",
    "    water_marks[i]['TidalRange'] = round(t_high - t_low,2)\n",
    "pprint.pprint(water_marks)"
   ]
  },
  {
   "cell_type": "code",
   "execution_count": 17,
   "id": "e9590f56-f3b1-4ce6-9d2a-1fad73146512",
   "metadata": {},
   "outputs": [
    {
     "name": "stdout",
     "output_type": "stream",
     "text": [
      "[]\n",
      "[]\n"
     ]
    }
   ],
   "source": [
    "# populate the tide_day class from the dictionary\n",
    "tidal_ranges_by_date = [TideForDay(t_date=key, tidal_range=value['TidalRange']) for key, value in water_marks.items()]\n",
    "pp(tidal_ranges_by_date)\n",
    "pp(tide_marks)\n"
   ]
  },
  {
   "cell_type": "code",
   "execution_count": 18,
   "id": "bfa57c46-dbb3-4e9d-a7b2-229181a00183",
   "metadata": {},
   "outputs": [],
   "source": [
    "# Given a date, add the month and year to which this applies\n",
    "def add_month_year(t_date):\n",
    "    month = \"08\"\n",
    "    year = \"2024\"\n",
    "    return f\"{t_date}/{month}/{year}\"\n",
    "    \n",
    "    "
   ]
  },
  {
   "cell_type": "code",
   "execution_count": 20,
   "id": "24941c56-784a-4c88-a7ff-0d5ca4e39681",
   "metadata": {},
   "outputs": [
    {
     "name": "stdout",
     "output_type": "stream",
     "text": [
      "\n"
     ]
    }
   ],
   "source": [
    "# Now that the objects are populated, we can loop over these to\n",
    "# create the csv for importing into a spreadsheet\n",
    "# I want 2 tides per day, the \"usable\" tides, when I have a chance of\n",
    "# getting down to the sea. There are 3 or 4 water marks in a calendar\n",
    "# day. Take the first 2 that occur after say 0600.\n",
    "# Drive the loop from the parent class\n",
    "\n",
    "tides_as_csv = \"\"\n",
    "x = \"\"\n",
    "for i in tidal_ranges_by_date:\n",
    "    \n",
    "    #print(i)\n",
    "    x += f\"{add_month_year(i.t_date)},{i.tidal_range}\"\n",
    "    m = [mark for mark in tide_marks if mark.t_date == i.t_date and mark.t_time > \"06:00\"]\n",
    "    sorted_marks = sorted(m, key=lambda x: x.t_seq, reverse=False)\n",
    "    tide_count = 0\n",
    "    for sorted_mark in sorted_marks:\n",
    "        if tide_count < 2:\n",
    "            x += f\",{sorted_mark.t_type},{sorted_mark.t_time},{sorted_mark.t_height}\"\n",
    "        tide_count += 1\n",
    "    x += \"\\n\"\n",
    "    \n",
    "    # print(\"m------------\")\n",
    "    # print(m)\n",
    "    # print(\"------------\")\n",
    "    # print(sorted_marks)\n",
    "    \n",
    "print(x)    \n",
    "# 02,High,2.5,05:53,3.1,Low,11:31,0.9,High,18:18,3.4,\n",
    "# 03,Low,2.8,00:15,0.8,High,06:56,3.3,Low,12:32,0.8,High,19:13,3.6,\n",
    "# 04,Low,3.0,01:08,0.7,High,07:46,3.4,Low,13:21,0.7,High,19:59,3.7,\n",
    "# 05,Low,3.2,01:53,0.6,High,08:28,3.5,Low,14:03,0.6,High,20:37,3.8,\n",
    "# 06,Low,3.2,02:33,0.6,High,09:01,3.5,Low,14:39,0.6,High,21:08,3.8,\n",
    "# 07,Low,3.1,03:06,0.6,High,09:28,3.5,Low,15:10,0.6,High,21:33,3.7,\n",
    "# 08,Low,2.9,03:33,0.6,High,09:49,3.5,Low,15:36,0.6,"
   ]
  },
  {
   "cell_type": "code",
   "execution_count": null,
   "id": "dd49514c-87bc-4a83-bf09-16fc25ea2ab7",
   "metadata": {},
   "outputs": [],
   "source": []
  }
 ],
 "metadata": {
  "kernelspec": {
   "display_name": "Python 3 (ipykernel)",
   "language": "python",
   "name": "python3"
  },
  "language_info": {
   "codemirror_mode": {
    "name": "ipython",
    "version": 3
   },
   "file_extension": ".py",
   "mimetype": "text/x-python",
   "name": "python",
   "nbconvert_exporter": "python",
   "pygments_lexer": "ipython3",
   "version": "3.12.0"
  }
 },
 "nbformat": 4,
 "nbformat_minor": 5
}
