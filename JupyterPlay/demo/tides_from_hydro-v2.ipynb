{
 "cells": [
  {
   "cell_type": "markdown",
   "id": "b6494f4e-acf1-4663-8688-45494548a45a",
   "metadata": {},
   "source": [
    "<h1>Getting structured tides from hydrographic data</h1>\n",
    "<hr>\n",
    "<h2>Requirement</h2>\n",
    "Starting with hydrographic html for a given location, build structured tide data for a set of dates.    \n",
    "\n",
    "<hr>\n",
    "<h2>Entities</h2>\n",
    "<hr>\n",
    "<h3>TideForDay</h3>\n",
    "<h4>Definition</h4> Gathers data for a tide on a given calendar day\n",
    "<h4>Key</h4> t_date \n",
    "<h4>Cardinalities</h4> 1-M TideMark\n",
    "<h4>Data attributes</h4>\n",
    "<p></p>\n",
    "\n",
    "|Name|aka|Definition| \n",
    "|:-------------|----|:-------------| \n",
    "|\n",
    "|t_date| Tide Date | UID of the tide for a given day. Strictly an alternate key, but no need for surrogates here. Not \"date\" due to keyword conflict |\n",
    "|tidal_range|Tidal Range |The distance between the minimum low water mark, and the maximum high water mark, for that day |\n",
    "\n",
    "\n",
    "\n"
   ]
  },
  {
   "cell_type": "markdown",
   "id": "6fe996f2-f42a-4f9e-9961-1515b3926b96",
   "metadata": {},
   "source": [
    "<hr>\n",
    "<h3>TideMark</h3>\n",
    "<h4>Definition</h4> An instance of a high or low water mark\n",
    "<h4>Key</h4> 1. t_date 2. t_seq \n",
    "<h4>Cardinalities</h4> M->1 with parent TideForDay\n",
    "<h4>Data attributes</h4>\n",
    "<p></p>\n",
    "\n",
    "|Name|aka|Definition| \n",
    "|:-------------|:----|:-------------| \n",
    "|\n",
    "|t_date| Date | foreign key onto the parent TideForDay |\n",
    "|t_seq| Sequence in Day | Where this tide mark falls in the sequence of tides after midnight. Eg - first tide after midnight has sequence 1|\n",
    "|t_type| Type | Values are \"High\" or \"Low\", referring to whether this is a high or low water mark |\n",
    "|t_height| Height | the height of the high or low water mark. float to 1 decimal point. The incoming value may be negative, which is to be resolved to zero  |\n",
    "|t_time| Time | the time of the high or low water mark |\n",
    "\n",
    "\n",
    "\n",
    "\n"
   ]
  },
  {
   "cell_type": "code",
   "execution_count": 31,
   "id": "6b67981c-08ab-4548-8c96-e8ab069b7232",
   "metadata": {
    "editable": true,
    "slideshow": {
     "slide_type": ""
    },
    "tags": []
   },
   "outputs": [],
   "source": [
    "# pip install regex\n",
    "import re\n",
    "from dataclasses import dataclass\n",
    "from datetime import datetime\n",
    "\n",
    "@dataclass\n",
    "class TideMark:\n",
    "    t_date: int\n",
    "    t_seq: int\n",
    "    t_type: str # High or Low\n",
    "    t_height: float\n",
    "    t_time: datetime\n",
    "\n",
    "@dataclass\n",
    "class TideForDay:\n",
    "    t_date: int\n",
    "    tidal_range: float # distance between min and max tide_marks\n",
    "\n",
    "\n",
    "tide_marks = []\n",
    "tides = []\n",
    "\n",
    "with open(\"./hydro_2024.08.04.txt\",\"r\") as infile:\n",
    "    lines = infile.readlines()\n",
    "\n"
   ]
  },
  {
   "cell_type": "code",
   "execution_count": 32,
   "id": "0b519455-38ee-4fa1-a0c9-b2a329568dee",
   "metadata": {},
   "outputs": [
    {
     "name": "stdout",
     "output_type": "stream",
     "text": [
      "['Sun 04 AugNew moon on this day', 'Low Water of 0.7 metres, at 01:08.', 'High Water of 3.4 metres, at 07:46.', 'Low Water of 0.7 metres, at 13:21.', 'High Water of 3.7 metres, at 19:59.', 'Mon 05 Aug', 'Low Water of 0.6 metres, at 01:53.', 'High Water of 3.5 metres, at 08:28.', 'Low Water of 0.6 metres, at 14:03.', 'High Water of 3.8 metres, at 20:37.', 'Tues 06 Aug', 'Low Water of 0.6 metres, at 02:33.', 'High Water of 3.5 metres, at 09:01.', 'Low Water of 0.6 metres, at 14:39.', 'High Water of 3.8 metres, at 21:08.', 'Weds 07 Aug', 'Low Water of 0.6 metres, at 03:06.', 'High Water of 3.5 metres, at 09:28.', 'Low Water of 0.6 metres, at 15:10.', 'High Water of 3.7 metres, at 21:33.', 'Thurs 08 Aug', 'Low Water of 0.6 metres, at 03:33.', 'High Water of 3.5 metres, at 09:49.', 'Low Water of 0.6 metres, at 15:36.', 'High Water of 3.7 metres, at 21:55.', 'Fri 09 Aug', 'Low Water of 0.6 metres, at 03:56.', 'High Water of 3.4 metres, at 10:09.', 'Low Water of 0.6 metres, at 16:01.', 'High Water of 3.6 metres, at 22:18.', 'Sat 10 Aug', 'Low Water of 0.6 metres, at 04:19.', 'High Water of 3.3 metres, at 10:34.', 'Low Water of 0.7 metres, at 16:26.', 'High Water of 3.4 metres, at 22:45.']\n"
     ]
    }
   ],
   "source": [
    "# Data example:\n",
    "# Sun 04 AugNew moon on this day\n",
    "# High Water of 3.7 metres, at 19:59.\n",
    "\n",
    "# Remove any blank lines, then I only want lines that start with the values in ok_search_terms\n",
    "# Where a value is Sun, Mon, etc, subsequent records refer to the low or high-water times for\n",
    "# that day... until you hit a new day. Etc.\n",
    "ok_search_terms = (\"Low\",\"High\",\"Fri\",\"Sat\",\"Sun\",\"Mon\",\"Tue\",\"Wed\",\"Thur\")\n",
    "#remove non-printing chars - typically tab etc\n",
    "cleaned_lines = [line.strip() for line in lines]\n",
    "high_lows = [line for line in cleaned_lines if line.startswith(ok_search_terms)]\n",
    "print(high_lows)"
   ]
  },
  {
   "cell_type": "code",
   "execution_count": 33,
   "id": "c0a8fc9f-e7ab-4355-bc1f-2a09885560b8",
   "metadata": {},
   "outputs": [
    {
     "name": "stdout",
     "output_type": "stream",
     "text": [
      "TideMark(t_date='04', t_seq=0, t_type='Low', t_height='0.7', t_time='01:08')\n",
      "TideMark(t_date='04', t_seq=1, t_type='High', t_height='3.4', t_time='07:46')\n",
      "TideMark(t_date='04', t_seq=2, t_type='Low', t_height='0.7', t_time='13:21')\n",
      "TideMark(t_date='04', t_seq=3, t_type='High', t_height='3.7', t_time='19:59')\n",
      "TideMark(t_date='05', t_seq=0, t_type='Low', t_height='0.6', t_time='01:53')\n",
      "TideMark(t_date='05', t_seq=1, t_type='High', t_height='3.5', t_time='08:28')\n",
      "TideMark(t_date='05', t_seq=2, t_type='Low', t_height='0.6', t_time='14:03')\n",
      "TideMark(t_date='05', t_seq=3, t_type='High', t_height='3.8', t_time='20:37')\n",
      "TideMark(t_date='06', t_seq=0, t_type='Low', t_height='0.6', t_time='02:33')\n",
      "TideMark(t_date='06', t_seq=1, t_type='High', t_height='3.5', t_time='09:01')\n",
      "TideMark(t_date='06', t_seq=2, t_type='Low', t_height='0.6', t_time='14:39')\n",
      "TideMark(t_date='06', t_seq=3, t_type='High', t_height='3.8', t_time='21:08')\n",
      "TideMark(t_date='07', t_seq=0, t_type='Low', t_height='0.6', t_time='03:06')\n",
      "TideMark(t_date='07', t_seq=1, t_type='High', t_height='3.5', t_time='09:28')\n",
      "TideMark(t_date='07', t_seq=2, t_type='Low', t_height='0.6', t_time='15:10')\n",
      "TideMark(t_date='07', t_seq=3, t_type='High', t_height='3.7', t_time='21:33')\n",
      "TideMark(t_date='08', t_seq=0, t_type='Low', t_height='0.6', t_time='03:33')\n",
      "TideMark(t_date='08', t_seq=1, t_type='High', t_height='3.5', t_time='09:49')\n",
      "TideMark(t_date='08', t_seq=2, t_type='Low', t_height='0.6', t_time='15:36')\n",
      "TideMark(t_date='08', t_seq=3, t_type='High', t_height='3.7', t_time='21:55')\n",
      "TideMark(t_date='09', t_seq=0, t_type='Low', t_height='0.6', t_time='03:56')\n",
      "TideMark(t_date='09', t_seq=1, t_type='High', t_height='3.4', t_time='10:09')\n",
      "TideMark(t_date='09', t_seq=2, t_type='Low', t_height='0.6', t_time='16:01')\n",
      "TideMark(t_date='09', t_seq=3, t_type='High', t_height='3.6', t_time='22:18')\n",
      "TideMark(t_date='10', t_seq=0, t_type='Low', t_height='0.6', t_time='04:19')\n",
      "TideMark(t_date='10', t_seq=1, t_type='High', t_height='3.3', t_time='10:34')\n",
      "TideMark(t_date='10', t_seq=2, t_type='Low', t_height='0.7', t_time='16:26')\n",
      "TideMark(t_date='10', t_seq=3, t_type='High', t_height='3.4', t_time='22:45')\n"
     ]
    }
   ],
   "source": [
    "for line in high_lows:\n",
    "    words = line.split()\n",
    "\n",
    "    # If the sentence starts with Sun, Mon, etc, then subsequent records are\n",
    "    # high/low water times. Keep words 1 (base 0)\n",
    "    # (date, but not day). Month and year will be entered downstream\n",
    "    if words[0] in (\"Sun\",\"Mon\",\"Tues\",\"Weds\",\"Thurs\",\"Fri\",\"Sat\"):\n",
    "        curr_date = words[1]\n",
    "        curr_seq = 0\n",
    "        # new record required\n",
    "        \n",
    "        continue\n",
    "    # After previous block, 7 or more words means a High or Low water sentence. \n",
    "    # Words 0 (base zero), 3 and 6 are respectively High/Low, tide-height, and \n",
    "    # time. Other words and characters are discarded\n",
    "    if len(words) >= 7:\n",
    "       \n",
    "        curr_type = words[0]\n",
    "        curr_time = words[6].rstrip('.')\n",
    "        curr_height = words[3]\n",
    "        # dataclass populates here:\n",
    "        tide_mark = TideMark(curr_date, curr_seq, curr_type, curr_height, curr_time)\n",
    "        tide_marks.append(tide_mark)\n",
    "        #print(tide_mark)\n",
    "        curr_seq += 1\n",
    "        continue     \n",
    "\n",
    "\n",
    "for tide in tide_marks:\n",
    "    print(tide)\n",
    "\n",
    "#print(tides)"
   ]
  },
  {
   "cell_type": "code",
   "execution_count": 53,
   "id": "28dd5622-fa3e-4e08-bc8c-9b05398b642f",
   "metadata": {},
   "outputs": [
    {
     "name": "stdout",
     "output_type": "stream",
     "text": [
      "{'04': {'High': -100.0, 'Low': 100.0},\n",
      " '05': {'High': -100.0, 'Low': 100.0},\n",
      " '06': {'High': -100.0, 'Low': 100.0},\n",
      " '07': {'High': -100.0, 'Low': 100.0},\n",
      " '08': {'High': -100.0, 'Low': 100.0},\n",
      " '09': {'High': -100.0, 'Low': 100.0},\n",
      " '10': {'High': -100.0, 'Low': 100.0}}\n",
      "Date 04: Tidal range = -200.00 meters\n",
      "Date 05: Tidal range = -200.00 meters\n",
      "Date 06: Tidal range = -200.00 meters\n",
      "Date 07: Tidal range = -200.00 meters\n",
      "Date 08: Tidal range = -200.00 meters\n",
      "Date 09: Tidal range = -200.00 meters\n",
      "Date 10: Tidal range = -200.00 meters\n"
     ]
    }
   ],
   "source": [
    "import pprint\n",
    "# Initialize a dictionary to store the highest and lowest heights for each date\n",
    "heights_by_date = {}\n",
    "\n",
    "for mark in tide_marks:\n",
    "    t_date = mark.t_date\n",
    "    t_height = mark.t_height\n",
    "    #print(heights_by_date)\n",
    "    if mark.t_date not in heights_by_date:\n",
    "        heights_by_date[mark.t_date] = {'Low': float(100.0), 'High': float(-100.0)}\n",
    "    #print(heights_by_date[t_date])\n",
    "    #print(heights_by_date[t_date]['Low'])\n",
    "    if \n",
    "    m = heights_by_date[t_date][mark.t_type]\n",
    "    #print(f\"type:{mark.t_type} {m}\")\n",
    "\n",
    "    #heights_by_date[t_date][mark.t_type] = max(heights_by_date[t_date][mark.t_type], t_height)\n",
    "\n",
    "pprint.pprint(heights_by_date)\n",
    "    \n",
    "# Calculate tidal range for each date\n",
    "tidal_ranges = []\n",
    "for date, heights in heights_by_date.items():\n",
    "    tidal_range = heights['High'] - heights['Low']\n",
    "    tidal_ranges.append(TideForDay(t_date=date, tidal_range=tidal_range))\n",
    "\n",
    "# Print the results\n",
    "for day in tidal_ranges:\n",
    "    print(f\"Date {day.t_date}: Tidal range = {day.tidal_range:.2f} meters\")"
   ]
  },
  {
   "cell_type": "code",
   "execution_count": null,
   "id": "96088887-85cf-4f42-9008-fdbaba4da139",
   "metadata": {},
   "outputs": [],
   "source": [
    "def insert_tidal_range(record):\n",
    "    # Split the record by commas\n",
    "    parts = record.split(',')\n",
    "    \n",
    "    # Extract the decimal values (skipping the first word)\n",
    "    values = [float(part) for part in parts[1:] if part.replace('.', '', 1).isdigit()]\n",
    "    \n",
    "    # Calculate the difference between the highest and lowest values\n",
    "    difference = max(values) - min(values)\n",
    "    \n",
    "    # Insert the difference between \"Low\" and \"01:53\"\n",
    "    parts.insert(1, f\"{difference:.1f}\")\n",
    "    \n",
    "    # Join the modified parts back into a string\n",
    "    modified_record = ','.join(parts)\n",
    "    \n",
    "    return modified_record\n",
    "\n",
    "# Example usage:\n",
    "#record = \"05,Low,01:53,0.6,High,08:28,3.5,Low,14:03,0.6,High,20:37,3.8\"\n",
    "#result = insert_tidal_range(record)\n",
    "#print(result)"
   ]
  },
  {
   "cell_type": "code",
   "execution_count": null,
   "id": "bfa57c46-dbb3-4e9d-a7b2-229181a00183",
   "metadata": {},
   "outputs": [],
   "source": [
    "# insert the tidal range - this is the difference between the max and\n",
    "# min tidal heights for the day\n",
    "tides_with_range = [insert_tidal_range(line) for line in day_tides]\n",
    "for tide in tides_with_range:\n",
    "    print(tide)"
   ]
  },
  {
   "cell_type": "code",
   "execution_count": null,
   "id": "3be18604-e939-4e79-a52f-7d32a03157c8",
   "metadata": {},
   "outputs": [],
   "source": [
    "# return the usable tides for the day. Assume there are always 2,\n",
    "# from a set of 4, and sometimes 3. \n",
    "# For the 4-set case, I keep the middle two tides.\n",
    "# More work needed for the 3-set case, as needs more judgment about\n",
    "# which end-tide to keep.\n",
    "\n",
    "\n",
    "def get_usable_tides_for_day(record):\n",
    "     # Split the record by commas\n",
    "    parts = record.split(',')\n",
    "    # remove the last tide of the day, as typically, this is not\n",
    "    # usable:\n",
    "    parts = parts[:-4] \n",
    "    # for a 4-tide day, remove the first tide\n",
    "    if len(parts) == 11:\n",
    "        parts = parts[:2] + parts[5:]\n",
    "    modified_record = ','.join(parts)\n",
    "    return modified_record"
   ]
  },
  {
   "cell_type": "code",
   "execution_count": null,
   "id": "dd49514c-87bc-4a83-bf09-16fc25ea2ab7",
   "metadata": {},
   "outputs": [],
   "source": [
    "usable_tides = [get_usable_tides_for_day(line) for line in tides_with_range]\n",
    "for tide in usable_tides:\n",
    "    print(tide)"
   ]
  },
  {
   "cell_type": "code",
   "execution_count": null,
   "id": "f8b851b0-4d57-4408-a696-818b0d36c493",
   "metadata": {},
   "outputs": [],
   "source": [
    "def set_month_year(record, month_year):\n",
    "    parts = record.split(',')\n",
    "    # word 0 is the date - add the month and year\n",
    "    parts[0] = f\"{parts[0]}/{month_year}\"\n",
    "    modified_record = ','.join(parts)\n",
    "    return modified_record\n",
    "    "
   ]
  },
  {
   "cell_type": "code",
   "execution_count": null,
   "id": "a4709bf9-b02a-49d4-9f5c-5814bb4e9451",
   "metadata": {},
   "outputs": [],
   "source": [
    "full_tides = [set_month_year(line,\"08/2024\") for line in usable_tides]\n",
    "for tide in full_tides:\n",
    "    print(tide)"
   ]
  },
  {
   "cell_type": "code",
   "execution_count": null,
   "id": "24941c56-784a-4c88-a7ff-0d5ca4e39681",
   "metadata": {},
   "outputs": [],
   "source": []
  }
 ],
 "metadata": {
  "kernelspec": {
   "display_name": "Python 3 (ipykernel)",
   "language": "python",
   "name": "python3"
  },
  "language_info": {
   "codemirror_mode": {
    "name": "ipython",
    "version": 3
   },
   "file_extension": ".py",
   "mimetype": "text/x-python",
   "name": "python",
   "nbconvert_exporter": "python",
   "pygments_lexer": "ipython3",
   "version": "3.12.0"
  }
 },
 "nbformat": 4,
 "nbformat_minor": 5
}
