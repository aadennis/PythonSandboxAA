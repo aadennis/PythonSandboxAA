{
 "cells": [
  {
   "cell_type": "code",
   "execution_count": 9,
   "id": "cd25c737-9a61-47c3-87b2-5bcce8297b03",
   "metadata": {},
   "outputs": [
    {
     "name": "stdout",
     "output_type": "stream",
     "text": [
      "{1: {'High': -100, 'Low': 100},\n",
      " 2: {'High': -100, 'Low': 100},\n",
      " 3: {'High': -100, 'Low': 100},\n",
      " 4: {'High': -100, 'Low': 100},\n",
      " 5: {'High': -100, 'Low': 100}}\n"
     ]
    }
   ],
   "source": [
    "import pprint\n",
    "\n",
    "mahdict = {}\n",
    "for v in range(1,6):\n",
    "    mahdict[v] = {'Low':100,'High':-100}\n",
    "pprint.pprint(mahdict)\n"
   ]
  },
  {
   "cell_type": "code",
   "execution_count": 10,
   "id": "1fda419f-0ba8-4c9a-a16a-4ed734b761b8",
   "metadata": {},
   "outputs": [
    {
     "name": "stdout",
     "output_type": "stream",
     "text": [
      "\"test_tide: [3, 'Low', 3.2]\"\n",
      "\"test_tides: [[3, 'Low', 3.2], [4, 'High', 7.9]]\"\n",
      "{'Low': 100, 'High': -100}\n",
      "100\n",
      "3.2\n",
      "\"test_tide: [4, 'High', 7.9]\"\n",
      "\"test_tides: [[3, 'Low', 3.2], [4, 'High', 7.9]]\"\n",
      "{'Low': 100, 'High': -100}\n",
      "-100\n",
      "7.9\n",
      "{1: {'High': -100, 'Low': 100},\n",
      " 2: {'High': -100, 'Low': 100},\n",
      " 3: {'High': -100, 'Low': 3.2},\n",
      " 4: {'High': 7.9, 'Low': 100},\n",
      " 5: {'High': -100, 'Low': 100}}\n"
     ]
    }
   ],
   "source": [
    "#test_date = 3\n",
    "test_type = 'Low'\n",
    "test_height = 3.2\n",
    "test_tides = [\n",
    "    [3,'Low',3.2],\n",
    "    [4,'High',7.9]\n",
    "]\n",
    "\n",
    "for test_tide in test_tides:\n",
    "    pprint.pprint(f\"test_tide: {test_tide}\")\n",
    "\n",
    "    test_date = test_tide[0]\n",
    "    test_type = test_tide[1]\n",
    "    test_height = test_tide[2]\n",
    "    \n",
    "    pprint.pprint(f\"test_tides: {test_tides}\")\n",
    "    \n",
    "    print(mahdict[test_date])\n",
    "    print(mahdict[test_date][test_type])\n",
    "    if  mahdict[test_date][test_type] > test_height:\n",
    "        mahdict[test_date][test_type] = test_height\n",
    "    else:\n",
    "        if  mahdict[test_date][test_type] < test_height:\n",
    "            mahdict[test_date][test_type] = test_height\n",
    "    \n",
    "    print(mahdict[test_date][test_type])\n",
    "\n",
    "pprint.pprint(mahdict)\n"
   ]
  },
  {
   "cell_type": "code",
   "execution_count": null,
   "id": "ed566924-8be0-4362-aae7-246efe2a85b9",
   "metadata": {},
   "outputs": [],
   "source": []
  }
 ],
 "metadata": {
  "kernelspec": {
   "display_name": "Python 3 (ipykernel)",
   "language": "python",
   "name": "python3"
  },
  "language_info": {
   "codemirror_mode": {
    "name": "ipython",
    "version": 3
   },
   "file_extension": ".py",
   "mimetype": "text/x-python",
   "name": "python",
   "nbconvert_exporter": "python",
   "pygments_lexer": "ipython3",
   "version": "3.12.0"
  }
 },
 "nbformat": 4,
 "nbformat_minor": 5
}
