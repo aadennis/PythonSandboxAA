{
 "cells": [
  {
   "cell_type": "code",
   "execution_count": 1,
   "id": "cd25c737-9a61-47c3-87b2-5bcce8297b03",
   "metadata": {},
   "outputs": [
    {
     "name": "stdout",
     "output_type": "stream",
     "text": [
      "1\n",
      "2\n",
      "3\n",
      "4\n",
      "5\n",
      "{1: {'High': -101, 'Low': 101},\n",
      " 2: {'High': -102, 'Low': 102},\n",
      " 3: {'High': -103, 'Low': 103},\n",
      " 4: {'High': -104, 'Low': 104},\n",
      " 5: {'High': -105, 'Low': 105}}\n"
     ]
    }
   ],
   "source": [
    "import pprint\n",
    "mahdict = {}\n",
    "for v in range(1,6):\n",
    "    print(v)\n",
    "    mahdict[v] = {'Low':100+v,'High':-100-v}\n",
    "pprint.pprint(mahdict)\n"
   ]
  },
  {
   "cell_type": "code",
   "execution_count": 2,
   "id": "1fda419f-0ba8-4c9a-a16a-4ed734b761b8",
   "metadata": {},
   "outputs": [
    {
     "name": "stdout",
     "output_type": "stream",
     "text": [
      "{'Low': 103, 'High': -103}\n",
      "103\n",
      "3.2\n",
      "{1: {'High': -101, 'Low': 101},\n",
      " 2: {'High': -102, 'Low': 102},\n",
      " 3: {'High': -103, 'Low': 3.2},\n",
      " 4: {'High': -104, 'Low': 104},\n",
      " 5: {'High': -105, 'Low': 105}}\n"
     ]
    }
   ],
   "source": [
    "next_val = 3\n",
    "next_type = 'Low'\n",
    "next_height = 3.2\n",
    "print(mahdict[next_val])\n",
    "print(mahdict[next_val][next_type])\n",
    "if  mahdict[next_val][next_type] > next_height:\n",
    "    mahdict[next_val][next_type] = next_height\n",
    "print(mahdict[next_val][next_type])\n",
    "\n",
    "pprint.pprint(mahdict)\n"
   ]
  },
  {
   "cell_type": "code",
   "execution_count": null,
   "id": "ed566924-8be0-4362-aae7-246efe2a85b9",
   "metadata": {},
   "outputs": [],
   "source": []
  }
 ],
 "metadata": {
  "kernelspec": {
   "display_name": "Python 3 (ipykernel)",
   "language": "python",
   "name": "python3"
  },
  "language_info": {
   "codemirror_mode": {
    "name": "ipython",
    "version": 3
   },
   "file_extension": ".py",
   "mimetype": "text/x-python",
   "name": "python",
   "nbconvert_exporter": "python",
   "pygments_lexer": "ipython3",
   "version": "3.12.0"
  }
 },
 "nbformat": 4,
 "nbformat_minor": 5
}
