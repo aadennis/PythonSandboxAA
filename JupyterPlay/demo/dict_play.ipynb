{
 "cells": [
  {
   "cell_type": "markdown",
   "id": "6654ec3d-349d-41b8-97a5-9cbc93518a75",
   "metadata": {},
   "source": [
    "<h1>Dictionary POC for Tide times</h1> \n",
    "<hr>\n",
    "<p>POC - From the set of tides for a day, determine which are the highest and lowest water marks. From this, I can derive the tidal range</p>"
   ]
  },
  {
   "cell_type": "code",
   "execution_count": 10,
   "id": "616c4bde-8ac1-4fd3-a7de-f2fd0252ba50",
   "metadata": {},
   "outputs": [],
   "source": [
    "import pprint\n",
    "from dataclasses import dataclass\n",
    "from datetime import datetime\n",
    "\n",
    "@dataclass\n",
    "class TideMark:\n",
    "    t_date: int\n",
    "    t_seq: int\n",
    "    t_type: str  # High or Low\n",
    "    t_height: float\n",
    "    t_time: datetime\n",
    "\n",
    "\n",
    "tide_marks = [\n",
    "    TideMark(t_date='04', t_seq=0, t_type='Low', t_height='0.7', t_time='01:08'),\n",
    "    TideMark(t_date='04', t_seq=1, t_type='High', t_height='3.4', t_time='07:46'),\n",
    "    TideMark(t_date='04', t_seq=2, t_type='Low', t_height='0.7', t_time='13:21'),\n",
    "    TideMark(t_date='04', t_seq=3, t_type='High', t_height='3.7', t_time='19:59'),\n",
    "    \n",
    "    TideMark(t_date='05', t_seq=0, t_type='Low', t_height='0.6', t_time='01:53'),\n",
    "    TideMark(t_date='05', t_seq=1, t_type='High', t_height='6.5', t_time='08:28'),\n",
    "    TideMark(t_date='05', t_seq=2, t_type='Low', t_height='0.2', t_time='14:03'),\n",
    "    TideMark(t_date='05', t_seq=3, t_type='High', t_height='3.8', t_time='20:37'),\n",
    "    \n",
    "    TideMark(t_date='06', t_seq=0, t_type='Low', t_height='0.6', t_time='02:33'),\n",
    "    TideMark(t_date='06', t_seq=1, t_type='High', t_height='3.5', t_time='09:01'),\n",
    "    TideMark(t_date='06', t_seq=2, t_type='Low', t_height='0.6', t_time='14:39'),\n",
    "    TideMark(t_date='06', t_seq=3, t_type='High', t_height='3.8', t_time='21:08'),\n",
    "    \n",
    "    TideMark(t_date='07', t_seq=0, t_type='Low', t_height='0.6', t_time='03:06'),\n",
    "    TideMark(t_date='07', t_seq=1, t_type='High', t_height='3.5', t_time='09:28'),\n",
    "    TideMark(t_date='07', t_seq=2, t_type='Low', t_height='0.6', t_time='15:10'),\n",
    "    TideMark(t_date='07', t_seq=3, t_type='High', t_height='3.7', t_time='21:33')\n",
    "]\n",
    "\n"
   ]
  },
  {
   "cell_type": "code",
   "execution_count": 11,
   "id": "cd25c737-9a61-47c3-87b2-5bcce8297b03",
   "metadata": {},
   "outputs": [
    {
     "name": "stdout",
     "output_type": "stream",
     "text": [
      "{4: {'High': -100, 'Low': 100},\n",
      " 5: {'High': -100, 'Low': 100},\n",
      " 6: {'High': -100, 'Low': 100},\n",
      " 7: {'High': -100, 'Low': 100}}\n"
     ]
    }
   ],
   "source": [
    "# Get a sorted list of the unique dates for this set of tides. \n",
    "# Example: [4, 5, 6, 7]\n",
    "unique_dates = list(set(int(mark.t_date) for mark in tide_marks))\n",
    "unique_dates.sort()\n",
    "\n",
    "# Make a dictionary: for each day, set a placeholder for the High and Low\n",
    "# marks, which will later be overwritten with any sensible value for a tide\n",
    "# in metres. Example of this initialisation output:\n",
    "# {4: {'High': -100, 'Low': 100},\n",
    "#  5: {'High': -100, 'Low': 100},\n",
    "#  6: {'High': -100, 'Low': 100},\n",
    "#  7: {'High': -100, 'Low': 100}}\n",
    "water_marks = {}\n",
    "for d in unique_dates:\n",
    "    water_marks[d] = {'Low':100,'High':-100}\n",
    "    \n",
    "pprint.pprint(water_marks)"
   ]
  },
  {
   "cell_type": "code",
   "execution_count": 12,
   "id": "1fda419f-0ba8-4c9a-a16a-4ed734b761b8",
   "metadata": {},
   "outputs": [
    {
     "name": "stdout",
     "output_type": "stream",
     "text": [
      "{4: {'High': 3.7, 'Low': 0.7},\n",
      " 5: {'High': 6.5, 'Low': 0.2},\n",
      " 6: {'High': 3.8, 'Low': 0.6},\n",
      " 7: {'High': 3.7, 'Low': 0.6}}\n"
     ]
    }
   ],
   "source": [
    "# convert to the data class to an array. This is just for simplicity when walking the data.\n",
    "# Example of test_tides:\n",
    "# test_tides: [(4, 0, 'Low', 0.7, '01:08'), (4, 1, 'High', 3.4, '07:46'),...\n",
    "# The water_marks dict then compares the existing value (which may be the extreme initial value\n",
    "# or a \"sensible\" value) with the newer value. If a new high or low, then the dictionary updates.\n",
    "test_tides = [(int(mark.t_date), mark.t_seq, mark.t_type, float(mark.t_height), mark.t_time) for mark in tide_marks]\n",
    "\n",
    "for test_tide in test_tides:\n",
    "    test_date = test_tide[0]\n",
    "    test_type = test_tide[2]\n",
    "    new_height = test_tide[3]\n",
    "    \n",
    "    #print(water_marks[test_date])\n",
    "    #print(water_marks[test_date][test_type])\n",
    "    if  test_type == 'Low':\n",
    "        if  new_height < water_marks[test_date][test_type]:\n",
    "            water_marks[test_date][test_type] = new_height\n",
    "    else: # High\n",
    "        if  new_height > water_marks[test_date][test_type]:\n",
    "            water_marks[test_date][test_type] = new_height\n",
    "    \n",
    "pprint.pprint(water_marks)\n",
    "expected_values = {\n",
    "    4: {'High': 3.7, 'Low': 0.7},\n",
    "    5: {'High': 6.5, 'Low': 0.2},\n",
    "    6: {'High': 3.8, 'Low': 0.6},\n",
    "    7: {'High': 3.7, 'Low': 0.6}\n",
    "}\n",
    "\n",
    "assert(expected_values == water_marks)\n"
   ]
  },
  {
   "cell_type": "code",
   "execution_count": 13,
   "id": "ed566924-8be0-4362-aae7-246efe2a85b9",
   "metadata": {},
   "outputs": [
    {
     "name": "stdout",
     "output_type": "stream",
     "text": [
      "{4: {'High': 3.7, 'Low': 0.7, 'TidalRange': 3.0},\n",
      " 5: {'High': 6.5, 'Low': 0.2, 'TidalRange': 6.3},\n",
      " 6: {'High': 3.8, 'Low': 0.6, 'TidalRange': 3.2},\n",
      " 7: {'High': 3.7, 'Low': 0.6, 'TidalRange': 3.1}}\n"
     ]
    }
   ],
   "source": [
    "# get the tidal range\n",
    "for i in water_marks:\n",
    "    t_high = water_marks[i]['High']\n",
    "    t_low = water_marks[i]['Low']\n",
    "    water_marks[i]['TidalRange'] = round(t_high - t_low,2)\n",
    "pprint.pprint(water_marks)"
   ]
  },
  {
   "cell_type": "code",
   "execution_count": null,
   "id": "f2974ffa-7f47-4db8-b82f-1e5d6d704b52",
   "metadata": {},
   "outputs": [],
   "source": [
    "# Now that the objects are populated, we can loop over these to\n",
    "# create the csv for importing into a spreadsheet\n",
    "\n"
   ]
  }
 ],
 "metadata": {
  "kernelspec": {
   "display_name": "Python 3 (ipykernel)",
   "language": "python",
   "name": "python3"
  },
  "language_info": {
   "codemirror_mode": {
    "name": "ipython",
    "version": 3
   },
   "file_extension": ".py",
   "mimetype": "text/x-python",
   "name": "python",
   "nbconvert_exporter": "python",
   "pygments_lexer": "ipython3",
   "version": "3.12.0"
  }
 },
 "nbformat": 4,
 "nbformat_minor": 5
}
