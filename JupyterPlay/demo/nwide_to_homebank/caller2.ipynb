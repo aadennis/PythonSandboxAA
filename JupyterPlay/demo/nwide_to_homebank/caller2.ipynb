{
 "cells": [
  {
   "cell_type": "code",
   "execution_count": null,
   "metadata": {},
   "outputs": [],
   "source": [
    "from nw_to_homebank_csv_v2b import convert_nw_transactions\n",
    "from utility import read_env_var\n",
    "\n",
    "cc_txn_source_path = read_env_var('cc_txn_source_path')\n",
    "convert_nw_transactions(cc_txn_source_path)"
   ]
  }
 ],
 "metadata": {
  "kernelspec": {
   "display_name": ".venv",
   "language": "python",
   "name": "python3"
  },
  "language_info": {
   "codemirror_mode": {
    "name": "ipython",
    "version": 3
   },
   "file_extension": ".py",
   "mimetype": "text/x-python",
   "name": "python",
   "nbconvert_exporter": "python",
   "pygments_lexer": "ipython3",
   "version": "3.12.0"
  }
 },
 "nbformat": 4,
 "nbformat_minor": 2
}
