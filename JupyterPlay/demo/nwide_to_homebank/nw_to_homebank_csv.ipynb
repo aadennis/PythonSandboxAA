{
 "cells": [
  {
   "cell_type": "code",
   "execution_count": 21,
   "id": "0c588931-277c-4ab0-ada2-887ad4c47d01",
   "metadata": {},
   "outputs": [
    {
     "name": "stdout",
     "output_type": "stream",
     "text": [
      "got to the end\n"
     ]
    }
   ],
   "source": [
    "# pip install pandas\n",
    "import pandas as pd\n",
    "\n",
    "# Read input.csv, skipping the first 5 rows\n",
    "input_df = pd.read_csv(\"input.txt\", skiprows=4)\n",
    "\n",
    "# Process data and create the output DataFrame\n",
    "output_df = pd.DataFrame({\n",
    "    \"Date\": input_df[\"Date\"],\n",
    "    \"1\": 1,  # Literal value for field 2\n",
    "    \"info 1\": \"info 1\",  # Literal value for field 6\n",
    "    \"Transactions\": input_df[\"Transactions\"],\n",
    "    \"Location\": input_df[\"Location\"],\n",
    "    #\"Paid out\": input_df[\"Paid out\"].str.replace(\"£\", \"\").apply(lambda x: \"-\" + x if x else \"\"),\n",
    "    #\"Paid in\": input_df[\"Paid in\"].str.replace(\"£\", \"\").apply(lambda x: x if x else \"\"),\n",
    "    \"Paid out\": input_df[\"Paid out\"].str.replace(\"£\", \"\"),\n",
    "    \"Paid in\": input_df[\"Paid in\"].str.replace(\"£\", \"\"),\n",
    "    \"category\": \"category 1\",  # Literal value for field 7\n",
    "    \"Tags\": \"tag1 tag2\"  # Literal value for field 8\n",
    "})\n",
    "\n",
    "#output_df[\"Paid out2\"] = output_df[\"Paid out\"].apply(lambda x: \"-\" + x if x else \"\")\n",
    "\n",
    "output_df[\"Paido\"] = output_df[\"Paid out\"].astype(float)\n",
    "output_df.fillna(0,in\n",
    "\n",
    ".fillna(0,inplace=True)\n",
    "output_df[\"Paidi\"] = output_df[\"Paid in\"].astype(float).fillna(0,inplace=True)\n",
    "\n",
    "\n",
    "\n",
    "# Format the date column\n",
    "output_df[\"Date\"] = pd.to_datetime(output_df[\"Date\"]).dt.strftime(\"%y-%m-%d\")\n",
    "\n",
    "# Save output to output.csv\n",
    "output_df.to_csv(\"output.csv\", sep=\";\", index=False)\n",
    "\n",
    "print(\"got to the end\")\n"
   ]
  }
 ],
 "metadata": {
  "kernelspec": {
   "display_name": "Python 3 (ipykernel)",
   "language": "python",
   "name": "python3"
  },
  "language_info": {
   "codemirror_mode": {
    "name": "ipython",
    "version": 3
   },
   "file_extension": ".py",
   "mimetype": "text/x-python",
   "name": "python",
   "nbconvert_exporter": "python",
   "pygments_lexer": "ipython3",
   "version": "3.12.0"
  }
 },
 "nbformat": 4,
 "nbformat_minor": 5
}
