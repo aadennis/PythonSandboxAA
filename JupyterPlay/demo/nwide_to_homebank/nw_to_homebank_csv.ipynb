{
 "cells": [
  {
   "cell_type": "code",
   "execution_count": 3,
   "id": "0c588931-277c-4ab0-ada2-887ad4c47d01",
   "metadata": {},
   "outputs": [
    {
     "name": "stdout",
     "output_type": "stream",
     "text": [
      "       Date  payment type    info              Transactions Location   Paid  \\\n",
      "0  23-05-12             1  info 1  FOOTS OPTICIANS  PearPay  CARDIFF  -8.98   \n",
      "1  23-05-14             1  info 1           LIDL GB CARDIFF  MARDIFF  14.22   \n",
      "\n",
      "     category       Tags  \n",
      "0  category 1  tag1 tag2  \n",
      "1  category 1  tag1 tag2  \n",
      "got to the end\n"
     ]
    }
   ],
   "source": [
    "# Given a credit card csv file in Nationwide (UK) format,\n",
    "# generate a csv format acceptable to Homebank.\n",
    "# Nationwide excludes location data from its ofx output,\n",
    "# hence no ofx conversion here.\n",
    "# Given the total absence of good practice here, there are \n",
    "# many todos.\n",
    "\n",
    "# include these in requirements.txt:\n",
    "import pandas as pd\n",
    "import pprint\n",
    "\n",
    "input_df = pd.read_csv(\"input.txt\", skiprows=4)\n",
    "\n",
    "# Process data and create the output DataFrame\n",
    "output_df = pd.DataFrame({\n",
    "    \"Date\": input_df[\"Date\"],\n",
    "    \"payment type\": 1,  # placeholder\n",
    "    \"info\": \"info 1\",  # placeholder\n",
    "    \"Transactions\": input_df[\"Transactions\"],\n",
    "    \"Location\": input_df[\"Location\"],\n",
    "    \"Paid out\": input_df[\"Paid out\"].str.replace(\"£\", \"\"),\n",
    "    \"Paid in\": input_df[\"Paid in\"].str.replace(\"£\", \"\"),\n",
    "    \"category\": \"category 1\",  # placeholder\n",
    "    \"Tags\": \"tag1 tag2\"  # placeholder\n",
    "})\n",
    "\n",
    "# Do the more complex stuff in a second pass\n",
    "output_df.fillna(0,inplace=True)\n",
    "output_df[\"Paid out\"] = output_df[\"Paid out\"].astype(float)\n",
    "output_df[\"Paid in\"] = output_df[\"Paid in\"].astype(float)\n",
    "output_df[\"Paid\"] = output_df.apply(lambda row: (row[\"Paid out\"] * -1) if row[\"Paid out\"] > 0.0 else row[\"Paid in\"], axis = 1)\n",
    "output_df[\"Date\"] = pd.to_datetime(output_df[\"Date\"]).dt.strftime(\"%y-%m-%d\")\n",
    "\n",
    "# Finally in a form that HomeBank can ingest:\n",
    "columns_to_delete = [\"Paid out\", \"Paid in\"] \n",
    "output_df.drop(columns=columns_to_delete, inplace=True)\n",
    "desired_order = [0,1,2,3,4,7,5,6]\n",
    "output_df = output_df.iloc[:, desired_order]\n",
    "\n",
    "pprint.pprint(output_df) # debug\n",
    "\n",
    "output_df.to_csv(\"output.csv\", sep=\";\", index=False, header=False)\n",
    "\n",
    "print(\"got to the end\")\n"
   ]
  }
 ],
 "metadata": {
  "kernelspec": {
   "display_name": "Python 3 (ipykernel)",
   "language": "python",
   "name": "python3"
  },
  "language_info": {
   "codemirror_mode": {
    "name": "ipython",
    "version": 3
   },
   "file_extension": ".py",
   "mimetype": "text/x-python",
   "name": "python",
   "nbconvert_exporter": "python",
   "pygments_lexer": "ipython3",
   "version": "3.12.0"
  }
 },
 "nbformat": 4,
 "nbformat_minor": 5
}
