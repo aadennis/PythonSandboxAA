{
 "cells": [
  {
   "cell_type": "markdown",
   "id": "c6f89923",
   "metadata": {},
   "source": [
    "<h1>Nationwide credit card statements</h1>\n",
    "<h2>Converting from csv format, for import into HomeBank money manager</h2>\n"
   ]
  },
  {
   "cell_type": "code",
   "execution_count": null,
   "id": "fcd5d984",
   "metadata": {},
   "outputs": [],
   "source": [
    "from IPython.display import display, HTML \n",
    "from nw_to_homebank_csv import convert_nw_transactions\n",
    "from utility import read_env_var\n",
    "\n",
    "cc_txn_source_path = read_env_var('cc_txn_source_path')\n",
    "df = convert_nw_transactions(cc_txn_source_path)\n",
    "html_table = df.to_html(index=False, classes='table table-striped')\n",
    "display(HTML(html_table))\n"
   ]
  },
  {
   "cell_type": "code",
   "execution_count": null,
   "id": "cf77e685-999e-4647-b550-1786c0e18194",
   "metadata": {},
   "outputs": [],
   "source": []
  }
 ],
 "metadata": {
  "kernelspec": {
   "display_name": "Python 3 (ipykernel)",
   "language": "python",
   "name": "python3"
  },
  "language_info": {
   "codemirror_mode": {
    "name": "ipython",
    "version": 3
   },
   "file_extension": ".py",
   "mimetype": "text/x-python",
   "name": "python",
   "nbconvert_exporter": "python",
   "pygments_lexer": "ipython3",
   "version": "3.12.0"
  }
 },
 "nbformat": 4,
 "nbformat_minor": 5
}
