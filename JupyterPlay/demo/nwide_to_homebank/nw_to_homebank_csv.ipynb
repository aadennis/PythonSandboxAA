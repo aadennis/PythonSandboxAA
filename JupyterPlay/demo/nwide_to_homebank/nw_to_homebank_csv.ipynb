{
 "cells": [
  {
   "cell_type": "markdown",
   "id": "c6f89923",
   "metadata": {},
   "source": [
    "<h1>DEPRECATED! - DIRECTLY CALL NW_TO_HOMEBANK_CSV.PY.MAIN()</h1>\n",
    "<h1>Nationwide credit card statements</h1>\n",
    "<h2>Converting from csv format, for import into HomeBank money manager</h2>\n"
   ]
  },
  {
   "cell_type": "code",
   "execution_count": 1,
   "id": "fcd5d984",
   "metadata": {},
   "outputs": [
    {
     "name": "stdout",
     "output_type": "stream",
     "text": [
      "D:\\onedrive\\data\\HouseHold\\CreditCard\\NationwideCC\\\n"
     ]
    },
    {
     "ename": "TypeError",
     "evalue": "convert_nw_transactions() missing 1 required positional argument: 'nw_csv_file'",
     "output_type": "error",
     "traceback": [
      "\u001b[1;31m---------------------------------------------------------------------------\u001b[0m",
      "\u001b[1;31mTypeError\u001b[0m                                 Traceback (most recent call last)",
      "Cell \u001b[1;32mIn[1], line 6\u001b[0m\n\u001b[0;32m      3\u001b[0m \u001b[38;5;28;01mfrom\u001b[39;00m \u001b[38;5;21;01mutility\u001b[39;00m \u001b[38;5;28;01mimport\u001b[39;00m read_env_var\n\u001b[0;32m      5\u001b[0m cc_txn_source_path \u001b[38;5;241m=\u001b[39m read_env_var(\u001b[38;5;124m'\u001b[39m\u001b[38;5;124mcc_txn_source_path\u001b[39m\u001b[38;5;124m'\u001b[39m)\n\u001b[1;32m----> 6\u001b[0m df \u001b[38;5;241m=\u001b[39m \u001b[43mconvert_nw_transactions\u001b[49m\u001b[43m(\u001b[49m\u001b[43mcc_txn_source_path\u001b[49m\u001b[43m)\u001b[49m\n\u001b[0;32m      7\u001b[0m html_table \u001b[38;5;241m=\u001b[39m df\u001b[38;5;241m.\u001b[39mto_html(index\u001b[38;5;241m=\u001b[39m\u001b[38;5;28;01mFalse\u001b[39;00m, classes\u001b[38;5;241m=\u001b[39m\u001b[38;5;124m'\u001b[39m\u001b[38;5;124mtable table-striped\u001b[39m\u001b[38;5;124m'\u001b[39m)\n\u001b[0;32m      8\u001b[0m display(HTML(html_table))\n",
      "\u001b[1;31mTypeError\u001b[0m: convert_nw_transactions() missing 1 required positional argument: 'nw_csv_file'"
     ]
    }
   ],
   "source": [
    "from IPython.display import display, HTML \n",
    "from nw_to_homebank_csv import convert_nw_transactions\n",
    "from utility import read_env_var\n",
    "\n",
    "cc_txn_source_path = read_env_var('cc_txn_source_path')\n",
    "df = convert_nw_transactions(cc_txn_source_path)\n",
    "html_table = df.to_html(index=False, classes='table table-striped')\n",
    "display(HTML(html_table))\n"
   ]
  },
  {
   "cell_type": "code",
   "execution_count": null,
   "id": "cf77e685-999e-4647-b550-1786c0e18194",
   "metadata": {},
   "outputs": [],
   "source": []
  }
 ],
 "metadata": {
  "kernelspec": {
   "display_name": "Python 3",
   "language": "python",
   "name": "python3"
  },
  "language_info": {
   "codemirror_mode": {
    "name": "ipython",
    "version": 3
   },
   "file_extension": ".py",
   "mimetype": "text/x-python",
   "name": "python",
   "nbconvert_exporter": "python",
   "pygments_lexer": "ipython3",
   "version": "3.12.0"
  }
 },
 "nbformat": 4,
 "nbformat_minor": 5
}
