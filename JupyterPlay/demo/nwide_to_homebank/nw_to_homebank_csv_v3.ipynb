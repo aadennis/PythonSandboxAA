{
 "cells": [
  {
   "cell_type": "markdown",
   "id": "f21164f8",
   "metadata": {},
   "source": [
    "<h1>Converting credit card transactions to Homebank format</h1>\n",
    "<h2>Input format: Nationwide (UK) CSV</h2>\n",
    "<hr>\n"
   ]
  },
  {
   "cell_type": "markdown",
   "id": "cb248912-5b3d-436e-b4f6-7e78586eb72f",
   "metadata": {},
   "source": [
    "Given a credit card csv file in Nationwide (UK) format, generate a csv format acceptable to Homebank.  \n",
    "Nationwide excludes location data from its ofx output, hence no ofx conversion here.  \n",
    "Homebank - it turns out that the [info] and [tag] fields are never exported to the QIF format. But they can be exported as the native .XHB format, so may have some value.\n",
    "\n",
    "<code>get-content -Path .\\(wildcard) > \n",
    "e.g. get-content -Path .\\*x2*csv > ./nw_all.csv\n",
    "</code>\n",
    "<hr>\n"
   ]
  },
  {
   "cell_type": "code",
   "execution_count": null,
   "id": "0c588931-277c-4ab0-ada2-887ad4c47d01",
   "metadata": {},
   "outputs": [],
   "source": [
    "# include these in requirements.txt:\n",
    "import pandas as pd\n",
    "from pprint import pprint\n",
    "import glob\n",
    "import os"
   ]
  },
  {
   "cell_type": "code",
   "execution_count": null,
   "id": "a2139a41",
   "metadata": {},
   "outputs": [],
   "source": [
    "from datetime import datetime\n",
    "from utility import read_config"
   ]
  },
  {
   "cell_type": "markdown",
   "id": "08cf64fd-cff7-4c23-ae57-988e5ae754d1",
   "metadata": {},
   "source": [
    "<code>convert_nw_to_homebank_csv</code>\n",
    "- Get the file content into a df.\n",
    "    - Note the encoding as delivered by Nationwide.\n",
    "- Do basic data manipulation  \n",
    "    - Keep the header row from the input file, in order to match  input (source bank) and output (Homebank required format) columns correctly\n",
    "- More complex processing\n",
    "    -  Record location of first and last statements in a transaction. This is useful to separate one statement from another, visually\n",
    "    -  Position the df columns as expected by HomeBank\n",
    "- Write a HomeBank-compliant file back out\n"
   ]
  },
  {
   "cell_type": "code",
   "execution_count": null,
   "id": "00b7a83a",
   "metadata": {},
   "outputs": [],
   "source": [
    "def convert_nw_to_homebank_csv(in_file, out_file):\n",
    "    \n",
    "    nw_encoding = 'cp1252'\n",
    "    input_df = pd.read_csv(in_file, skiprows=4, encoding=nw_encoding)\n",
    "\n",
    "    # perform basic data manipulation\n",
    "    output_df = pd.DataFrame({\n",
    "        \"Date\": pd.to_datetime(input_df[\"Date\"], format=\"%d %b %Y\"),\n",
    "        \"payment type\": 1,  # placeholder\n",
    "        \"info\": \"info 1\",  # placeholder\n",
    "        \"Transactions\": input_df[\"Transactions\"].str.capitalize(),\n",
    "        \"Location\": input_df[\"Location\"],\n",
    "        \"Paid out\": input_df[\"Paid out\"].astype(str).str.replace(\"£\", \"\"),\n",
    "        \"Paid in\": input_df[\"Paid in\"].astype(str).str.replace(\"£\", \"\"),\n",
    "        \"category\": \"category 1\",  # placeholder\n",
    "        \"Tags\": \"tag1 tag2\"  # placeholder\n",
    "    })\n",
    "\n",
    "    output_df.loc[0, 'info'] = 'First transaction in statement'\n",
    "    output_df.loc[output_df.index[-1],\n",
    "                  'info'] = 'Last transaction in statement'\n",
    "    output_df = format_paid_columns(output_df)\n",
    "\n",
    "    desired_order = [0, 1, 2, 3, 4, 7, 5, 6]\n",
    "    output_df = output_df.iloc[:, desired_order]\n",
    "\n",
    "    pprint(output_df)  # debug\n",
    "    output_df.to_csv(out_file, sep=\";\", index=False, header=False)"
   ]
  },
  {
   "cell_type": "markdown",
   "id": "16ba3ff4-89cf-4b8a-b01e-d95029a5fb1d",
   "metadata": {},
   "source": [
    "Values in the Paid out and Paid in columns are mutually exclusive.  \n",
    "Write the not-null value to a Paid column, and drop the original columns."
   ]
  },
  {
   "cell_type": "code",
   "execution_count": null,
   "id": "c233331d",
   "metadata": {},
   "outputs": [],
   "source": [
    "def format_paid_columns(df):\n",
    "    df.fillna(0, inplace=True)\n",
    "    df[\"Paid out\"] = df[\"Paid out\"].astype(float)\n",
    "    df[\"Paid in\"] = df[\"Paid in\"].astype(float)\n",
    "    df[\"Paid\"] = df.apply(lambda row: (row[\"Paid out\"] * -1)\n",
    "                           if row[\"Paid out\"] > 0.0 else row[\"Paid in\"], axis=1)\n",
    "    # original Paid columns can now be dropped\n",
    "    columns_to_delete = [\"Paid out\", \"Paid in\"]\n",
    "    df.drop(columns=columns_to_delete, inplace=True)\n",
    "\n",
    "    pprint(df)\n",
    "    return df"
   ]
  },
  {
   "cell_type": "code",
   "execution_count": null,
   "id": "157f34bf",
   "metadata": {},
   "outputs": [],
   "source": [
    "def convert_nw_transactions():\n",
    "    config_data = read_config()\n",
    "    in_dir = config_data['cc_txn_source_path']\n",
    "    for f in glob.iglob(f'{in_dir}/*Statement Download*.csv'):\n",
    "        print(f)\n",
    "        file_name = os.path.basename(f)\n",
    "        out_file = f'{in_dir}/{file_name[0:2]}_outputx.csv'\n",
    "        print(out_file)\n",
    "        convert_nw_to_homebank_csv(f, out_file)"
   ]
  },
  {
   "cell_type": "markdown",
   "id": "b175b4b7",
   "metadata": {
    "lines_to_next_cell": 2
   },
   "source": [
    "- refactor for testing wip..."
   ]
  },
  {
   "cell_type": "code",
   "execution_count": null,
   "id": "a0413ae1",
   "metadata": {},
   "outputs": [],
   "source": [
    "def read_nw_csv(file_path, encoding='CP1252'):\n",
    "    \"\"\"Reads the Nationwide CSV file and returns a DataFrame.\"\"\"\n",
    "    if not os.path.exists(file_path):\n",
    "        raise FileNotFoundError(f\"File '{file_path}' does not exist.\")\n",
    "    return pd.read_csv(file_path, skiprows=4, encoding=encoding)"
   ]
  },
  {
   "cell_type": "code",
   "execution_count": null,
   "id": "f9fc9d54",
   "metadata": {},
   "outputs": [],
   "source": [
    "def preprocess_data(input_df):\n",
    "    \"\"\"Performs basic data manipulation on the input DataFrame.\"\"\"\n",
    "    output_df = pd.DataFrame({\n",
    "        \"Date\": pd.to_datetime(input_df[\"Date\"], format=\"%d %b %Y\"),\n",
    "        \"payment type\": 1,  # placeholder\n",
    "        \"info\": \"info 1\",  # placeholder\n",
    "        \"Transactions\": input_df[\"Transactions\"].str.capitalize(),\n",
    "        \"Location\": input_df[\"Location\"],\n",
    "        \"Paid out\": input_df[\"Paid out\"].astype(str).str.replace(\"£\", \"\"),\n",
    "        \"Paid in\": input_df[\"Paid in\"].astype(str).str.replace(\"£\", \"\"),\n",
    "        \"category\": \"category 1\",  # placeholder\n",
    "        \"Tags\": \"tag1 tag2\"  # placeholder\n",
    "    })\n",
    "    return output_df"
   ]
  },
  {
   "cell_type": "code",
   "execution_count": null,
   "id": "11a51150",
   "metadata": {},
   "outputs": [],
   "source": [
    "def add_transaction_info(output_df):\n",
    "    \"\"\"Adds transaction info to the output DataFrame.\"\"\"\n",
    "    output_df.loc[0, 'info'] = 'First transaction in statement'\n",
    "    output_df.loc[output_df.index[-1],\n",
    "                  'info'] = 'Last transaction in statement'\n",
    "    return output_df"
   ]
  },
  {
   "cell_type": "code",
   "execution_count": null,
   "id": "8362671e",
   "metadata": {},
   "outputs": [],
   "source": [
    "def reorder_columns(output_df):\n",
    "    \"\"\"Reorders columns in the output DataFrame.\"\"\"\n",
    "    desired_order = [0, 1, 2, 3, 4, 7, 5, 6]\n",
    "    return output_df.iloc[:, desired_order]"
   ]
  },
  {
   "cell_type": "code",
   "execution_count": null,
   "id": "716cb5b7",
   "metadata": {},
   "outputs": [],
   "source": [
    "def convert_nw_to_homebank_csv_v2(in_file, out_file):\n",
    "    input_df = read_nw_csv(in_file)\n",
    "    output_df = preprocess_data(input_df)\n",
    "    output_df = add_transaction_info(output_df)\n",
    "    output_df.info()\n",
    "    output_df = format_paid_columns(output_df)\n",
    "    output_df.info()\n",
    "    output_df = handle_special_payees(output_df)\n",
    "    pprint(output_df)\n",
    "    output_df = reorder_columns(output_df)\n",
    "    pprint(output_df)\n",
    "    output_df.to_csv(out_file, sep=\";\", index=False, header=False)"
   ]
  },
  {
   "cell_type": "markdown",
   "id": "39bfacef",
   "metadata": {},
   "source": [
    "In convert_nw_transactions_v2, this reads all csv files found in the \n",
    "configured folder 'cc_txn_source_path', and which include the string\n",
    "[Statement Download]"
   ]
  },
  {
   "cell_type": "code",
   "execution_count": null,
   "id": "22eda44c",
   "metadata": {},
   "outputs": [],
   "source": [
    "def convert_nw_transactions_v2():\n",
    "    config_data = read_config()\n",
    "    in_dir = config_data['cc_txn_source_path']\n",
    "    print(in_dir)\n",
    "    for f in glob.iglob(f'{in_dir}/*Statement Download*25 .csv'):\n",
    "        print(f)\n",
    "        file_name = os.path.basename(f)\n",
    "        out_file = f'{in_dir}/{file_name[0:2]}_outputx2.csv'\n",
    "        print(out_file)\n",
    "        convert_nw_to_homebank_csv_v2(f, out_file)\n",
    "        print(f'output file: [{out_file}]')"
   ]
  },
  {
   "cell_type": "code",
   "execution_count": null,
   "id": "70866430",
   "metadata": {
    "lines_to_next_cell": 1
   },
   "outputs": [],
   "source": [
    "def handle_special_payees(df):\n",
    "    # Some frequent payees have sub-divisions which categorize\n",
    "    # them, once you know the pattern... which is quite simple,\n",
    "    # frequently\n",
    "\n",
    "    df['Transactions'] = df['Transactions'].apply(\n",
    "        # Amazon and its variants\n",
    "        lambda x: 'Amazon' if x.startswith('Amazon') or x.startswith('Amzn') or x.startswith('Www.amazon') else x)\n",
    "    # Flag Direct Debit Payment as Category 11 for Homebank purposes\n",
    "    df['payment type'] = df['Transactions'].apply(\n",
    "        lambda x: '11' if x.startswith('DIRECT DEBIT PAYMENT') else '1')\n",
    "    return df"
   ]
  },
  {
   "cell_type": "markdown",
   "id": "7e79cebd",
   "metadata": {},
   "source": [
    "<h3>Entry point</h3>"
   ]
  },
  {
   "cell_type": "code",
   "execution_count": null,
   "id": "058d31c4",
   "metadata": {},
   "outputs": [],
   "source": [
    "# Example usage:\n",
    "if __name__ == \"__main__\":\n",
    "    config = read_config()\n",
    "\n",
    "    #convert_nw_to_home\n",
    "    # bank_csv_v2(\"input_nw.csv\", \"output_homebank.csv\")\n",
    "    convert_nw_transactions_v2()\n",
    "   "
   ]
  }
 ],
 "metadata": {
  "jupytext": {
   "cell_metadata_filter": "-all",
   "formats": "ipynb,py",
   "main_language": "python"
  },
  "kernelspec": {
   "display_name": ".venv",
   "language": "python",
   "name": "python3"
  },
  "language_info": {
   "codemirror_mode": {
    "name": "ipython",
    "version": 3
   },
   "file_extension": ".py",
   "mimetype": "text/x-python",
   "name": "python",
   "nbconvert_exporter": "python",
   "pygments_lexer": "ipython3",
   "version": "3.12.0"
  }
 },
 "nbformat": 4,
 "nbformat_minor": 5
}
