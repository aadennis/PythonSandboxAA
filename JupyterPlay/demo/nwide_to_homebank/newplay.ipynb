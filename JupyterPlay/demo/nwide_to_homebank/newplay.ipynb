{
 "cells": [
  {
   "cell_type": "code",
   "execution_count": 20,
   "metadata": {},
   "outputs": [
    {
     "name": "stdout",
     "output_type": "stream",
     "text": [
      "   record_number    name date_of_birth\n",
      "0              1   Chris    1997-01-03\n",
      "1              2  Albert    1954-03-22\n"
     ]
    }
   ],
   "source": [
    "import pandas as pd\n",
    "\n",
    "data = {\n",
    "\"record_number\":[1,2],\n",
    "\"name\":[\"Chris\",\"Albert\"],\n",
    "\"date_of_birth\":[\"1997-01-03\",\"1954-03-22\"]\n",
    "}\n",
    "\n",
    "df = pd.DataFrame(data)\n",
    "#df[\"date_of_birth2\"] = pd.to_datetime(df[\"date_of_birth\"], format=\"%y-%m-%d\")\n",
    "\n",
    "print(df)"
   ]
  },
  {
   "cell_type": "code",
   "execution_count": null,
   "metadata": {},
   "outputs": [],
   "source": []
  },
  {
   "cell_type": "code",
   "execution_count": null,
   "metadata": {},
   "outputs": [],
   "source": []
  }
 ],
 "metadata": {
  "kernelspec": {
   "display_name": "Python 3 (ipykernel)",
   "language": "python",
   "name": "python3"
  },
  "language_info": {
   "codemirror_mode": {
    "name": "ipython",
    "version": 3
   },
   "file_extension": ".py",
   "mimetype": "text/x-python",
   "name": "python",
   "nbconvert_exporter": "python",
   "pygments_lexer": "ipython3",
   "version": "3.12.2"
  }
 },
 "nbformat": 4,
 "nbformat_minor": 4
}
